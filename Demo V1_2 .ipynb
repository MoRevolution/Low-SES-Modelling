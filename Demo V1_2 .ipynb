{
 "cells": [
  {
   "cell_type": "markdown",
   "metadata": {},
   "source": [
    "## Import Required Libraries"
   ]
  },
  {
   "cell_type": "code",
   "execution_count": 19,
   "metadata": {},
   "outputs": [],
   "source": [
    "import numpy as np\n",
    "import json\n",
    "import glob\n",
    "import re\n",
    "\n",
    "#Gensim\n",
    "import gensim\n",
    "import gensim.corpora as corpora\n",
    "from gensim.utils import simple_preprocess\n",
    "from gensim.models import CoherenceModel\n",
    "from gensim.corpora import Dictionary\n",
    "from gensim.models import LdaModel\n",
    "\n",
    "#spacy\n",
    "import spacy\n",
    "from nltk.corpus import stopwords\n",
    "from nltk.tokenize import sent_tokenize\n",
    "from nltk.stem.wordnet import WordNetLemmatizer\n",
    "\n",
    "#vis\n",
    "import pyLDAvis\n",
    "import pyLDAvis.gensim_models\n",
    "#nltk.download(punkt)\n",
    "#nltk.download(wordnet) \n"
   ]
  },
  {
   "cell_type": "markdown",
   "metadata": {},
   "source": [
    "### Data Input "
   ]
  },
  {
   "cell_type": "code",
   "execution_count": 6,
   "metadata": {},
   "outputs": [
    {
     "name": "stdout",
     "output_type": "stream",
     "text": [
      "My mum had me at 15 years. No idea who my dad is. I grew up with a single mum who would spend every \n"
     ]
    }
   ],
   "source": [
    "def load_data(file):\n",
    "    with open (file, \"r\", encoding=\"utf-8\") as f:\n",
    "        data = json.load(f) \n",
    "    return (data)\n",
    "\n",
    "def write_data(file, data):\n",
    "    with open (file, \"w\", encoding=\"utf-8\") as f:\n",
    "        json.dump(data, f, indent=4)\n",
    "stories = load_data(\"local_data.json\")[\"File\"]\n",
    "print(stories[0][:100])\n"
   ]
  },
  {
   "cell_type": "markdown",
   "metadata": {},
   "source": [
    "### Pre-process and vectorize the documents "
   ]
  },
  {
   "cell_type": "code",
   "execution_count": 7,
   "metadata": {
    "collapsed": true,
    "id": "MFyKGQ-x3IZV"
   },
   "outputs": [
    {
     "name": "stderr",
     "output_type": "stream",
     "text": [
      "C:\\Users\\MoRevolution\\AppData\\Roaming\\Python\\Python310\\site-packages\\catalogue\\__init__.py:135: DeprecationWarning: SelectableGroups dict interface is deprecated. Use select.\n",
      "  for entry_point in AVAILABLE_ENTRY_POINTS.get(self.entry_point_namespace, []):\n",
      "C:\\Users\\MoRevolution\\AppData\\Roaming\\Python\\Python310\\site-packages\\catalogue\\__init__.py:135: DeprecationWarning: SelectableGroups dict interface is deprecated. Use select.\n",
      "  for entry_point in AVAILABLE_ENTRY_POINTS.get(self.entry_point_namespace, []):\n",
      "C:\\Users\\MoRevolution\\AppData\\Roaming\\Python\\Python310\\site-packages\\catalogue\\__init__.py:135: DeprecationWarning: SelectableGroups dict interface is deprecated. Use select.\n",
      "  for entry_point in AVAILABLE_ENTRY_POINTS.get(self.entry_point_namespace, []):\n",
      "C:\\Users\\MoRevolution\\AppData\\Roaming\\Python\\Python310\\site-packages\\catalogue\\__init__.py:135: DeprecationWarning: SelectableGroups dict interface is deprecated. Use select.\n",
      "  for entry_point in AVAILABLE_ENTRY_POINTS.get(self.entry_point_namespace, []):\n",
      "C:\\Users\\MoRevolution\\AppData\\Roaming\\Python\\Python310\\site-packages\\catalogue\\__init__.py:123: DeprecationWarning: SelectableGroups dict interface is deprecated. Use select.\n",
      "  for entry_point in AVAILABLE_ENTRY_POINTS.get(self.entry_point_namespace, []):\n",
      "C:\\Users\\MoRevolution\\AppData\\Roaming\\Python\\Python310\\site-packages\\catalogue\\__init__.py:123: DeprecationWarning: SelectableGroups dict interface is deprecated. Use select.\n",
      "  for entry_point in AVAILABLE_ENTRY_POINTS.get(self.entry_point_namespace, []):\n",
      "C:\\Users\\MoRevolution\\AppData\\Roaming\\Python\\Python310\\site-packages\\catalogue\\__init__.py:135: DeprecationWarning: SelectableGroups dict interface is deprecated. Use select.\n",
      "  for entry_point in AVAILABLE_ENTRY_POINTS.get(self.entry_point_namespace, []):\n",
      "C:\\Users\\MoRevolution\\AppData\\Roaming\\Python\\Python310\\site-packages\\catalogue\\__init__.py:135: DeprecationWarning: SelectableGroups dict interface is deprecated. Use select.\n",
      "  for entry_point in AVAILABLE_ENTRY_POINTS.get(self.entry_point_namespace, []):\n",
      "C:\\Users\\MoRevolution\\AppData\\Roaming\\Python\\Python310\\site-packages\\catalogue\\__init__.py:135: DeprecationWarning: SelectableGroups dict interface is deprecated. Use select.\n",
      "  for entry_point in AVAILABLE_ENTRY_POINTS.get(self.entry_point_namespace, []):\n",
      "C:\\Users\\MoRevolution\\AppData\\Roaming\\Python\\Python310\\site-packages\\catalogue\\__init__.py:135: DeprecationWarning: SelectableGroups dict interface is deprecated. Use select.\n",
      "  for entry_point in AVAILABLE_ENTRY_POINTS.get(self.entry_point_namespace, []):\n",
      "C:\\Users\\MoRevolution\\AppData\\Roaming\\Python\\Python310\\site-packages\\catalogue\\__init__.py:135: DeprecationWarning: SelectableGroups dict interface is deprecated. Use select.\n",
      "  for entry_point in AVAILABLE_ENTRY_POINTS.get(self.entry_point_namespace, []):\n",
      "C:\\Users\\MoRevolution\\AppData\\Roaming\\Python\\Python310\\site-packages\\catalogue\\__init__.py:135: DeprecationWarning: SelectableGroups dict interface is deprecated. Use select.\n",
      "  for entry_point in AVAILABLE_ENTRY_POINTS.get(self.entry_point_namespace, []):\n",
      "C:\\Users\\MoRevolution\\AppData\\Roaming\\Python\\Python310\\site-packages\\catalogue\\__init__.py:135: DeprecationWarning: SelectableGroups dict interface is deprecated. Use select.\n",
      "  for entry_point in AVAILABLE_ENTRY_POINTS.get(self.entry_point_namespace, []):\n",
      "C:\\Users\\MoRevolution\\AppData\\Roaming\\Python\\Python310\\site-packages\\catalogue\\__init__.py:135: DeprecationWarning: SelectableGroups dict interface is deprecated. Use select.\n",
      "  for entry_point in AVAILABLE_ENTRY_POINTS.get(self.entry_point_namespace, []):\n",
      "C:\\Users\\MoRevolution\\AppData\\Roaming\\Python\\Python310\\site-packages\\catalogue\\__init__.py:135: DeprecationWarning: SelectableGroups dict interface is deprecated. Use select.\n",
      "  for entry_point in AVAILABLE_ENTRY_POINTS.get(self.entry_point_namespace, []):\n",
      "C:\\Users\\MoRevolution\\AppData\\Roaming\\Python\\Python310\\site-packages\\catalogue\\__init__.py:135: DeprecationWarning: SelectableGroups dict interface is deprecated. Use select.\n",
      "  for entry_point in AVAILABLE_ENTRY_POINTS.get(self.entry_point_namespace, []):\n",
      "C:\\Users\\MoRevolution\\AppData\\Roaming\\Python\\Python310\\site-packages\\catalogue\\__init__.py:135: DeprecationWarning: SelectableGroups dict interface is deprecated. Use select.\n",
      "  for entry_point in AVAILABLE_ENTRY_POINTS.get(self.entry_point_namespace, []):\n",
      "C:\\Users\\MoRevolution\\AppData\\Roaming\\Python\\Python310\\site-packages\\catalogue\\__init__.py:135: DeprecationWarning: SelectableGroups dict interface is deprecated. Use select.\n",
      "  for entry_point in AVAILABLE_ENTRY_POINTS.get(self.entry_point_namespace, []):\n",
      "C:\\Users\\MoRevolution\\AppData\\Roaming\\Python\\Python310\\site-packages\\catalogue\\__init__.py:135: DeprecationWarning: SelectableGroups dict interface is deprecated. Use select.\n",
      "  for entry_point in AVAILABLE_ENTRY_POINTS.get(self.entry_point_namespace, []):\n",
      "C:\\Users\\MoRevolution\\AppData\\Roaming\\Python\\Python310\\site-packages\\catalogue\\__init__.py:135: DeprecationWarning: SelectableGroups dict interface is deprecated. Use select.\n",
      "  for entry_point in AVAILABLE_ENTRY_POINTS.get(self.entry_point_namespace, []):\n",
      "C:\\Users\\MoRevolution\\AppData\\Roaming\\Python\\Python310\\site-packages\\catalogue\\__init__.py:135: DeprecationWarning: SelectableGroups dict interface is deprecated. Use select.\n",
      "  for entry_point in AVAILABLE_ENTRY_POINTS.get(self.entry_point_namespace, []):\n",
      "C:\\Users\\MoRevolution\\AppData\\Roaming\\Python\\Python310\\site-packages\\catalogue\\__init__.py:135: DeprecationWarning: SelectableGroups dict interface is deprecated. Use select.\n",
      "  for entry_point in AVAILABLE_ENTRY_POINTS.get(self.entry_point_namespace, []):\n",
      "C:\\Users\\MoRevolution\\AppData\\Roaming\\Python\\Python310\\site-packages\\catalogue\\__init__.py:135: DeprecationWarning: SelectableGroups dict interface is deprecated. Use select.\n",
      "  for entry_point in AVAILABLE_ENTRY_POINTS.get(self.entry_point_namespace, []):\n",
      "C:\\Users\\MoRevolution\\AppData\\Roaming\\Python\\Python310\\site-packages\\catalogue\\__init__.py:135: DeprecationWarning: SelectableGroups dict interface is deprecated. Use select.\n",
      "  for entry_point in AVAILABLE_ENTRY_POINTS.get(self.entry_point_namespace, []):\n",
      "C:\\Users\\MoRevolution\\AppData\\Roaming\\Python\\Python310\\site-packages\\catalogue\\__init__.py:135: DeprecationWarning: SelectableGroups dict interface is deprecated. Use select.\n",
      "  for entry_point in AVAILABLE_ENTRY_POINTS.get(self.entry_point_namespace, []):\n",
      "C:\\Users\\MoRevolution\\AppData\\Roaming\\Python\\Python310\\site-packages\\catalogue\\__init__.py:135: DeprecationWarning: SelectableGroups dict interface is deprecated. Use select.\n",
      "  for entry_point in AVAILABLE_ENTRY_POINTS.get(self.entry_point_namespace, []):\n",
      "C:\\Users\\MoRevolution\\AppData\\Roaming\\Python\\Python310\\site-packages\\catalogue\\__init__.py:135: DeprecationWarning: SelectableGroups dict interface is deprecated. Use select.\n",
      "  for entry_point in AVAILABLE_ENTRY_POINTS.get(self.entry_point_namespace, []):\n",
      "C:\\Users\\MoRevolution\\AppData\\Roaming\\Python\\Python310\\site-packages\\catalogue\\__init__.py:135: DeprecationWarning: SelectableGroups dict interface is deprecated. Use select.\n",
      "  for entry_point in AVAILABLE_ENTRY_POINTS.get(self.entry_point_namespace, []):\n",
      "C:\\Users\\MoRevolution\\AppData\\Roaming\\Python\\Python310\\site-packages\\catalogue\\__init__.py:135: DeprecationWarning: SelectableGroups dict interface is deprecated. Use select.\n",
      "  for entry_point in AVAILABLE_ENTRY_POINTS.get(self.entry_point_namespace, []):\n",
      "C:\\Users\\MoRevolution\\AppData\\Roaming\\Python\\Python310\\site-packages\\catalogue\\__init__.py:135: DeprecationWarning: SelectableGroups dict interface is deprecated. Use select.\n",
      "  for entry_point in AVAILABLE_ENTRY_POINTS.get(self.entry_point_namespace, []):\n",
      "C:\\Users\\MoRevolution\\AppData\\Roaming\\Python\\Python310\\site-packages\\catalogue\\__init__.py:135: DeprecationWarning: SelectableGroups dict interface is deprecated. Use select.\n",
      "  for entry_point in AVAILABLE_ENTRY_POINTS.get(self.entry_point_namespace, []):\n",
      "C:\\Users\\MoRevolution\\AppData\\Roaming\\Python\\Python310\\site-packages\\catalogue\\__init__.py:135: DeprecationWarning: SelectableGroups dict interface is deprecated. Use select.\n",
      "  for entry_point in AVAILABLE_ENTRY_POINTS.get(self.entry_point_namespace, []):\n",
      "C:\\Users\\MoRevolution\\AppData\\Roaming\\Python\\Python310\\site-packages\\catalogue\\__init__.py:135: DeprecationWarning: SelectableGroups dict interface is deprecated. Use select.\n",
      "  for entry_point in AVAILABLE_ENTRY_POINTS.get(self.entry_point_namespace, []):\n",
      "C:\\Users\\MoRevolution\\AppData\\Roaming\\Python\\Python310\\site-packages\\catalogue\\__init__.py:135: DeprecationWarning: SelectableGroups dict interface is deprecated. Use select.\n",
      "  for entry_point in AVAILABLE_ENTRY_POINTS.get(self.entry_point_namespace, []):\n",
      "C:\\Users\\MoRevolution\\AppData\\Roaming\\Python\\Python310\\site-packages\\catalogue\\__init__.py:123: DeprecationWarning: SelectableGroups dict interface is deprecated. Use select.\n",
      "  for entry_point in AVAILABLE_ENTRY_POINTS.get(self.entry_point_namespace, []):\n"
     ]
    },
    {
     "name": "stderr",
     "output_type": "stream",
     "text": [
      "C:\\Users\\MoRevolution\\AppData\\Roaming\\Python\\Python310\\site-packages\\catalogue\\__init__.py:135: DeprecationWarning: SelectableGroups dict interface is deprecated. Use select.\n",
      "  for entry_point in AVAILABLE_ENTRY_POINTS.get(self.entry_point_namespace, []):\n",
      "C:\\Users\\MoRevolution\\AppData\\Roaming\\Python\\Python310\\site-packages\\catalogue\\__init__.py:135: DeprecationWarning: SelectableGroups dict interface is deprecated. Use select.\n",
      "  for entry_point in AVAILABLE_ENTRY_POINTS.get(self.entry_point_namespace, []):\n",
      "C:\\Users\\MoRevolution\\AppData\\Roaming\\Python\\Python310\\site-packages\\catalogue\\__init__.py:135: DeprecationWarning: SelectableGroups dict interface is deprecated. Use select.\n",
      "  for entry_point in AVAILABLE_ENTRY_POINTS.get(self.entry_point_namespace, []):\n",
      "C:\\Users\\MoRevolution\\AppData\\Roaming\\Python\\Python310\\site-packages\\catalogue\\__init__.py:135: DeprecationWarning: SelectableGroups dict interface is deprecated. Use select.\n",
      "  for entry_point in AVAILABLE_ENTRY_POINTS.get(self.entry_point_namespace, []):\n",
      "C:\\Users\\MoRevolution\\AppData\\Roaming\\Python\\Python310\\site-packages\\catalogue\\__init__.py:135: DeprecationWarning: SelectableGroups dict interface is deprecated. Use select.\n",
      "  for entry_point in AVAILABLE_ENTRY_POINTS.get(self.entry_point_namespace, []):\n",
      "C:\\Users\\MoRevolution\\AppData\\Roaming\\Python\\Python310\\site-packages\\catalogue\\__init__.py:135: DeprecationWarning: SelectableGroups dict interface is deprecated. Use select.\n",
      "  for entry_point in AVAILABLE_ENTRY_POINTS.get(self.entry_point_namespace, []):\n",
      "C:\\Users\\MoRevolution\\AppData\\Roaming\\Python\\Python310\\site-packages\\catalogue\\__init__.py:135: DeprecationWarning: SelectableGroups dict interface is deprecated. Use select.\n",
      "  for entry_point in AVAILABLE_ENTRY_POINTS.get(self.entry_point_namespace, []):\n",
      "C:\\Users\\MoRevolution\\AppData\\Roaming\\Python\\Python310\\site-packages\\catalogue\\__init__.py:135: DeprecationWarning: SelectableGroups dict interface is deprecated. Use select.\n",
      "  for entry_point in AVAILABLE_ENTRY_POINTS.get(self.entry_point_namespace, []):\n",
      "C:\\Users\\MoRevolution\\AppData\\Roaming\\Python\\Python310\\site-packages\\catalogue\\__init__.py:135: DeprecationWarning: SelectableGroups dict interface is deprecated. Use select.\n",
      "  for entry_point in AVAILABLE_ENTRY_POINTS.get(self.entry_point_namespace, []):\n",
      "C:\\Users\\MoRevolution\\AppData\\Roaming\\Python\\Python310\\site-packages\\catalogue\\__init__.py:135: DeprecationWarning: SelectableGroups dict interface is deprecated. Use select.\n",
      "  for entry_point in AVAILABLE_ENTRY_POINTS.get(self.entry_point_namespace, []):\n",
      "C:\\Users\\MoRevolution\\AppData\\Roaming\\Python\\Python310\\site-packages\\catalogue\\__init__.py:135: DeprecationWarning: SelectableGroups dict interface is deprecated. Use select.\n",
      "  for entry_point in AVAILABLE_ENTRY_POINTS.get(self.entry_point_namespace, []):\n",
      "C:\\Users\\MoRevolution\\AppData\\Roaming\\Python\\Python310\\site-packages\\catalogue\\__init__.py:135: DeprecationWarning: SelectableGroups dict interface is deprecated. Use select.\n",
      "  for entry_point in AVAILABLE_ENTRY_POINTS.get(self.entry_point_namespace, []):\n",
      "C:\\Users\\MoRevolution\\AppData\\Roaming\\Python\\Python310\\site-packages\\catalogue\\__init__.py:135: DeprecationWarning: SelectableGroups dict interface is deprecated. Use select.\n",
      "  for entry_point in AVAILABLE_ENTRY_POINTS.get(self.entry_point_namespace, []):\n",
      "C:\\Users\\MoRevolution\\AppData\\Roaming\\Python\\Python310\\site-packages\\catalogue\\__init__.py:135: DeprecationWarning: SelectableGroups dict interface is deprecated. Use select.\n",
      "  for entry_point in AVAILABLE_ENTRY_POINTS.get(self.entry_point_namespace, []):\n",
      "C:\\Users\\MoRevolution\\AppData\\Roaming\\Python\\Python310\\site-packages\\catalogue\\__init__.py:135: DeprecationWarning: SelectableGroups dict interface is deprecated. Use select.\n",
      "  for entry_point in AVAILABLE_ENTRY_POINTS.get(self.entry_point_namespace, []):\n",
      "C:\\Users\\MoRevolution\\AppData\\Roaming\\Python\\Python310\\site-packages\\catalogue\\__init__.py:135: DeprecationWarning: SelectableGroups dict interface is deprecated. Use select.\n",
      "  for entry_point in AVAILABLE_ENTRY_POINTS.get(self.entry_point_namespace, []):\n",
      "C:\\Users\\MoRevolution\\AppData\\Roaming\\Python\\Python310\\site-packages\\catalogue\\__init__.py:135: DeprecationWarning: SelectableGroups dict interface is deprecated. Use select.\n",
      "  for entry_point in AVAILABLE_ENTRY_POINTS.get(self.entry_point_namespace, []):\n",
      "C:\\Users\\MoRevolution\\AppData\\Roaming\\Python\\Python310\\site-packages\\catalogue\\__init__.py:135: DeprecationWarning: SelectableGroups dict interface is deprecated. Use select.\n",
      "  for entry_point in AVAILABLE_ENTRY_POINTS.get(self.entry_point_namespace, []):\n",
      "C:\\Users\\MoRevolution\\AppData\\Roaming\\Python\\Python310\\site-packages\\catalogue\\__init__.py:135: DeprecationWarning: SelectableGroups dict interface is deprecated. Use select.\n",
      "  for entry_point in AVAILABLE_ENTRY_POINTS.get(self.entry_point_namespace, []):\n",
      "C:\\Users\\MoRevolution\\AppData\\Roaming\\Python\\Python310\\site-packages\\catalogue\\__init__.py:135: DeprecationWarning: SelectableGroups dict interface is deprecated. Use select.\n",
      "  for entry_point in AVAILABLE_ENTRY_POINTS.get(self.entry_point_namespace, []):\n",
      "C:\\Users\\MoRevolution\\AppData\\Roaming\\Python\\Python310\\site-packages\\catalogue\\__init__.py:135: DeprecationWarning: SelectableGroups dict interface is deprecated. Use select.\n",
      "  for entry_point in AVAILABLE_ENTRY_POINTS.get(self.entry_point_namespace, []):\n",
      "C:\\Users\\MoRevolution\\AppData\\Roaming\\Python\\Python310\\site-packages\\catalogue\\__init__.py:135: DeprecationWarning: SelectableGroups dict interface is deprecated. Use select.\n",
      "  for entry_point in AVAILABLE_ENTRY_POINTS.get(self.entry_point_namespace, []):\n",
      "C:\\Users\\MoRevolution\\AppData\\Roaming\\Python\\Python310\\site-packages\\catalogue\\__init__.py:135: DeprecationWarning: SelectableGroups dict interface is deprecated. Use select.\n",
      "  for entry_point in AVAILABLE_ENTRY_POINTS.get(self.entry_point_namespace, []):\n",
      "C:\\Users\\MoRevolution\\AppData\\Roaming\\Python\\Python310\\site-packages\\catalogue\\__init__.py:135: DeprecationWarning: SelectableGroups dict interface is deprecated. Use select.\n",
      "  for entry_point in AVAILABLE_ENTRY_POINTS.get(self.entry_point_namespace, []):\n",
      "C:\\Users\\MoRevolution\\AppData\\Roaming\\Python\\Python310\\site-packages\\catalogue\\__init__.py:135: DeprecationWarning: SelectableGroups dict interface is deprecated. Use select.\n",
      "  for entry_point in AVAILABLE_ENTRY_POINTS.get(self.entry_point_namespace, []):\n",
      "C:\\Users\\MoRevolution\\AppData\\Roaming\\Python\\Python310\\site-packages\\catalogue\\__init__.py:135: DeprecationWarning: SelectableGroups dict interface is deprecated. Use select.\n",
      "  for entry_point in AVAILABLE_ENTRY_POINTS.get(self.entry_point_namespace, []):\n",
      "C:\\Users\\MoRevolution\\AppData\\Roaming\\Python\\Python310\\site-packages\\catalogue\\__init__.py:135: DeprecationWarning: SelectableGroups dict interface is deprecated. Use select.\n",
      "  for entry_point in AVAILABLE_ENTRY_POINTS.get(self.entry_point_namespace, []):\n",
      "C:\\Users\\MoRevolution\\AppData\\Roaming\\Python\\Python310\\site-packages\\catalogue\\__init__.py:135: DeprecationWarning: SelectableGroups dict interface is deprecated. Use select.\n",
      "  for entry_point in AVAILABLE_ENTRY_POINTS.get(self.entry_point_namespace, []):\n",
      "C:\\Users\\MoRevolution\\AppData\\Roaming\\Python\\Python310\\site-packages\\catalogue\\__init__.py:135: DeprecationWarning: SelectableGroups dict interface is deprecated. Use select.\n",
      "  for entry_point in AVAILABLE_ENTRY_POINTS.get(self.entry_point_namespace, []):\n",
      "C:\\Users\\MoRevolution\\AppData\\Roaming\\Python\\Python310\\site-packages\\catalogue\\__init__.py:135: DeprecationWarning: SelectableGroups dict interface is deprecated. Use select.\n",
      "  for entry_point in AVAILABLE_ENTRY_POINTS.get(self.entry_point_namespace, []):\n",
      "C:\\Users\\MoRevolution\\AppData\\Roaming\\Python\\Python310\\site-packages\\catalogue\\__init__.py:135: DeprecationWarning: SelectableGroups dict interface is deprecated. Use select.\n",
      "  for entry_point in AVAILABLE_ENTRY_POINTS.get(self.entry_point_namespace, []):\n",
      "C:\\Users\\MoRevolution\\AppData\\Roaming\\Python\\Python310\\site-packages\\catalogue\\__init__.py:135: DeprecationWarning: SelectableGroups dict interface is deprecated. Use select.\n",
      "  for entry_point in AVAILABLE_ENTRY_POINTS.get(self.entry_point_namespace, []):\n",
      "C:\\Users\\MoRevolution\\AppData\\Roaming\\Python\\Python310\\site-packages\\catalogue\\__init__.py:135: DeprecationWarning: SelectableGroups dict interface is deprecated. Use select.\n",
      "  for entry_point in AVAILABLE_ENTRY_POINTS.get(self.entry_point_namespace, []):\n",
      "C:\\Users\\MoRevolution\\AppData\\Roaming\\Python\\Python310\\site-packages\\catalogue\\__init__.py:135: DeprecationWarning: SelectableGroups dict interface is deprecated. Use select.\n",
      "  for entry_point in AVAILABLE_ENTRY_POINTS.get(self.entry_point_namespace, []):\n",
      "C:\\Users\\MoRevolution\\AppData\\Roaming\\Python\\Python310\\site-packages\\catalogue\\__init__.py:135: DeprecationWarning: SelectableGroups dict interface is deprecated. Use select.\n",
      "  for entry_point in AVAILABLE_ENTRY_POINTS.get(self.entry_point_namespace, []):\n",
      "C:\\Users\\MoRevolution\\AppData\\Roaming\\Python\\Python310\\site-packages\\catalogue\\__init__.py:135: DeprecationWarning: SelectableGroups dict interface is deprecated. Use select.\n",
      "  for entry_point in AVAILABLE_ENTRY_POINTS.get(self.entry_point_namespace, []):\n",
      "C:\\Users\\MoRevolution\\AppData\\Roaming\\Python\\Python310\\site-packages\\catalogue\\__init__.py:135: DeprecationWarning: SelectableGroups dict interface is deprecated. Use select.\n",
      "  for entry_point in AVAILABLE_ENTRY_POINTS.get(self.entry_point_namespace, []):\n",
      "C:\\Users\\MoRevolution\\AppData\\Roaming\\Python\\Python310\\site-packages\\catalogue\\__init__.py:135: DeprecationWarning: SelectableGroups dict interface is deprecated. Use select.\n",
      "  for entry_point in AVAILABLE_ENTRY_POINTS.get(self.entry_point_namespace, []):\n",
      "C:\\Users\\MoRevolution\\AppData\\Roaming\\Python\\Python310\\site-packages\\catalogue\\__init__.py:135: DeprecationWarning: SelectableGroups dict interface is deprecated. Use select.\n",
      "  for entry_point in AVAILABLE_ENTRY_POINTS.get(self.entry_point_namespace, []):\n",
      "C:\\Users\\MoRevolution\\AppData\\Roaming\\Python\\Python310\\site-packages\\catalogue\\__init__.py:135: DeprecationWarning: SelectableGroups dict interface is deprecated. Use select.\n",
      "  for entry_point in AVAILABLE_ENTRY_POINTS.get(self.entry_point_namespace, []):\n",
      "C:\\Users\\MoRevolution\\AppData\\Roaming\\Python\\Python310\\site-packages\\catalogue\\__init__.py:135: DeprecationWarning: SelectableGroups dict interface is deprecated. Use select.\n",
      "  for entry_point in AVAILABLE_ENTRY_POINTS.get(self.entry_point_namespace, []):\n",
      "C:\\Users\\MoRevolution\\AppData\\Roaming\\Python\\Python310\\site-packages\\catalogue\\__init__.py:135: DeprecationWarning: SelectableGroups dict interface is deprecated. Use select.\n",
      "  for entry_point in AVAILABLE_ENTRY_POINTS.get(self.entry_point_namespace, []):\n",
      "C:\\Users\\MoRevolution\\AppData\\Roaming\\Python\\Python310\\site-packages\\catalogue\\__init__.py:135: DeprecationWarning: SelectableGroups dict interface is deprecated. Use select.\n",
      "  for entry_point in AVAILABLE_ENTRY_POINTS.get(self.entry_point_namespace, []):\n",
      "C:\\Users\\MoRevolution\\AppData\\Roaming\\Python\\Python310\\site-packages\\catalogue\\__init__.py:135: DeprecationWarning: SelectableGroups dict interface is deprecated. Use select.\n",
      "  for entry_point in AVAILABLE_ENTRY_POINTS.get(self.entry_point_namespace, []):\n",
      "C:\\Users\\MoRevolution\\AppData\\Roaming\\Python\\Python310\\site-packages\\catalogue\\__init__.py:123: DeprecationWarning: SelectableGroups dict interface is deprecated. Use select.\n",
      "  for entry_point in AVAILABLE_ENTRY_POINTS.get(self.entry_point_namespace, []):\n",
      "C:\\Users\\MoRevolution\\AppData\\Roaming\\Python\\Python310\\site-packages\\catalogue\\__init__.py:135: DeprecationWarning: SelectableGroups dict interface is deprecated. Use select.\n",
      "  for entry_point in AVAILABLE_ENTRY_POINTS.get(self.entry_point_namespace, []):\n",
      "C:\\Users\\MoRevolution\\AppData\\Roaming\\Python\\Python310\\site-packages\\catalogue\\__init__.py:135: DeprecationWarning: SelectableGroups dict interface is deprecated. Use select.\n",
      "  for entry_point in AVAILABLE_ENTRY_POINTS.get(self.entry_point_namespace, []):\n",
      "C:\\Users\\MoRevolution\\AppData\\Roaming\\Python\\Python310\\site-packages\\catalogue\\__init__.py:135: DeprecationWarning: SelectableGroups dict interface is deprecated. Use select.\n",
      "  for entry_point in AVAILABLE_ENTRY_POINTS.get(self.entry_point_namespace, []):\n",
      "C:\\Users\\MoRevolution\\AppData\\Roaming\\Python\\Python310\\site-packages\\catalogue\\__init__.py:135: DeprecationWarning: SelectableGroups dict interface is deprecated. Use select.\n",
      "  for entry_point in AVAILABLE_ENTRY_POINTS.get(self.entry_point_namespace, []):\n",
      "C:\\Users\\MoRevolution\\AppData\\Roaming\\Python\\Python310\\site-packages\\catalogue\\__init__.py:135: DeprecationWarning: SelectableGroups dict interface is deprecated. Use select.\n",
      "  for entry_point in AVAILABLE_ENTRY_POINTS.get(self.entry_point_namespace, []):\n",
      "C:\\Users\\MoRevolution\\AppData\\Roaming\\Python\\Python310\\site-packages\\catalogue\\__init__.py:135: DeprecationWarning: SelectableGroups dict interface is deprecated. Use select.\n",
      "  for entry_point in AVAILABLE_ENTRY_POINTS.get(self.entry_point_namespace, []):\n",
      "C:\\Users\\MoRevolution\\AppData\\Roaming\\Python\\Python310\\site-packages\\catalogue\\__init__.py:135: DeprecationWarning: SelectableGroups dict interface is deprecated. Use select.\n",
      "  for entry_point in AVAILABLE_ENTRY_POINTS.get(self.entry_point_namespace, []):\n",
      "C:\\Users\\MoRevolution\\AppData\\Roaming\\Python\\Python310\\site-packages\\catalogue\\__init__.py:135: DeprecationWarning: SelectableGroups dict interface is deprecated. Use select.\n",
      "  for entry_point in AVAILABLE_ENTRY_POINTS.get(self.entry_point_namespace, []):\n",
      "C:\\Users\\MoRevolution\\AppData\\Roaming\\Python\\Python310\\site-packages\\catalogue\\__init__.py:135: DeprecationWarning: SelectableGroups dict interface is deprecated. Use select.\n",
      "  for entry_point in AVAILABLE_ENTRY_POINTS.get(self.entry_point_namespace, []):\n",
      "C:\\Users\\MoRevolution\\AppData\\Roaming\\Python\\Python310\\site-packages\\catalogue\\__init__.py:135: DeprecationWarning: SelectableGroups dict interface is deprecated. Use select.\n",
      "  for entry_point in AVAILABLE_ENTRY_POINTS.get(self.entry_point_namespace, []):\n",
      "C:\\Users\\MoRevolution\\AppData\\Roaming\\Python\\Python310\\site-packages\\catalogue\\__init__.py:135: DeprecationWarning: SelectableGroups dict interface is deprecated. Use select.\n",
      "  for entry_point in AVAILABLE_ENTRY_POINTS.get(self.entry_point_namespace, []):\n",
      "C:\\Users\\MoRevolution\\AppData\\Roaming\\Python\\Python310\\site-packages\\catalogue\\__init__.py:135: DeprecationWarning: SelectableGroups dict interface is deprecated. Use select.\n",
      "  for entry_point in AVAILABLE_ENTRY_POINTS.get(self.entry_point_namespace, []):\n",
      "C:\\Users\\MoRevolution\\AppData\\Roaming\\Python\\Python310\\site-packages\\catalogue\\__init__.py:123: DeprecationWarning: SelectableGroups dict interface is deprecated. Use select.\n",
      "  for entry_point in AVAILABLE_ENTRY_POINTS.get(self.entry_point_namespace, []):\n",
      "C:\\Users\\MoRevolution\\AppData\\Roaming\\Python\\Python310\\site-packages\\catalogue\\__init__.py:123: DeprecationWarning: SelectableGroups dict interface is deprecated. Use select.\n",
      "  for entry_point in AVAILABLE_ENTRY_POINTS.get(self.entry_point_namespace, []):\n",
      "C:\\Users\\MoRevolution\\AppData\\Roaming\\Python\\Python310\\site-packages\\catalogue\\__init__.py:123: DeprecationWarning: SelectableGroups dict interface is deprecated. Use select.\n",
      "  for entry_point in AVAILABLE_ENTRY_POINTS.get(self.entry_point_namespace, []):\n"
     ]
    },
    {
     "name": "stderr",
     "output_type": "stream",
     "text": [
      "C:\\Users\\MoRevolution\\AppData\\Roaming\\Python\\Python310\\site-packages\\catalogue\\__init__.py:123: DeprecationWarning: SelectableGroups dict interface is deprecated. Use select.\n",
      "  for entry_point in AVAILABLE_ENTRY_POINTS.get(self.entry_point_namespace, []):\n",
      "C:\\Users\\MoRevolution\\AppData\\Roaming\\Python\\Python310\\site-packages\\catalogue\\__init__.py:123: DeprecationWarning: SelectableGroups dict interface is deprecated. Use select.\n",
      "  for entry_point in AVAILABLE_ENTRY_POINTS.get(self.entry_point_namespace, []):\n",
      "C:\\Users\\MoRevolution\\AppData\\Roaming\\Python\\Python310\\site-packages\\catalogue\\__init__.py:123: DeprecationWarning: SelectableGroups dict interface is deprecated. Use select.\n",
      "  for entry_point in AVAILABLE_ENTRY_POINTS.get(self.entry_point_namespace, []):\n",
      "C:\\Users\\MoRevolution\\AppData\\Roaming\\Python\\Python310\\site-packages\\catalogue\\__init__.py:123: DeprecationWarning: SelectableGroups dict interface is deprecated. Use select.\n",
      "  for entry_point in AVAILABLE_ENTRY_POINTS.get(self.entry_point_namespace, []):\n",
      "C:\\Users\\MoRevolution\\AppData\\Roaming\\Python\\Python310\\site-packages\\catalogue\\__init__.py:123: DeprecationWarning: SelectableGroups dict interface is deprecated. Use select.\n",
      "  for entry_point in AVAILABLE_ENTRY_POINTS.get(self.entry_point_namespace, []):\n",
      "C:\\Users\\MoRevolution\\AppData\\Roaming\\Python\\Python310\\site-packages\\catalogue\\__init__.py:123: DeprecationWarning: SelectableGroups dict interface is deprecated. Use select.\n",
      "  for entry_point in AVAILABLE_ENTRY_POINTS.get(self.entry_point_namespace, []):\n",
      "C:\\Users\\MoRevolution\\AppData\\Roaming\\Python\\Python310\\site-packages\\catalogue\\__init__.py:123: DeprecationWarning: SelectableGroups dict interface is deprecated. Use select.\n",
      "  for entry_point in AVAILABLE_ENTRY_POINTS.get(self.entry_point_namespace, []):\n",
      "C:\\Users\\MoRevolution\\AppData\\Roaming\\Python\\Python310\\site-packages\\catalogue\\__init__.py:123: DeprecationWarning: SelectableGroups dict interface is deprecated. Use select.\n",
      "  for entry_point in AVAILABLE_ENTRY_POINTS.get(self.entry_point_namespace, []):\n",
      "C:\\Users\\MoRevolution\\AppData\\Roaming\\Python\\Python310\\site-packages\\catalogue\\__init__.py:123: DeprecationWarning: SelectableGroups dict interface is deprecated. Use select.\n",
      "  for entry_point in AVAILABLE_ENTRY_POINTS.get(self.entry_point_namespace, []):\n",
      "C:\\Users\\MoRevolution\\AppData\\Roaming\\Python\\Python310\\site-packages\\catalogue\\__init__.py:123: DeprecationWarning: SelectableGroups dict interface is deprecated. Use select.\n",
      "  for entry_point in AVAILABLE_ENTRY_POINTS.get(self.entry_point_namespace, []):\n",
      "C:\\Users\\MoRevolution\\AppData\\Roaming\\Python\\Python310\\site-packages\\catalogue\\__init__.py:123: DeprecationWarning: SelectableGroups dict interface is deprecated. Use select.\n",
      "  for entry_point in AVAILABLE_ENTRY_POINTS.get(self.entry_point_namespace, []):\n",
      "C:\\Users\\MoRevolution\\AppData\\Roaming\\Python\\Python310\\site-packages\\catalogue\\__init__.py:123: DeprecationWarning: SelectableGroups dict interface is deprecated. Use select.\n",
      "  for entry_point in AVAILABLE_ENTRY_POINTS.get(self.entry_point_namespace, []):\n",
      "C:\\Users\\MoRevolution\\AppData\\Roaming\\Python\\Python310\\site-packages\\catalogue\\__init__.py:123: DeprecationWarning: SelectableGroups dict interface is deprecated. Use select.\n",
      "  for entry_point in AVAILABLE_ENTRY_POINTS.get(self.entry_point_namespace, []):\n",
      "C:\\Users\\MoRevolution\\AppData\\Roaming\\Python\\Python310\\site-packages\\catalogue\\__init__.py:123: DeprecationWarning: SelectableGroups dict interface is deprecated. Use select.\n",
      "  for entry_point in AVAILABLE_ENTRY_POINTS.get(self.entry_point_namespace, []):\n",
      "C:\\Users\\MoRevolution\\AppData\\Roaming\\Python\\Python310\\site-packages\\catalogue\\__init__.py:123: DeprecationWarning: SelectableGroups dict interface is deprecated. Use select.\n",
      "  for entry_point in AVAILABLE_ENTRY_POINTS.get(self.entry_point_namespace, []):\n",
      "C:\\Users\\MoRevolution\\AppData\\Roaming\\Python\\Python310\\site-packages\\catalogue\\__init__.py:123: DeprecationWarning: SelectableGroups dict interface is deprecated. Use select.\n",
      "  for entry_point in AVAILABLE_ENTRY_POINTS.get(self.entry_point_namespace, []):\n",
      "C:\\Users\\MoRevolution\\AppData\\Roaming\\Python\\Python310\\site-packages\\catalogue\\__init__.py:123: DeprecationWarning: SelectableGroups dict interface is deprecated. Use select.\n",
      "  for entry_point in AVAILABLE_ENTRY_POINTS.get(self.entry_point_namespace, []):\n",
      "C:\\Users\\MoRevolution\\AppData\\Roaming\\Python\\Python310\\site-packages\\catalogue\\__init__.py:123: DeprecationWarning: SelectableGroups dict interface is deprecated. Use select.\n",
      "  for entry_point in AVAILABLE_ENTRY_POINTS.get(self.entry_point_namespace, []):\n",
      "C:\\Users\\MoRevolution\\AppData\\Roaming\\Python\\Python310\\site-packages\\catalogue\\__init__.py:123: DeprecationWarning: SelectableGroups dict interface is deprecated. Use select.\n",
      "  for entry_point in AVAILABLE_ENTRY_POINTS.get(self.entry_point_namespace, []):\n",
      "C:\\Users\\MoRevolution\\AppData\\Roaming\\Python\\Python310\\site-packages\\catalogue\\__init__.py:123: DeprecationWarning: SelectableGroups dict interface is deprecated. Use select.\n",
      "  for entry_point in AVAILABLE_ENTRY_POINTS.get(self.entry_point_namespace, []):\n",
      "C:\\Users\\MoRevolution\\AppData\\Roaming\\Python\\Python310\\site-packages\\catalogue\\__init__.py:123: DeprecationWarning: SelectableGroups dict interface is deprecated. Use select.\n",
      "  for entry_point in AVAILABLE_ENTRY_POINTS.get(self.entry_point_namespace, []):\n",
      "C:\\Users\\MoRevolution\\AppData\\Roaming\\Python\\Python310\\site-packages\\catalogue\\__init__.py:123: DeprecationWarning: SelectableGroups dict interface is deprecated. Use select.\n",
      "  for entry_point in AVAILABLE_ENTRY_POINTS.get(self.entry_point_namespace, []):\n",
      "C:\\Users\\MoRevolution\\AppData\\Roaming\\Python\\Python310\\site-packages\\catalogue\\__init__.py:123: DeprecationWarning: SelectableGroups dict interface is deprecated. Use select.\n",
      "  for entry_point in AVAILABLE_ENTRY_POINTS.get(self.entry_point_namespace, []):\n",
      "C:\\Users\\MoRevolution\\AppData\\Roaming\\Python\\Python310\\site-packages\\catalogue\\__init__.py:123: DeprecationWarning: SelectableGroups dict interface is deprecated. Use select.\n",
      "  for entry_point in AVAILABLE_ENTRY_POINTS.get(self.entry_point_namespace, []):\n",
      "C:\\Users\\MoRevolution\\AppData\\Roaming\\Python\\Python310\\site-packages\\catalogue\\__init__.py:123: DeprecationWarning: SelectableGroups dict interface is deprecated. Use select.\n",
      "  for entry_point in AVAILABLE_ENTRY_POINTS.get(self.entry_point_namespace, []):\n",
      "C:\\Users\\MoRevolution\\AppData\\Roaming\\Python\\Python310\\site-packages\\catalogue\\__init__.py:123: DeprecationWarning: SelectableGroups dict interface is deprecated. Use select.\n",
      "  for entry_point in AVAILABLE_ENTRY_POINTS.get(self.entry_point_namespace, []):\n",
      "C:\\Users\\MoRevolution\\AppData\\Roaming\\Python\\Python310\\site-packages\\catalogue\\__init__.py:123: DeprecationWarning: SelectableGroups dict interface is deprecated. Use select.\n",
      "  for entry_point in AVAILABLE_ENTRY_POINTS.get(self.entry_point_namespace, []):\n",
      "C:\\Users\\MoRevolution\\AppData\\Roaming\\Python\\Python310\\site-packages\\catalogue\\__init__.py:123: DeprecationWarning: SelectableGroups dict interface is deprecated. Use select.\n",
      "  for entry_point in AVAILABLE_ENTRY_POINTS.get(self.entry_point_namespace, []):\n",
      "C:\\Users\\MoRevolution\\AppData\\Roaming\\Python\\Python310\\site-packages\\catalogue\\__init__.py:123: DeprecationWarning: SelectableGroups dict interface is deprecated. Use select.\n",
      "  for entry_point in AVAILABLE_ENTRY_POINTS.get(self.entry_point_namespace, []):\n",
      "C:\\Users\\MoRevolution\\AppData\\Roaming\\Python\\Python310\\site-packages\\catalogue\\__init__.py:123: DeprecationWarning: SelectableGroups dict interface is deprecated. Use select.\n",
      "  for entry_point in AVAILABLE_ENTRY_POINTS.get(self.entry_point_namespace, []):\n",
      "C:\\Users\\MoRevolution\\AppData\\Roaming\\Python\\Python310\\site-packages\\catalogue\\__init__.py:123: DeprecationWarning: SelectableGroups dict interface is deprecated. Use select.\n",
      "  for entry_point in AVAILABLE_ENTRY_POINTS.get(self.entry_point_namespace, []):\n",
      "C:\\Users\\MoRevolution\\AppData\\Roaming\\Python\\Python310\\site-packages\\catalogue\\__init__.py:123: DeprecationWarning: SelectableGroups dict interface is deprecated. Use select.\n",
      "  for entry_point in AVAILABLE_ENTRY_POINTS.get(self.entry_point_namespace, []):\n",
      "C:\\Users\\MoRevolution\\AppData\\Roaming\\Python\\Python310\\site-packages\\catalogue\\__init__.py:123: DeprecationWarning: SelectableGroups dict interface is deprecated. Use select.\n",
      "  for entry_point in AVAILABLE_ENTRY_POINTS.get(self.entry_point_namespace, []):\n",
      "C:\\Users\\MoRevolution\\AppData\\Roaming\\Python\\Python310\\site-packages\\catalogue\\__init__.py:123: DeprecationWarning: SelectableGroups dict interface is deprecated. Use select.\n",
      "  for entry_point in AVAILABLE_ENTRY_POINTS.get(self.entry_point_namespace, []):\n",
      "C:\\Users\\MoRevolution\\AppData\\Roaming\\Python\\Python310\\site-packages\\catalogue\\__init__.py:123: DeprecationWarning: SelectableGroups dict interface is deprecated. Use select.\n",
      "  for entry_point in AVAILABLE_ENTRY_POINTS.get(self.entry_point_namespace, []):\n",
      "C:\\Users\\MoRevolution\\AppData\\Roaming\\Python\\Python310\\site-packages\\catalogue\\__init__.py:123: DeprecationWarning: SelectableGroups dict interface is deprecated. Use select.\n",
      "  for entry_point in AVAILABLE_ENTRY_POINTS.get(self.entry_point_namespace, []):\n",
      "C:\\Users\\MoRevolution\\AppData\\Roaming\\Python\\Python310\\site-packages\\catalogue\\__init__.py:123: DeprecationWarning: SelectableGroups dict interface is deprecated. Use select.\n",
      "  for entry_point in AVAILABLE_ENTRY_POINTS.get(self.entry_point_namespace, []):\n",
      "C:\\Users\\MoRevolution\\AppData\\Roaming\\Python\\Python310\\site-packages\\catalogue\\__init__.py:123: DeprecationWarning: SelectableGroups dict interface is deprecated. Use select.\n",
      "  for entry_point in AVAILABLE_ENTRY_POINTS.get(self.entry_point_namespace, []):\n",
      "C:\\Users\\MoRevolution\\AppData\\Roaming\\Python\\Python310\\site-packages\\catalogue\\__init__.py:123: DeprecationWarning: SelectableGroups dict interface is deprecated. Use select.\n",
      "  for entry_point in AVAILABLE_ENTRY_POINTS.get(self.entry_point_namespace, []):\n",
      "C:\\Users\\MoRevolution\\AppData\\Roaming\\Python\\Python310\\site-packages\\catalogue\\__init__.py:123: DeprecationWarning: SelectableGroups dict interface is deprecated. Use select.\n",
      "  for entry_point in AVAILABLE_ENTRY_POINTS.get(self.entry_point_namespace, []):\n",
      "C:\\Users\\MoRevolution\\AppData\\Roaming\\Python\\Python310\\site-packages\\catalogue\\__init__.py:123: DeprecationWarning: SelectableGroups dict interface is deprecated. Use select.\n",
      "  for entry_point in AVAILABLE_ENTRY_POINTS.get(self.entry_point_namespace, []):\n",
      "C:\\Users\\MoRevolution\\AppData\\Roaming\\Python\\Python310\\site-packages\\catalogue\\__init__.py:123: DeprecationWarning: SelectableGroups dict interface is deprecated. Use select.\n",
      "  for entry_point in AVAILABLE_ENTRY_POINTS.get(self.entry_point_namespace, []):\n",
      "C:\\Users\\MoRevolution\\AppData\\Roaming\\Python\\Python310\\site-packages\\catalogue\\__init__.py:123: DeprecationWarning: SelectableGroups dict interface is deprecated. Use select.\n",
      "  for entry_point in AVAILABLE_ENTRY_POINTS.get(self.entry_point_namespace, []):\n",
      "C:\\Users\\MoRevolution\\AppData\\Roaming\\Python\\Python310\\site-packages\\catalogue\\__init__.py:123: DeprecationWarning: SelectableGroups dict interface is deprecated. Use select.\n",
      "  for entry_point in AVAILABLE_ENTRY_POINTS.get(self.entry_point_namespace, []):\n",
      "C:\\Users\\MoRevolution\\AppData\\Roaming\\Python\\Python310\\site-packages\\catalogue\\__init__.py:123: DeprecationWarning: SelectableGroups dict interface is deprecated. Use select.\n",
      "  for entry_point in AVAILABLE_ENTRY_POINTS.get(self.entry_point_namespace, []):\n",
      "C:\\Users\\MoRevolution\\AppData\\Roaming\\Python\\Python310\\site-packages\\catalogue\\__init__.py:123: DeprecationWarning: SelectableGroups dict interface is deprecated. Use select.\n",
      "  for entry_point in AVAILABLE_ENTRY_POINTS.get(self.entry_point_namespace, []):\n",
      "C:\\Users\\MoRevolution\\AppData\\Roaming\\Python\\Python310\\site-packages\\catalogue\\__init__.py:123: DeprecationWarning: SelectableGroups dict interface is deprecated. Use select.\n",
      "  for entry_point in AVAILABLE_ENTRY_POINTS.get(self.entry_point_namespace, []):\n",
      "C:\\Users\\MoRevolution\\AppData\\Roaming\\Python\\Python310\\site-packages\\catalogue\\__init__.py:123: DeprecationWarning: SelectableGroups dict interface is deprecated. Use select.\n",
      "  for entry_point in AVAILABLE_ENTRY_POINTS.get(self.entry_point_namespace, []):\n",
      "C:\\Users\\MoRevolution\\AppData\\Roaming\\Python\\Python310\\site-packages\\catalogue\\__init__.py:123: DeprecationWarning: SelectableGroups dict interface is deprecated. Use select.\n",
      "  for entry_point in AVAILABLE_ENTRY_POINTS.get(self.entry_point_namespace, []):\n",
      "C:\\Users\\MoRevolution\\AppData\\Roaming\\Python\\Python310\\site-packages\\catalogue\\__init__.py:123: DeprecationWarning: SelectableGroups dict interface is deprecated. Use select.\n",
      "  for entry_point in AVAILABLE_ENTRY_POINTS.get(self.entry_point_namespace, []):\n",
      "C:\\Users\\MoRevolution\\AppData\\Roaming\\Python\\Python310\\site-packages\\catalogue\\__init__.py:123: DeprecationWarning: SelectableGroups dict interface is deprecated. Use select.\n",
      "  for entry_point in AVAILABLE_ENTRY_POINTS.get(self.entry_point_namespace, []):\n",
      "C:\\Users\\MoRevolution\\AppData\\Roaming\\Python\\Python310\\site-packages\\catalogue\\__init__.py:123: DeprecationWarning: SelectableGroups dict interface is deprecated. Use select.\n",
      "  for entry_point in AVAILABLE_ENTRY_POINTS.get(self.entry_point_namespace, []):\n",
      "C:\\Users\\MoRevolution\\AppData\\Roaming\\Python\\Python310\\site-packages\\catalogue\\__init__.py:123: DeprecationWarning: SelectableGroups dict interface is deprecated. Use select.\n",
      "  for entry_point in AVAILABLE_ENTRY_POINTS.get(self.entry_point_namespace, []):\n",
      "C:\\Users\\MoRevolution\\AppData\\Roaming\\Python\\Python310\\site-packages\\catalogue\\__init__.py:123: DeprecationWarning: SelectableGroups dict interface is deprecated. Use select.\n",
      "  for entry_point in AVAILABLE_ENTRY_POINTS.get(self.entry_point_namespace, []):\n",
      "C:\\Users\\MoRevolution\\AppData\\Roaming\\Python\\Python310\\site-packages\\catalogue\\__init__.py:123: DeprecationWarning: SelectableGroups dict interface is deprecated. Use select.\n",
      "  for entry_point in AVAILABLE_ENTRY_POINTS.get(self.entry_point_namespace, []):\n",
      "C:\\Users\\MoRevolution\\AppData\\Roaming\\Python\\Python310\\site-packages\\catalogue\\__init__.py:123: DeprecationWarning: SelectableGroups dict interface is deprecated. Use select.\n",
      "  for entry_point in AVAILABLE_ENTRY_POINTS.get(self.entry_point_namespace, []):\n",
      "C:\\Users\\MoRevolution\\AppData\\Roaming\\Python\\Python310\\site-packages\\catalogue\\__init__.py:123: DeprecationWarning: SelectableGroups dict interface is deprecated. Use select.\n",
      "  for entry_point in AVAILABLE_ENTRY_POINTS.get(self.entry_point_namespace, []):\n",
      "C:\\Users\\MoRevolution\\AppData\\Roaming\\Python\\Python310\\site-packages\\catalogue\\__init__.py:123: DeprecationWarning: SelectableGroups dict interface is deprecated. Use select.\n",
      "  for entry_point in AVAILABLE_ENTRY_POINTS.get(self.entry_point_namespace, []):\n",
      "C:\\Users\\MoRevolution\\AppData\\Roaming\\Python\\Python310\\site-packages\\catalogue\\__init__.py:123: DeprecationWarning: SelectableGroups dict interface is deprecated. Use select.\n",
      "  for entry_point in AVAILABLE_ENTRY_POINTS.get(self.entry_point_namespace, []):\n",
      "C:\\Users\\MoRevolution\\AppData\\Roaming\\Python\\Python310\\site-packages\\catalogue\\__init__.py:123: DeprecationWarning: SelectableGroups dict interface is deprecated. Use select.\n",
      "  for entry_point in AVAILABLE_ENTRY_POINTS.get(self.entry_point_namespace, []):\n",
      "C:\\Users\\MoRevolution\\AppData\\Roaming\\Python\\Python310\\site-packages\\catalogue\\__init__.py:123: DeprecationWarning: SelectableGroups dict interface is deprecated. Use select.\n",
      "  for entry_point in AVAILABLE_ENTRY_POINTS.get(self.entry_point_namespace, []):\n",
      "C:\\Users\\MoRevolution\\AppData\\Roaming\\Python\\Python310\\site-packages\\catalogue\\__init__.py:123: DeprecationWarning: SelectableGroups dict interface is deprecated. Use select.\n",
      "  for entry_point in AVAILABLE_ENTRY_POINTS.get(self.entry_point_namespace, []):\n",
      "C:\\Users\\MoRevolution\\AppData\\Roaming\\Python\\Python310\\site-packages\\catalogue\\__init__.py:123: DeprecationWarning: SelectableGroups dict interface is deprecated. Use select.\n",
      "  for entry_point in AVAILABLE_ENTRY_POINTS.get(self.entry_point_namespace, []):\n",
      "C:\\Users\\MoRevolution\\AppData\\Roaming\\Python\\Python310\\site-packages\\catalogue\\__init__.py:123: DeprecationWarning: SelectableGroups dict interface is deprecated. Use select.\n",
      "  for entry_point in AVAILABLE_ENTRY_POINTS.get(self.entry_point_namespace, []):\n",
      "C:\\Users\\MoRevolution\\AppData\\Roaming\\Python\\Python310\\site-packages\\catalogue\\__init__.py:123: DeprecationWarning: SelectableGroups dict interface is deprecated. Use select.\n",
      "  for entry_point in AVAILABLE_ENTRY_POINTS.get(self.entry_point_namespace, []):\n",
      "C:\\Users\\MoRevolution\\AppData\\Roaming\\Python\\Python310\\site-packages\\catalogue\\__init__.py:123: DeprecationWarning: SelectableGroups dict interface is deprecated. Use select.\n",
      "  for entry_point in AVAILABLE_ENTRY_POINTS.get(self.entry_point_namespace, []):\n",
      "C:\\Users\\MoRevolution\\AppData\\Roaming\\Python\\Python310\\site-packages\\catalogue\\__init__.py:123: DeprecationWarning: SelectableGroups dict interface is deprecated. Use select.\n",
      "  for entry_point in AVAILABLE_ENTRY_POINTS.get(self.entry_point_namespace, []):\n",
      "C:\\Users\\MoRevolution\\AppData\\Roaming\\Python\\Python310\\site-packages\\catalogue\\__init__.py:123: DeprecationWarning: SelectableGroups dict interface is deprecated. Use select.\n",
      "  for entry_point in AVAILABLE_ENTRY_POINTS.get(self.entry_point_namespace, []):\n",
      "C:\\Users\\MoRevolution\\AppData\\Roaming\\Python\\Python310\\site-packages\\catalogue\\__init__.py:123: DeprecationWarning: SelectableGroups dict interface is deprecated. Use select.\n",
      "  for entry_point in AVAILABLE_ENTRY_POINTS.get(self.entry_point_namespace, []):\n",
      "C:\\Users\\MoRevolution\\AppData\\Roaming\\Python\\Python310\\site-packages\\catalogue\\__init__.py:123: DeprecationWarning: SelectableGroups dict interface is deprecated. Use select.\n",
      "  for entry_point in AVAILABLE_ENTRY_POINTS.get(self.entry_point_namespace, []):\n",
      "C:\\Users\\MoRevolution\\AppData\\Roaming\\Python\\Python310\\site-packages\\catalogue\\__init__.py:123: DeprecationWarning: SelectableGroups dict interface is deprecated. Use select.\n",
      "  for entry_point in AVAILABLE_ENTRY_POINTS.get(self.entry_point_namespace, []):\n",
      "C:\\Users\\MoRevolution\\AppData\\Roaming\\Python\\Python310\\site-packages\\catalogue\\__init__.py:123: DeprecationWarning: SelectableGroups dict interface is deprecated. Use select.\n",
      "  for entry_point in AVAILABLE_ENTRY_POINTS.get(self.entry_point_namespace, []):\n",
      "C:\\Users\\MoRevolution\\AppData\\Roaming\\Python\\Python310\\site-packages\\catalogue\\__init__.py:123: DeprecationWarning: SelectableGroups dict interface is deprecated. Use select.\n",
      "  for entry_point in AVAILABLE_ENTRY_POINTS.get(self.entry_point_namespace, []):\n",
      "C:\\Users\\MoRevolution\\AppData\\Roaming\\Python\\Python310\\site-packages\\catalogue\\__init__.py:123: DeprecationWarning: SelectableGroups dict interface is deprecated. Use select.\n",
      "  for entry_point in AVAILABLE_ENTRY_POINTS.get(self.entry_point_namespace, []):\n",
      "C:\\Users\\MoRevolution\\AppData\\Roaming\\Python\\Python310\\site-packages\\catalogue\\__init__.py:123: DeprecationWarning: SelectableGroups dict interface is deprecated. Use select.\n",
      "  for entry_point in AVAILABLE_ENTRY_POINTS.get(self.entry_point_namespace, []):\n",
      "C:\\Users\\MoRevolution\\AppData\\Roaming\\Python\\Python310\\site-packages\\catalogue\\__init__.py:123: DeprecationWarning: SelectableGroups dict interface is deprecated. Use select.\n",
      "  for entry_point in AVAILABLE_ENTRY_POINTS.get(self.entry_point_namespace, []):\n",
      "C:\\Users\\MoRevolution\\AppData\\Roaming\\Python\\Python310\\site-packages\\catalogue\\__init__.py:123: DeprecationWarning: SelectableGroups dict interface is deprecated. Use select.\n",
      "  for entry_point in AVAILABLE_ENTRY_POINTS.get(self.entry_point_namespace, []):\n",
      "C:\\Users\\MoRevolution\\AppData\\Roaming\\Python\\Python310\\site-packages\\catalogue\\__init__.py:123: DeprecationWarning: SelectableGroups dict interface is deprecated. Use select.\n",
      "  for entry_point in AVAILABLE_ENTRY_POINTS.get(self.entry_point_namespace, []):\n",
      "C:\\Users\\MoRevolution\\AppData\\Roaming\\Python\\Python310\\site-packages\\catalogue\\__init__.py:123: DeprecationWarning: SelectableGroups dict interface is deprecated. Use select.\n",
      "  for entry_point in AVAILABLE_ENTRY_POINTS.get(self.entry_point_namespace, []):\n",
      "C:\\Users\\MoRevolution\\AppData\\Roaming\\Python\\Python310\\site-packages\\catalogue\\__init__.py:123: DeprecationWarning: SelectableGroups dict interface is deprecated. Use select.\n",
      "  for entry_point in AVAILABLE_ENTRY_POINTS.get(self.entry_point_namespace, []):\n",
      "C:\\Users\\MoRevolution\\AppData\\Roaming\\Python\\Python310\\site-packages\\catalogue\\__init__.py:123: DeprecationWarning: SelectableGroups dict interface is deprecated. Use select.\n",
      "  for entry_point in AVAILABLE_ENTRY_POINTS.get(self.entry_point_namespace, []):\n",
      "C:\\Users\\MoRevolution\\AppData\\Roaming\\Python\\Python310\\site-packages\\catalogue\\__init__.py:123: DeprecationWarning: SelectableGroups dict interface is deprecated. Use select.\n",
      "  for entry_point in AVAILABLE_ENTRY_POINTS.get(self.entry_point_namespace, []):\n",
      "C:\\Users\\MoRevolution\\AppData\\Roaming\\Python\\Python310\\site-packages\\catalogue\\__init__.py:123: DeprecationWarning: SelectableGroups dict interface is deprecated. Use select.\n",
      "  for entry_point in AVAILABLE_ENTRY_POINTS.get(self.entry_point_namespace, []):\n",
      "C:\\Users\\MoRevolution\\AppData\\Roaming\\Python\\Python310\\site-packages\\catalogue\\__init__.py:123: DeprecationWarning: SelectableGroups dict interface is deprecated. Use select.\n",
      "  for entry_point in AVAILABLE_ENTRY_POINTS.get(self.entry_point_namespace, []):\n",
      "C:\\Users\\MoRevolution\\AppData\\Roaming\\Python\\Python310\\site-packages\\catalogue\\__init__.py:123: DeprecationWarning: SelectableGroups dict interface is deprecated. Use select.\n",
      "  for entry_point in AVAILABLE_ENTRY_POINTS.get(self.entry_point_namespace, []):\n",
      "C:\\Users\\MoRevolution\\AppData\\Roaming\\Python\\Python310\\site-packages\\catalogue\\__init__.py:123: DeprecationWarning: SelectableGroups dict interface is deprecated. Use select.\n",
      "  for entry_point in AVAILABLE_ENTRY_POINTS.get(self.entry_point_namespace, []):\n",
      "C:\\Users\\MoRevolution\\AppData\\Roaming\\Python\\Python310\\site-packages\\catalogue\\__init__.py:123: DeprecationWarning: SelectableGroups dict interface is deprecated. Use select.\n",
      "  for entry_point in AVAILABLE_ENTRY_POINTS.get(self.entry_point_namespace, []):\n",
      "C:\\Users\\MoRevolution\\AppData\\Roaming\\Python\\Python310\\site-packages\\catalogue\\__init__.py:123: DeprecationWarning: SelectableGroups dict interface is deprecated. Use select.\n",
      "  for entry_point in AVAILABLE_ENTRY_POINTS.get(self.entry_point_namespace, []):\n",
      "C:\\Users\\MoRevolution\\AppData\\Roaming\\Python\\Python310\\site-packages\\catalogue\\__init__.py:123: DeprecationWarning: SelectableGroups dict interface is deprecated. Use select.\n",
      "  for entry_point in AVAILABLE_ENTRY_POINTS.get(self.entry_point_namespace, []):\n",
      "C:\\Users\\MoRevolution\\AppData\\Roaming\\Python\\Python310\\site-packages\\catalogue\\__init__.py:123: DeprecationWarning: SelectableGroups dict interface is deprecated. Use select.\n",
      "  for entry_point in AVAILABLE_ENTRY_POINTS.get(self.entry_point_namespace, []):\n",
      "C:\\Users\\MoRevolution\\AppData\\Roaming\\Python\\Python310\\site-packages\\catalogue\\__init__.py:123: DeprecationWarning: SelectableGroups dict interface is deprecated. Use select.\n",
      "  for entry_point in AVAILABLE_ENTRY_POINTS.get(self.entry_point_namespace, []):\n",
      "C:\\Users\\MoRevolution\\AppData\\Roaming\\Python\\Python310\\site-packages\\catalogue\\__init__.py:123: DeprecationWarning: SelectableGroups dict interface is deprecated. Use select.\n",
      "  for entry_point in AVAILABLE_ENTRY_POINTS.get(self.entry_point_namespace, []):\n",
      "C:\\Users\\MoRevolution\\AppData\\Roaming\\Python\\Python310\\site-packages\\catalogue\\__init__.py:123: DeprecationWarning: SelectableGroups dict interface is deprecated. Use select.\n",
      "  for entry_point in AVAILABLE_ENTRY_POINTS.get(self.entry_point_namespace, []):\n",
      "C:\\Users\\MoRevolution\\AppData\\Roaming\\Python\\Python310\\site-packages\\catalogue\\__init__.py:123: DeprecationWarning: SelectableGroups dict interface is deprecated. Use select.\n",
      "  for entry_point in AVAILABLE_ENTRY_POINTS.get(self.entry_point_namespace, []):\n",
      "C:\\Users\\MoRevolution\\AppData\\Roaming\\Python\\Python310\\site-packages\\catalogue\\__init__.py:123: DeprecationWarning: SelectableGroups dict interface is deprecated. Use select.\n",
      "  for entry_point in AVAILABLE_ENTRY_POINTS.get(self.entry_point_namespace, []):\n",
      "C:\\Users\\MoRevolution\\AppData\\Roaming\\Python\\Python310\\site-packages\\catalogue\\__init__.py:123: DeprecationWarning: SelectableGroups dict interface is deprecated. Use select.\n",
      "  for entry_point in AVAILABLE_ENTRY_POINTS.get(self.entry_point_namespace, []):\n",
      "C:\\Users\\MoRevolution\\AppData\\Roaming\\Python\\Python310\\site-packages\\catalogue\\__init__.py:123: DeprecationWarning: SelectableGroups dict interface is deprecated. Use select.\n",
      "  for entry_point in AVAILABLE_ENTRY_POINTS.get(self.entry_point_namespace, []):\n",
      "C:\\Users\\MoRevolution\\AppData\\Roaming\\Python\\Python310\\site-packages\\catalogue\\__init__.py:123: DeprecationWarning: SelectableGroups dict interface is deprecated. Use select.\n",
      "  for entry_point in AVAILABLE_ENTRY_POINTS.get(self.entry_point_namespace, []):\n",
      "C:\\Users\\MoRevolution\\AppData\\Roaming\\Python\\Python310\\site-packages\\catalogue\\__init__.py:123: DeprecationWarning: SelectableGroups dict interface is deprecated. Use select.\n",
      "  for entry_point in AVAILABLE_ENTRY_POINTS.get(self.entry_point_namespace, []):\n",
      "C:\\Users\\MoRevolution\\AppData\\Roaming\\Python\\Python310\\site-packages\\catalogue\\__init__.py:123: DeprecationWarning: SelectableGroups dict interface is deprecated. Use select.\n",
      "  for entry_point in AVAILABLE_ENTRY_POINTS.get(self.entry_point_namespace, []):\n",
      "C:\\Users\\MoRevolution\\AppData\\Roaming\\Python\\Python310\\site-packages\\catalogue\\__init__.py:123: DeprecationWarning: SelectableGroups dict interface is deprecated. Use select.\n",
      "  for entry_point in AVAILABLE_ENTRY_POINTS.get(self.entry_point_namespace, []):\n",
      "C:\\Users\\MoRevolution\\AppData\\Roaming\\Python\\Python310\\site-packages\\catalogue\\__init__.py:123: DeprecationWarning: SelectableGroups dict interface is deprecated. Use select.\n",
      "  for entry_point in AVAILABLE_ENTRY_POINTS.get(self.entry_point_namespace, []):\n",
      "C:\\Users\\MoRevolution\\AppData\\Roaming\\Python\\Python310\\site-packages\\catalogue\\__init__.py:123: DeprecationWarning: SelectableGroups dict interface is deprecated. Use select.\n",
      "  for entry_point in AVAILABLE_ENTRY_POINTS.get(self.entry_point_namespace, []):\n",
      "C:\\Users\\MoRevolution\\AppData\\Roaming\\Python\\Python310\\site-packages\\catalogue\\__init__.py:123: DeprecationWarning: SelectableGroups dict interface is deprecated. Use select.\n",
      "  for entry_point in AVAILABLE_ENTRY_POINTS.get(self.entry_point_namespace, []):\n",
      "C:\\Users\\MoRevolution\\AppData\\Roaming\\Python\\Python310\\site-packages\\catalogue\\__init__.py:123: DeprecationWarning: SelectableGroups dict interface is deprecated. Use select.\n",
      "  for entry_point in AVAILABLE_ENTRY_POINTS.get(self.entry_point_namespace, []):\n",
      "C:\\Users\\MoRevolution\\AppData\\Roaming\\Python\\Python310\\site-packages\\catalogue\\__init__.py:123: DeprecationWarning: SelectableGroups dict interface is deprecated. Use select.\n",
      "  for entry_point in AVAILABLE_ENTRY_POINTS.get(self.entry_point_namespace, []):\n",
      "C:\\Users\\MoRevolution\\AppData\\Roaming\\Python\\Python310\\site-packages\\catalogue\\__init__.py:123: DeprecationWarning: SelectableGroups dict interface is deprecated. Use select.\n",
      "  for entry_point in AVAILABLE_ENTRY_POINTS.get(self.entry_point_namespace, []):\n",
      "C:\\Users\\MoRevolution\\AppData\\Roaming\\Python\\Python310\\site-packages\\catalogue\\__init__.py:123: DeprecationWarning: SelectableGroups dict interface is deprecated. Use select.\n",
      "  for entry_point in AVAILABLE_ENTRY_POINTS.get(self.entry_point_namespace, []):\n",
      "C:\\Users\\MoRevolution\\AppData\\Roaming\\Python\\Python310\\site-packages\\catalogue\\__init__.py:123: DeprecationWarning: SelectableGroups dict interface is deprecated. Use select.\n",
      "  for entry_point in AVAILABLE_ENTRY_POINTS.get(self.entry_point_namespace, []):\n",
      "C:\\Users\\MoRevolution\\AppData\\Roaming\\Python\\Python310\\site-packages\\catalogue\\__init__.py:123: DeprecationWarning: SelectableGroups dict interface is deprecated. Use select.\n",
      "  for entry_point in AVAILABLE_ENTRY_POINTS.get(self.entry_point_namespace, []):\n",
      "C:\\Users\\MoRevolution\\AppData\\Roaming\\Python\\Python310\\site-packages\\catalogue\\__init__.py:123: DeprecationWarning: SelectableGroups dict interface is deprecated. Use select.\n",
      "  for entry_point in AVAILABLE_ENTRY_POINTS.get(self.entry_point_namespace, []):\n",
      "C:\\Users\\MoRevolution\\AppData\\Roaming\\Python\\Python310\\site-packages\\catalogue\\__init__.py:123: DeprecationWarning: SelectableGroups dict interface is deprecated. Use select.\n",
      "  for entry_point in AVAILABLE_ENTRY_POINTS.get(self.entry_point_namespace, []):\n",
      "C:\\Users\\MoRevolution\\AppData\\Roaming\\Python\\Python310\\site-packages\\catalogue\\__init__.py:123: DeprecationWarning: SelectableGroups dict interface is deprecated. Use select.\n",
      "  for entry_point in AVAILABLE_ENTRY_POINTS.get(self.entry_point_namespace, []):\n",
      "C:\\Users\\MoRevolution\\AppData\\Roaming\\Python\\Python310\\site-packages\\catalogue\\__init__.py:123: DeprecationWarning: SelectableGroups dict interface is deprecated. Use select.\n",
      "  for entry_point in AVAILABLE_ENTRY_POINTS.get(self.entry_point_namespace, []):\n",
      "C:\\Users\\MoRevolution\\AppData\\Roaming\\Python\\Python310\\site-packages\\catalogue\\__init__.py:123: DeprecationWarning: SelectableGroups dict interface is deprecated. Use select.\n",
      "  for entry_point in AVAILABLE_ENTRY_POINTS.get(self.entry_point_namespace, []):\n",
      "C:\\Users\\MoRevolution\\AppData\\Roaming\\Python\\Python310\\site-packages\\catalogue\\__init__.py:123: DeprecationWarning: SelectableGroups dict interface is deprecated. Use select.\n",
      "  for entry_point in AVAILABLE_ENTRY_POINTS.get(self.entry_point_namespace, []):\n",
      "C:\\Users\\MoRevolution\\AppData\\Roaming\\Python\\Python310\\site-packages\\catalogue\\__init__.py:123: DeprecationWarning: SelectableGroups dict interface is deprecated. Use select.\n",
      "  for entry_point in AVAILABLE_ENTRY_POINTS.get(self.entry_point_namespace, []):\n",
      "C:\\Users\\MoRevolution\\AppData\\Roaming\\Python\\Python310\\site-packages\\catalogue\\__init__.py:123: DeprecationWarning: SelectableGroups dict interface is deprecated. Use select.\n",
      "  for entry_point in AVAILABLE_ENTRY_POINTS.get(self.entry_point_namespace, []):\n",
      "C:\\Users\\MoRevolution\\AppData\\Roaming\\Python\\Python310\\site-packages\\catalogue\\__init__.py:123: DeprecationWarning: SelectableGroups dict interface is deprecated. Use select.\n",
      "  for entry_point in AVAILABLE_ENTRY_POINTS.get(self.entry_point_namespace, []):\n",
      "C:\\Users\\MoRevolution\\AppData\\Roaming\\Python\\Python310\\site-packages\\catalogue\\__init__.py:123: DeprecationWarning: SelectableGroups dict interface is deprecated. Use select.\n",
      "  for entry_point in AVAILABLE_ENTRY_POINTS.get(self.entry_point_namespace, []):\n",
      "C:\\Users\\MoRevolution\\AppData\\Roaming\\Python\\Python310\\site-packages\\catalogue\\__init__.py:123: DeprecationWarning: SelectableGroups dict interface is deprecated. Use select.\n",
      "  for entry_point in AVAILABLE_ENTRY_POINTS.get(self.entry_point_namespace, []):\n",
      "C:\\Users\\MoRevolution\\AppData\\Roaming\\Python\\Python310\\site-packages\\catalogue\\__init__.py:123: DeprecationWarning: SelectableGroups dict interface is deprecated. Use select.\n",
      "  for entry_point in AVAILABLE_ENTRY_POINTS.get(self.entry_point_namespace, []):\n",
      "C:\\Users\\MoRevolution\\AppData\\Roaming\\Python\\Python310\\site-packages\\catalogue\\__init__.py:123: DeprecationWarning: SelectableGroups dict interface is deprecated. Use select.\n",
      "  for entry_point in AVAILABLE_ENTRY_POINTS.get(self.entry_point_namespace, []):\n",
      "C:\\Users\\MoRevolution\\AppData\\Roaming\\Python\\Python310\\site-packages\\catalogue\\__init__.py:123: DeprecationWarning: SelectableGroups dict interface is deprecated. Use select.\n",
      "  for entry_point in AVAILABLE_ENTRY_POINTS.get(self.entry_point_namespace, []):\n",
      "C:\\Users\\MoRevolution\\AppData\\Roaming\\Python\\Python310\\site-packages\\catalogue\\__init__.py:123: DeprecationWarning: SelectableGroups dict interface is deprecated. Use select.\n",
      "  for entry_point in AVAILABLE_ENTRY_POINTS.get(self.entry_point_namespace, []):\n",
      "C:\\Users\\MoRevolution\\AppData\\Roaming\\Python\\Python310\\site-packages\\catalogue\\__init__.py:123: DeprecationWarning: SelectableGroups dict interface is deprecated. Use select.\n",
      "  for entry_point in AVAILABLE_ENTRY_POINTS.get(self.entry_point_namespace, []):\n",
      "C:\\Users\\MoRevolution\\AppData\\Roaming\\Python\\Python310\\site-packages\\catalogue\\__init__.py:123: DeprecationWarning: SelectableGroups dict interface is deprecated. Use select.\n",
      "  for entry_point in AVAILABLE_ENTRY_POINTS.get(self.entry_point_namespace, []):\n"
     ]
    },
    {
     "name": "stdout",
     "output_type": "stream",
     "text": [
      "mum year idea dad grow single mum spend last dollar coke say poor understatement amount government a\n"
     ]
    }
   ],
   "source": [
    "#In case prompted to install stopwords, use \"nltk.download(stopwords)\".\n",
    "#Lemmatization\n",
    "stops = set(stopwords.words(\"english\"))\n",
    "\n",
    "def lemmatization(texts, allowed_postags=[\"NOUN\", \"ADJ\", \"VERB\", \"ADV\"]):\n",
    "    #Use \"python -m spacy download en_core_web_sm\" if error [E050]\n",
    "    nlp = spacy.load(\"en_core_web_sm\",disable=[\"parser\",\"ner\"])\n",
    "    texts_out = []\n",
    "    for text in texts:\n",
    "        doc = nlp(text)\n",
    "        new_text = []\n",
    "        for token in doc:\n",
    "            if token.pos_ in allowed_postags:\n",
    "                new_text.append(token.lemma_)\n",
    "        final = \" \".join(new_text)\n",
    "        texts_out.append(final)\n",
    "        \n",
    "    return(texts_out)\n",
    "\n",
    "lemmatized_texts = lemmatization(stories)\n",
    "print(lemmatized_texts[0][:100])"
   ]
  },
  {
   "cell_type": "code",
   "execution_count": 8,
   "metadata": {},
   "outputs": [
    {
     "name": "stdout",
     "output_type": "stream",
     "text": [
      "['mum', 'year', 'idea', 'dad', 'grow', 'single', 'mum', 'spend', 'last', 'dollar', 'coke', 'say', 'poor', 'understatement', 'amount', 'government', 'assistance', 'get', 'mother', 'addict']\n"
     ]
    }
   ],
   "source": [
    "#deaccenting and removing stop words\n",
    "def gen_words(texts):\n",
    "    final = []\n",
    "    for text in texts:\n",
    "        new = gensim.utils.simple_preprocess(text, deacc=True)\n",
    "        final.append(new)\n",
    "    return (final)\n",
    "\n",
    "data_words = gen_words(lemmatized_texts)\n",
    "print (data_words[0][0:20])"
   ]
  },
  {
   "cell_type": "code",
   "execution_count": 9,
   "metadata": {
    "collapsed": true
   },
   "outputs": [
    {
     "name": "stdout",
     "output_type": "stream",
     "text": [
      "[['mum', 'year', 'idea', 'dad', 'grow', 'single', 'mum', 'spend', 'last', 'dollar', 'coke', 'say', 'poor', 'understatement', 'amount', 'government', 'assistance', 'get', 'mother', 'addict', 'move', 'around', 'lot', 'go', 'different', 'school', 'grow', 'have', 'food', 'common', 'occurrence', 'homeless', 'period', 'time', 'kid', 'wash', 'public', 'restroom', 'time', 'time', 'send', 'other', 'relative', 'live', 'sexually', 'abuse', 'multiple', 'occasion', 'keep', 'year', 'kid', 'terrifying', 'speak', 'already', 'live', 'shaky', 'unstable', 'world', 'so', 'uproot', 'last', 'foundation', 'even', 'drug', 'addle', 'mother', 'unthinkable', 'anyway', 'fast', 'forward', 'try', 'really_hard', 'school', 'mean', 'really_hard', 'only', 'way', 'see', 'get', 'hole', 'in', 'mum', 'drop', 'school', 'know', 'never', 'want', 'end', 'get', 'job', 'day', 'th', 'birthday', 'country', 'legal', 'age', 'start', 'work', 'day', 'year', 'now', 'spend', 'day', 'unemployed', 'work', 'save', 'as', 'much', 'mum', 'tell', 'move', 'again', 'say', 'move', 'own', 'tired', 'start', 'over', 'apply', 'emancipation', 'move', 'flat', 'see', 'handful', 'time', 'since', 'even', 'sure', 'live', 'anymore', 'go', 'university', 'keep', 'work', 'full', 'time', 'graduate', 'first', 'class', 'honor', 'say', 'brag', 'sacrifice', 'lot', 'pull', 'trash', 'social', 'life', 'never', 'go', 'holiday', 'ignore', 'part', 'health', 'prodigy', 'close', 'just', 'grind', 'face', 'get', 'job', 'field', 'get', 'post', 'degree', 'qualification', 'last', 'couple', 'year', 'start', 'clear', 'year'], ['use', 'grant', 'state', 'need', 'grant', 'cover', 'community', 'college', 'then', 'get', 'work', 'study', 'job', 'community', 'college', 'build', 'experience', 'cover', 'remain', 'tuition', 'expense', 'graduate', 'community', 'associate', 'able', 'get', 'entry', 'level', 'it', 'job', 'pay', 'bachelor', 'tuition', 'cash', 'job', 'take', 'night', 'weekend', 'class', 'fit', 'work', 'bachelor', 'experience', 'able', 'get', 'well', 'well', 'job', 'time', 'year', 'start', 'manager', 'security', 'industry', 'make', 'that', 'remarkable', 'story', 'feel', 'pretty', 'good', 'pull', 'well', 'place', 'start', 'most', 'think', 'worth', 'share', 'too']]\n"
     ]
    }
   ],
   "source": [
    "#BIGRAMS AND TRIGRAMS\n",
    "bigram_phrases = gensim.models.Phrases(data_words, min_count=2,threshold=50)\n",
    "trigram_phrases = gensim.models.Phrases(bigram_phrases[data_words],threshold=50)\n",
    "\n",
    "bigram = gensim.models.phrases.Phraser(bigram_phrases)\n",
    "trigram = gensim.models.phrases.Phraser(trigram_phrases)\n",
    "\n",
    "def make_bigrams(texts):\n",
    "    return(bigram[doc] for doc in texts)\n",
    "\n",
    "def make_trigrams(texts): \n",
    "    return(trigram[bigram[doc]] for doc in texts)\n",
    "\n",
    "data_bigrams = make_bigrams(data_words)\n",
    "data_bigrams_trigrams = make_trigrams(data_bigrams)\n",
    "\n",
    "data_bigrams_trigrams = list(data_bigrams_trigrams)\n",
    "print(data_bigrams_trigrams[:2])"
   ]
  },
  {
   "cell_type": "code",
   "execution_count": 10,
   "metadata": {
    "collapsed": true
   },
   "outputs": [
    {
     "name": "stdout",
     "output_type": "stream",
     "text": [
      "['mum', 'year', 'idea', 'dad', 'grow', 'single', 'mum', 'spend', 'last', 'dollar', 'coke', 'say', 'poor', 'understatement', 'amount', 'government', 'assistance', 'get', 'mother', 'addict']\n",
      "[(0, 1), (1, 1), (2, 1), (3, 1), (4, 1), (5, 1), (6, 1), (7, 1), (8, 1), (9, 1), (10, 1), (11, 1), (12, 1), (13, 1), (14, 1), (15, 1), (16, 1), (17, 1), (18, 1), (19, 1)]\n"
     ]
    }
   ],
   "source": [
    "#TF-IDF REMOVAL\n",
    "from gensim.models import TfidfModel\n",
    "\n",
    "id2word = corpora.Dictionary(data_bigrams_trigrams)\n",
    "\n",
    "texts = data_bigrams_trigrams\n",
    "print(texts[0][:20])\n",
    "\n",
    "corpus = [id2word.doc2bow(text) for text in texts]\n",
    "print (corpus[0][0:20])\n",
    "\n",
    "tfidf = TfidfModel(corpus, id2word=id2word)\n",
    "\n",
    "low_value = 0.03\n",
    "words  = []\n",
    "words_missing_in_tfidf = []\n",
    "for i in range(0, len(corpus)):\n",
    "    bow = corpus[i]\n",
    "    low_value_words = [] #reinitialize to be safe. You can skip this.\n",
    "    tfidf_ids = [id for id, value in tfidf[bow]]\n",
    "    bow_ids = [id for id, value in bow]\n",
    "    low_value_words = [id for id, value in tfidf[bow] if value < low_value]\n",
    "    drops = low_value_words+words_missing_in_tfidf\n",
    "    for item in drops:\n",
    "        words.append(id2word[item])\n",
    "    words_missing_in_tfidf = [id for id in bow_ids if id not in tfidf_ids] # The words with tf-idf socre 0 will be missing\n",
    "\n",
    "    new_bow = [b for b in bow if b[0] not in low_value_words and b[0] not in words_missing_in_tfidf]\n",
    "    corpus[i] = new_bow"
   ]
  },
  {
   "cell_type": "markdown",
   "metadata": {},
   "source": [
    "### Training LDA Model "
   ]
  },
  {
   "cell_type": "code",
   "execution_count": 10,
   "metadata": {
    "id": "Edw7Y3MIJnLK"
   },
   "outputs": [],
   "source": [
    "# Set training parameters.\n",
    "num_topics = 10\n",
    "chunksize = 2000\n",
    "passes = 20\n",
    "iterations = 400\n",
    "eval_every = 1  # Dont evaluate model perplexity, takes too much time\n",
    "\n",
    "lda_model = LdaModel(\n",
    "    corpus=corpus, \n",
    "    id2word=id2word,\n",
    "    chunksize=chunksize,\n",
    "    alpha=\"auto\",\n",
    "    eta=\"auto\",\n",
    "    iterations=iterations,\n",
    "    num_topics=num_topics,\n",
    "    passes=passes,\n",
    "    eval_every=eval_every\n",
    ")"
   ]
  },
  {
   "cell_type": "code",
   "execution_count": null,
   "metadata": {},
   "outputs": [],
   "source": [
    "#lda_model.save(\"Models/test_model_1.model\")"
   ]
  },
  {
   "cell_type": "markdown",
   "metadata": {},
   "source": [
    "### Top topics detected by model (visualize for clusters)"
   ]
  },
  {
   "cell_type": "code",
   "execution_count": null,
   "metadata": {},
   "outputs": [],
   "source": [
    "# top_topics = lda_model.top_topics(corpus)\n",
    "\n",
    "# # Average topic coherence is the sum of topic coherences of all topics, divided by the number of topics.\n",
    "# avg_topic_coherence = sum([t[1] for t in top_topics]) / num_topics\n",
    "# print(f'Average topic coherence: %.4f. % avg_topic_coherence')\n",
    "\n",
    "# from pprint import pprint\n",
    "# print(top_topics)"
   ]
  },
  {
   "cell_type": "markdown",
   "metadata": {},
   "source": [
    "### Saving/loading the LDA Model (just experimental)"
   ]
  },
  {
   "cell_type": "code",
   "execution_count": 12,
   "metadata": {
    "id": "cskTzFfzR-Kp"
   },
   "outputs": [],
   "source": [
    "new_model = gensim.models.ldamodel.LdaModel.load(\"Models/test_model_1.model\")"
   ]
  },
  {
   "cell_type": "code",
   "execution_count": 53,
   "metadata": {},
   "outputs": [
    {
     "name": "stdout",
     "output_type": "stream",
     "text": [
      "[(2, 0.33460167), (4, 0.2593409), (9, 0.15352553), (1, 0.10114299), (6, 0.090423174), (5, 0.059933234)]\n"
     ]
    }
   ],
   "source": [
    "#testing the loaded model\n",
    "test_doc = corpus[-1]\n",
    "\n",
    "vector = new_model[test_doc]\n",
    "\n",
    "# logfile = open('Stories/Story_1.txt', 'a')\n",
    "# print(new_model.show_topics(num_topics=10, num_words=10, formatted=False), file = logfile)\n",
    "# logfile.close()\n",
    "\n",
    "#Sort to arrange topics based on priority or similarity. \n",
    "def Sort(sub_li):\n",
    "    sub_li.sort(key = lambda x: x[1])\n",
    "    sub_li.reverse()\n",
    "    return(sub_li)\n",
    "new_vector = Sort(vector)\n",
    "print(new_vector)#last story is most similar with topic 2"
   ]
  },
  {
   "cell_type": "markdown",
   "metadata": {},
   "source": [
    "# Visualization"
   ]
  },
  {
   "cell_type": "code",
   "execution_count": 14,
   "metadata": {
    "colab": {
     "base_uri": "https://localhost:8080/",
     "height": 951
    },
    "collapsed": true,
    "id": "vhwBJnIhT9VZ",
    "outputId": "607d7393-24e0-42c4-ba97-9a7d0bbf94e1"
   },
   "outputs": [
    {
     "name": "stderr",
     "output_type": "stream",
     "text": [
      "C:\\Users\\MoRevolution\\AppData\\Roaming\\Python\\Python310\\site-packages\\pyLDAvis\\_prepare.py:247: FutureWarning: In a future version of pandas all arguments of DataFrame.drop except for the argument 'labels' will be keyword-only.\n",
      "  by='saliency', ascending=False).head(R).drop('saliency', 1)\n"
     ]
    },
    {
     "data": {
      "text/html": [
       "\n",
       "<link rel=\"stylesheet\" type=\"text/css\" href=\"https://cdn.jsdelivr.net/gh/bmabey/pyLDAvis@3.3.1/pyLDAvis/js/ldavis.v1.0.0.css\">\n",
       "\n",
       "\n",
       "<div id=\"ldavis_el274831099412491848775878748\"></div>\n",
       "<script type=\"text/javascript\">\n",
       "\n",
       "var ldavis_el274831099412491848775878748_data = {\"mdsDat\": {\"x\": [-0.02825844120033077, -0.03486016536735695, -0.17803682548333907, -0.13649195304811132, 0.09425489254289725, 0.15698672877955305, 0.08458978826852805, 0.013927524530885109, 0.013941311582717454, 0.013947139394557224], \"y\": [0.17725557080950402, -0.188031498783581, -0.06225751376761973, 0.06836299089632704, -0.11379770907739664, 0.014086747956138497, 0.1057199623511715, -0.0004465616253361042, -0.0004461470759871149, -0.00044584168322046766], \"topics\": [1, 2, 3, 4, 5, 6, 7, 8, 9, 10], \"cluster\": [1, 1, 1, 1, 1, 1, 1, 1, 1, 1], \"Freq\": [30.39504647264947, 24.37252795998993, 21.059428112570846, 7.922338750674054, 6.097715091721039, 5.242623242294875, 4.8746117830825115, 0.01251344083539965, 0.011857065661545, 0.011338080520328664]}, \"tinfo\": {\"Term\": [\"job\", \"work\", \"school\", \"get\", \"good\", \"just\", \"grow\", \"family\", \"well\", \"lot\", \"so\", \"college\", \"graduate\", \"go\", \"take\", \"say\", \"know\", \"live\", \"high_school\", \"class\", \"student\", \"year\", \"last\", \"time\", \"first\", \"people\", \"only\", \"feel\", \"big\", \"even\", \"student\", \"walk\", \"make\", \"feeling\", \"here\", \"call\", \"lead\", \"debt\", \"syndrome\", \"affluent\", \"institution\", \"play\", \"outside\", \"hope\", \"connect\", \"depressed\", \"academic\", \"balance\", \"read\", \"cycle\", \"culture\", \"father\", \"childhood\", \"stage\", \"overcome\", \"band\", \"trauma\", \"write\", \"push\", \"belong\", \"only\", \"feel\", \"mom\", \"know\", \"most\", \"pick\", \"high_school\", \"well\", \"try\", \"year\", \"always\", \"bachelor\", \"graduate\", \"school\", \"grow\", \"kid\", \"way\", \"experience\", \"college\", \"people\", \"as\", \"end\", \"life\", \"first\", \"so\", \"work\", \"help\", \"lot\", \"never\", \"time\", \"mum\", \"adopt\", \"spend\", \"age\", \"dad\", \"couple\", \"mean\", \"dollar\", \"meal\", \"die\", \"success\", \"young\", \"ready\", \"doctor\", \"allow\", \"barrier\", \"adoptive\", \"show\", \"see\", \"free\", \"undergrad\", \"say\", \"addle\", \"around\", \"brag\", \"clear\", \"coke\", \"country\", \"emancipation\", \"one\", \"mother\", \"last\", \"think\", \"move\", \"work\", \"thing\", \"people\", \"school\", \"kid\", \"even\", \"friend\", \"year\", \"get\", \"full\", \"day\", \"take\", \"good\", \"go\", \"start\", \"live\", \"parent\", \"grow\", \"community\", \"it\", \"sister\", \"afford\", \"accounting\", \"crappy\", \"internet\", \"knowledge\", \"private\", \"starve\", \"strong\", \"cover\", \"tuition\", \"counseling\", \"lose\", \"soon\", \"exam\", \"then\", \"rich\", \"accountant\", \"action\", \"affirmative\", \"candidate\", \"coast\", \"comfort\", \"difficulty\", \"dorm\", \"eat\", \"emotion\", \"gutter\", \"job\", \"big\", \"class\", \"attend\", \"need\", \"back\", \"look\", \"career\", \"able\", \"take\", \"night\", \"money\", \"good\", \"family\", \"get\", \"college\", \"just\", \"more\", \"graduate\", \"well\", \"year\", \"school\", \"much\", \"work\", \"food\", \"extra\", \"come\", \"side\", \"law\", \"nail\", \"decent\", \"benefit\", \"ethic\", \"aimless\", \"develop\", \"second\", \"abusive\", \"line\", \"gig\", \"janitor\", \"tooth\", \"garage\", \"fight\", \"fiance\", \"household\", \"ensure\", \"ride\", \"town\", \"sale\", \"employer\", \"bank\", \"immigrate\", \"receive\", \"invaluable\", \"successful\", \"wage\", \"grateful\", \"hard\", \"together\", \"work\", \"job\", \"first\", \"degree\", \"school\", \"graduate\", \"family\", \"food\", \"other\", \"well\", \"year\", \"get\", \"keep\", \"help\", \"grow\", \"college\", \"good\", \"always\", \"full\", \"take\", \"head\", \"come\", \"end\", \"high_school\", \"undergrad\", \"push\", \"purchase\", \"hospital\", \"stress\", \"bar\", \"scholarship\", \"downstairs\", \"buy\", \"item\", \"am\", \"guilt\", \"essential\", \"boyfriend\", \"solidly\", \"mentor\", \"fully\", \"outright\", \"ask\", \"accessible\", \"inconceivable\", \"toast\", \"tea\", \"surprised\", \"stock\", \"non\", \"parental\", \"easily\", \"information\", \"tail\", \"weird\", \"probably\", \"go\", \"so\", \"just\", \"early\", \"much\", \"home\", \"now\", \"day\", \"get\", \"as\", \"class\", \"know\", \"never\", \"work\", \"even\", \"live\", \"decide\", \"local\", \"night\", \"right\", \"hungry\", \"actually\", \"gap\", \"intern\", \"absolutely\", \"afloat\", \"biz\", \"boy\", \"capacity\", \"fake\", \"firm\", \"folk\", \"hear\", \"humble\", \"individual\", \"mind\", \"significant\", \"step\", \"verse\", \"anxiety\", \"being\", \"cost\", \"executive\", \"grad\", \"honest\", \"management\", \"moment\", \"mostly\", \"ol\", \"opportunity\", \"psychological\", \"recruit\", \"senior\", \"also\", \"industry\", \"doubt\", \"company\", \"lot\", \"career\", \"grow\", \"do\", \"poor\", \"good\", \"well\", \"kid\", \"way\", \"most\", \"always\", \"break\", \"come\", \"great\", \"otherwise\", \"very\", \"probably\", \"parent\", \"less\", \"offer\", \"ago\", \"belong\", \"generation\", \"past\", \"struggle\", \"point\", \"bath\", \"breakfast\", \"combine\", \"competition\", \"extreme\", \"focus\", \"gift\", \"honestly\", \"inter\", \"ketchup\", \"main\", \"manage\", \"math\", \"middle\", \"normal\", \"portfolio\", \"programmer\", \"programming\", \"recycle\", \"reward\", \"room\", \"sandwich\", \"science\", \"soap\", \"spare\", \"unsettling\", \"yield\", \"book\", \"fun\", \"result\", \"actually\", \"level\", \"own\", \"home\", \"high_school\", \"school\", \"live\", \"people\", \"take\", \"free\", \"parent\", \"give\", \"money\", \"grant\", \"pay\", \"old\", \"sometimes\", \"financial_aid\", \"day\", \"idea\", \"job\", \"move\", \"only\", \"start\", \"trash\", \"entry\", \"then\", \"family\", \"above\", \"advanced\", \"certification\", \"crack\", \"crap\", \"discrimination\", \"disown\", \"engineering\", \"entirely\", \"excess\", \"fact\", \"financial\", \"financially\", \"frustrating\", \"interact\", \"internship\", \"junior\", \"lgbtq\", \"loan\", \"majority\", \"material\", \"mechanical\", \"out\", \"paralegal\", \"peruse\", \"pressure\", \"publish\", \"put\", \"rely\", \"south\", \"school\", \"friend\", \"feel\", \"make\", \"other\", \"connect\", \"never\", \"work\", \"change\", \"tool\", \"only\", \"support\", \"addition\", \"understand\", \"last\", \"network\", \"student\", \"away\", \"well\", \"predominately\", \"campus\", \"cultural\", \"too\", \"definitely\", \"uni\", \"none\", \"lifestyle\", \"people\", \"question\", \"person\", \"above\", \"advanced\", \"certification\", \"crack\", \"crap\", \"discrimination\", \"disown\", \"engineering\", \"entirely\", \"excess\", \"fact\", \"financial\", \"financially\", \"frustrating\", \"interact\", \"internship\", \"junior\", \"lgbtq\", \"loan\", \"majority\", \"material\", \"mechanical\", \"out\", \"paralegal\", \"peruse\", \"pressure\", \"publish\", \"put\", \"rely\", \"south\", \"work\", \"most\", \"mom\", \"now\", \"call\", \"still\", \"family\", \"life\", \"set\", \"sac\", \"balance\", \"break\", \"conversation\", \"cycle\", \"pay\", \"constantly\", \"house\", \"graduate\", \"somewhat\", \"single\", \"kid\", \"say\", \"all\", \"guess\", \"egghead\", \"odd\", \"debt\", \"sibling\", \"fit\", \"spew\", \"above\", \"advanced\", \"certification\", \"crack\", \"crap\", \"discrimination\", \"disown\", \"engineering\", \"entirely\", \"excess\", \"fact\", \"financial\", \"financially\", \"frustrating\", \"interact\", \"internship\", \"junior\", \"lgbtq\", \"loan\", \"majority\", \"material\", \"mechanical\", \"out\", \"paralegal\", \"peruse\", \"pressure\", \"publish\", \"put\", \"rely\", \"south\", \"abuse\", \"addict\", \"addle\", \"again\", \"age\", \"already\", \"amount\", \"anymore\", \"anyway\", \"apply\", \"around\", \"as\", \"assistance\", \"birthday\", \"brag\", \"class\", \"clear\", \"close\", \"coke\", \"common\", \"country\", \"couple\", \"dad\", \"day\", \"degree\", \"different\", \"dollar\", \"drop\", \"drug\", \"emancipation\"], \"Freq\": [18.0, 22.0, 20.0, 16.0, 13.0, 8.0, 9.0, 9.0, 14.0, 8.0, 6.0, 10.0, 8.0, 6.0, 11.0, 7.0, 6.0, 7.0, 5.0, 6.0, 5.0, 15.0, 7.0, 4.0, 6.0, 10.0, 6.0, 11.0, 6.0, 7.0, 4.603469690672047, 3.701077329353939, 2.797928591839901, 1.8958588066548394, 1.8958588066548394, 1.895804130468177, 1.8957240545859992, 1.8956669721123933, 1.8956665710645695, 1.8956532028037718, 1.895730738716398, 1.8957295355729262, 1.8956951791426764, 1.8957129589295372, 1.8952024250496757, 1.8955483956391184, 1.8956839498036064, 1.8956489249603166, 1.8956729878297522, 1.8956037402388206, 1.8954744691569074, 1.8955808805128567, 1.8955651059651155, 1.8955453209391349, 1.8955343589652809, 1.8955251348653306, 1.8954693892178043, 1.8954394443136178, 4.604261091711267, 2.7984055713851603, 4.603625297227731, 7.3114103696831325, 4.603795341505077, 4.61281945227391, 4.604970678994405, 2.798491395619481, 3.701020380562941, 6.409521189701447, 3.747388193139521, 6.409023890399776, 3.701049256006264, 2.7983825779765885, 3.7009554108154648, 5.505713931660518, 3.701499499029928, 3.7014914780734496, 2.79866518300985, 2.803287927593671, 3.7008856284941007, 3.701527572377603, 2.8027430372835593, 2.807019811277937, 2.798643259062142, 2.798045697804488, 2.803402627271314, 3.710152774244234, 2.806364766498853, 2.82452314250549, 2.8013423109171836, 4.449704201463186, 3.577200654519949, 2.703759798497159, 1.832188415295434, 1.8319290045026027, 1.8318955598053452, 1.8319097094849541, 1.8318745496750166, 1.8318880561873707, 1.8316262871146045, 1.831607635264211, 1.8316129949913356, 1.8316031330934262, 1.8316037762606812, 1.8316136381585906, 1.8316162108276104, 1.8315874826902223, 1.8315769776250581, 1.831564328669044, 3.5766278068848703, 2.7036931234917287, 2.703785953965527, 5.321350620844656, 0.9596694323380774, 0.9596694323380774, 0.9596694323380774, 0.9596694323380774, 0.9596694323380774, 0.9596694323380774, 0.9596694323380774, 2.703832047618799, 2.704423547104271, 4.449197385666283, 3.5759859259644267, 3.577200654519949, 10.55459590332407, 2.703684333539244, 5.319932222658398, 7.065498014500343, 4.448809770200631, 3.576660179636703, 3.5758334953250026, 4.449704201463186, 4.449704201463186, 2.7041073232039188, 2.7046951780749464, 3.5757333756223146, 3.57614650338908, 2.7046951780749464, 2.7046951780749464, 2.7046951780749464, 2.7036791882012046, 1.832188415295434, 3.4423294654466416, 2.6027223100978394, 2.6027223100978394, 2.6027223100978394, 1.7631129317979188, 1.7631129317979188, 1.7631129317979188, 1.7631129317979188, 1.7631129317979188, 1.7631129317979188, 1.7631129317979188, 1.7631127465519922, 1.7631127465519922, 1.7631127465519922, 1.7631127465519922, 1.7631127465519922, 1.7631127465519922, 3.4423294654466416, 0.9234935502179666, 0.9234934575950035, 0.9234934575950035, 0.9234934575950035, 0.9234934575950035, 0.9234934575950035, 0.9234934575950035, 0.9234934575950035, 0.9234934575950035, 0.9234934575950035, 0.9234934575950035, 0.9234934575950035, 11.840957412720511, 4.281936250303591, 4.281936250303591, 2.6027223100978394, 2.6027226805896926, 3.442329835938495, 1.7631129317979188, 2.6027223100978394, 3.4423294654466416, 5.961492154489681, 1.7631129317979188, 4.2824156667614, 6.801210827886243, 5.122169536883999, 7.641719760405299, 5.122173241802529, 4.281936250303591, 2.603117439659086, 2.6032986101752136, 2.603454587245335, 2.6033845642851143, 2.603362334773933, 1.7634941679146774, 1.7634732351249818, 1.7634676777471865, 1.7634237744626033, 1.7633424515008653, 1.3495204251421682, 1.3494061374797677, 0.7069252904645316, 0.7069080079399734, 0.7069050810608144, 0.706898321363709, 0.7068979729257139, 0.7068964397985353, 0.706892816043386, 0.7068912132286085, 0.7068875197858602, 0.7068856382206865, 0.7068825022787304, 0.7068750457056348, 0.706878530085586, 0.7068710735124903, 0.7068634775641967, 0.7068599234966464, 0.70685037629558, 0.7068436165984746, 0.7068303759546599, 0.7068343481478043, 0.706827727825897, 0.7068072396717837, 0.7068029190406442, 0.7068011071630695, 0.7068004102870793, 0.706788354332448, 0.7067959502807417, 0.7067902358976217, 1.9918194572115488, 1.349579380850943, 4.562633034662435, 3.918929239971914, 1.992496960049267, 1.349424256255514, 3.2785049436914964, 1.9925159150762017, 1.991896252945674, 1.3493091323419253, 1.3494365212729424, 1.9923770973789445, 1.9927783585741288, 1.9915347136819337, 1.3494345700201698, 1.3501085884779367, 1.3493240454881166, 1.3497747848786084, 1.3494737344508216, 0.7073035547520378, 0.7072850875382962, 0.7071888489640431, 0.7071533082885405, 0.707151984224159, 0.7071470364046283, 0.7071389526431414, 0.7071017394652622, 0.707092749764988, 1.236347103042676, 0.6476430602603177, 0.6476236434542672, 0.647616777843288, 0.6475939818693335, 0.6475671094388602, 0.6475592247137513, 0.6475560600961905, 0.6475524127403578, 0.647546137142822, 0.6475416852232028, 0.6475327813839641, 0.6475282221891732, 0.6475242530078259, 0.6475188892492484, 0.6475059625910765, 0.6475035488997166, 0.6474832202547078, 0.6474785001471597, 0.6474646080124439, 0.6474531295690881, 0.6474389692464434, 0.6474328009240793, 0.6474122577287275, 0.6474042120908612, 0.6473390960617301, 0.6472571378306657, 0.6471787733178483, 0.6475670558012744, 0.6471500235718729, 1.8246719280936043, 1.8229411504758128, 1.8240100402851394, 1.235943319296961, 1.2361654861772415, 1.2357005555837428, 1.2351852056596155, 1.2364442943481007, 1.8249223083440027, 1.2340757658354429, 1.2357987123657113, 1.231956115720782, 1.2348900916626808, 1.821585406857761, 1.235744431128907, 1.235124702462861, 0.6476552359922887, 0.64764633215305, 0.6476207470246352, 0.647599828366183, 0.6475989701648106, 0.6475861507818104, 0.6475748332512118, 1.1631421052051454, 0.6092545229955701, 0.6092545229955701, 0.6092545229955701, 0.6092545229955701, 0.6092545229955701, 0.6092545229955701, 0.6092545229955701, 0.6092545229955701, 0.6092545229955701, 0.6092545229955701, 0.6092545229955701, 0.6092545229955701, 0.6092545229955701, 0.6092545229955701, 0.6092545229955701, 0.6092544768796645, 0.6092544768796645, 0.6092544768796645, 0.6092544768796645, 0.6092544768796645, 0.6092544768796645, 0.6092544768796645, 0.6092544768796645, 0.6092544768796645, 0.6092544768796645, 0.6092544768796645, 0.6092544768796645, 0.6092544768796645, 0.6092544768796645, 1.7170270588080987, 1.1631421052051454, 1.1631421052051454, 1.1631421052051454, 1.7170270588080987, 1.1631421052051454, 1.7170270588080987, 1.1631421052051454, 1.1631421052051454, 1.1631421052051454, 1.1631421052051454, 0.6092545229955701, 0.6092545229955701, 0.6092545229955701, 0.6092545229955701, 0.6092545229955701, 0.6092545229955701, 0.6092545229955701, 0.6092545229955701, 0.6092545229955701, 0.6092545229955701, 0.6092545229955701, 0.6092545229955701, 0.6092545229955701, 0.6092545229955701, 0.6092545229955701, 0.6092545229955701, 0.6092545229955701, 0.6092545229955701, 1.0752005487190253, 0.5631905702825163, 0.5631905702825163, 0.5631905702825163, 0.5631905702825163, 0.5631905702825163, 0.5631905702825163, 0.5631905702825163, 0.5631905702825163, 0.5631905702825163, 0.5631905702825163, 0.5631905702825163, 0.5631905702825163, 0.5631905702825163, 0.5631905702825163, 0.5631905702825163, 0.5631905702825163, 0.5631905702825163, 0.5631905702825163, 0.5631905702825163, 0.5631905702825163, 0.5631905702825163, 0.5631905702825163, 0.5631905702825163, 0.5631905702825163, 0.5631905702825163, 0.5631905702825163, 0.5631905702825163, 0.5631905274037652, 0.5631905274037652, 1.0752005487190253, 1.0752005487190253, 1.075487321806315, 1.0752005487190253, 1.0752005487190253, 1.0752005487190253, 1.5876234924072818, 1.0752005487190253, 0.5639374323690014, 0.5635915294839586, 0.5634894780563645, 0.5634772147335527, 0.5634443696102178, 0.5634230588709261, 0.5634165413007605, 0.563412553576909, 0.5634007190416083, 0.5633870407200106, 0.5633645293756883, 0.5631905702825163, 0.5631905702825163, 0.5631905702825163, 0.5631905702825163, 0.5631905702825163, 0.5631905702825163, 0.5631905702825163, 0.5631905702825163, 0.5631905702825163, 0.5631905702825163, 0.00026910054709838334, 0.00026910054709838334, 0.00026910054709838334, 0.00026910054709838334, 0.00026910054709838334, 0.00026910054709838334, 0.00026910054709838334, 0.00026910054709838334, 0.00026910054709838334, 0.00026910054709838334, 0.00026910054709838334, 0.00026910054709838334, 0.00026910054709838334, 0.00026910054709838334, 0.00026910054709838334, 0.00026910054709838334, 0.00026910054709838334, 0.00026910054709838334, 0.00026910054709838334, 0.00026910054709838334, 0.00026910054709838334, 0.00026910054709838334, 0.00026910054709838334, 0.00026910054709838334, 0.00026910054709838334, 0.00026910054709838334, 0.00026910054709838334, 0.00026910054709838334, 0.00026910054709838334, 0.00026910054709838334, 0.0002729585057363577, 0.0002727111453064145, 0.0002723578951296227, 0.00027138262524447216, 0.00027126264621737766, 0.0002710554622506358, 0.00027063025217571277, 0.00027050570513978856, 0.0002704504212256984, 0.00027034728329139793, 0.0002702514926966007, 0.0002702441178389719, 0.000270148629943555, 0.0002701361091964614, 0.0002701352561345715, 0.0002701031424821359, 0.00027007372560599734, 0.00027006315864581287, 0.0002700507754893467, 0.00027003597073783827, 0.00027003214571839646, 0.00027002100087757694, 0.00027000641627107234, 0.0002699778524568237, 0.0002699775222393179, 0.00026997422006426025, 0.0002699558929926903, 0.00026995052695822166, 0.000269918468342037, 0.0002699119740644236, 0.0002550921836831757, 0.0002550921836831757, 0.0002550921836831757, 0.0002550921836831757, 0.0002550921836831757, 0.0002550921836831757, 0.0002550921836831757, 0.0002550921836831757, 0.0002550921836831757, 0.0002550921836831757, 0.0002550921836831757, 0.0002550921836831757, 0.0002550921836831757, 0.0002550921836831757, 0.0002550921836831757, 0.0002550921836831757, 0.0002550921836831757, 0.0002550921836831757, 0.0002550921836831757, 0.0002550921836831757, 0.0002550921836831757, 0.0002550921836831757, 0.0002550921836831757, 0.0002550921836831757, 0.0002550921836831757, 0.0002550921836831757, 0.0002550921836831757, 0.0002550921836831757, 0.0002550921836831757, 0.0002550921836831757, 0.0002553792922092339, 0.0002553504796652965, 0.00025526578903841096, 0.0002552611216670401, 0.00025524667628302084, 0.00025524646768541767, 0.0002552449553527947, 0.0002552368461209716, 0.0002552240173683769, 0.0002552146826256352, 0.0002552096241337584, 0.0002552078249794311, 0.00025520070658622304, 0.0002552003676151179, 0.00025519809911618346, 0.0002551977862197787, 0.0002551954394967431, 0.00025519499622683636, 0.0002551942139858245, 0.0002551933535207114, 0.0002551921801591936, 0.00025519181511338807, 0.0002551917629639873, 0.0002551886861493406, 0.00025518826895413424, 0.0002551880082071303, 0.0002551874345637216, 0.0002551868348456125, 0.0002551867826962117, 0.0002551867044721105, 0.0002439365929367866, 0.0002439365929367866, 0.0002439365929367866, 0.0002439365929367866, 0.0002439365929367866, 0.0002439365929367866, 0.0002439365929367866, 0.0002439365929367866, 0.0002439365929367866, 0.0002439365929367866, 0.0002439365929367866, 0.0002439365929367866, 0.0002439365929367866, 0.0002439365929367866, 0.0002439365929367866, 0.0002439365929367866, 0.0002439365929367866, 0.0002439365929367866, 0.0002439365929367866, 0.0002439365929367866, 0.0002439365929367866, 0.0002439365929367866, 0.0002439365929367866, 0.0002439365929367866, 0.0002439365929367866, 0.0002439365929367866, 0.0002439365929367866, 0.0002439365929367866, 0.0002439365929367866, 0.0002439365929367866, 0.0002439365929367866, 0.0002439365929367866, 0.0002439365929367866, 0.0002439365929367866, 0.0002439365929367866, 0.0002439365929367866, 0.0002439365929367866, 0.0002439365929367866, 0.0002439365929367866, 0.0002439365929367866, 0.0002439365929367866, 0.0002439365929367866, 0.0002439365929367866, 0.0002439365929367866, 0.0002439365929367866, 0.0002439365929367866, 0.0002439365929367866, 0.0002439365929367866, 0.0002439365929367866, 0.0002439365929367866, 0.0002439365929367866, 0.0002439365929367866, 0.0002439365929367866, 0.0002439365929367866, 0.0002439365929367866, 0.0002439365929367866, 0.0002439365929367866, 0.0002439365929367866, 0.0002439365929367866, 0.0002439365929367866], \"Total\": [18.0, 22.0, 20.0, 16.0, 13.0, 8.0, 9.0, 9.0, 14.0, 8.0, 6.0, 10.0, 8.0, 6.0, 11.0, 7.0, 6.0, 7.0, 5.0, 6.0, 5.0, 15.0, 7.0, 4.0, 6.0, 10.0, 6.0, 11.0, 6.0, 7.0, 5.005620709492624, 4.103134390184207, 3.199680424928521, 2.2976083576653137, 2.2976083576653137, 2.2975538359712515, 2.2974740064530073, 2.297417089153839, 2.297416694672199, 2.297403365872393, 2.2975713757742726, 2.297571004526514, 2.297541673488029, 2.2975662486421093, 2.296953930975302, 2.2973849566141857, 2.2975579280221394, 2.2975183384837408, 2.2975546839498775, 2.2975075876015443, 2.297354331342257, 2.2975280263548905, 2.2975235281317667, 2.297517711113916, 2.2975147370810998, 2.297512041838083, 2.297495957145352, 2.2974873671347913, 5.64882608167727, 3.7542269744028, 6.390010521833218, 11.691148817113694, 6.750554617521194, 6.829801314947136, 7.042363818850484, 3.843038456469494, 5.769764754066847, 14.11113760836021, 6.387189316497757, 15.621152403607772, 7.883958010179324, 4.879491679744182, 8.550281722162385, 20.155767283336885, 9.63502933937575, 9.858695700503029, 5.433433110559075, 5.470051308645463, 10.4263453384582, 10.688765726165423, 5.862173943395642, 6.147012749926837, 6.3385121776605935, 6.554802840848231, 6.648341358639634, 22.520580735897127, 6.822360806776172, 8.044531486335895, 6.963550329650576, 4.854486483617353, 3.9819829366741155, 3.109019104772797, 2.2369706974496006, 2.2368495457373805, 2.236819907482633, 2.2368524062713604, 2.236822990748151, 2.2368407391632923, 2.2366942451842644, 2.2366870658327445, 2.2367059408385317, 2.236698917035606, 2.236703699895639, 2.236715938907286, 2.2367211090528376, 2.2366963764436982, 2.236694113560119, 2.2366889388986038, 4.6245322648646905, 3.6210419160475267, 3.751843636408412, 7.532087513453176, 1.3644517144922448, 1.3644517144922448, 1.3644517144922448, 1.3644517144922448, 1.3644517144922448, 1.3644517144922448, 1.3644517144922448, 3.948611926755453, 4.012034063902404, 7.562338163956354, 6.2144501397174885, 6.299297355316381, 22.520580735897127, 4.591377764311576, 10.688765726165423, 20.155767283336885, 9.858695700503029, 7.7423060285840055, 8.055200156726176, 15.621152403607772, 16.10719239649632, 5.557511133185189, 5.639346407818349, 11.013350265180936, 13.091747783301988, 6.5564521950858135, 7.697567643599573, 7.9573702108331466, 8.302453578955301, 9.63502933937575, 3.8504014850801465, 3.010794329731344, 3.010794329731344, 3.010794329731344, 2.1711849514314236, 2.1711849514314236, 2.1711849514314236, 2.1711849514314236, 2.1711849514314236, 2.1711849514314236, 2.1711849514314236, 2.171184766185497, 2.171184766185497, 2.171184766185497, 2.171184766185497, 2.171184766185497, 2.171184766185497, 4.36239137482177, 1.331565569851472, 1.3315654772285088, 1.3315654772285088, 1.3315654772285088, 1.3315654772285088, 1.3315654772285088, 1.3315654772285088, 1.3315654772285088, 1.3315654772285088, 1.3315654772285088, 1.3315654772285088, 1.3315654772285088, 18.36060937215613, 6.43468331146505, 6.511619697510851, 3.8830897257136106, 3.913501660068842, 5.265081051912439, 2.6831748411730474, 4.1185480156674386, 5.625369437654018, 11.013350265180936, 2.7603672220690405, 7.5894649735924915, 13.091747783301988, 9.775651844840423, 16.10719239649632, 10.4263453384582, 8.263760487406694, 5.068347672651254, 8.550281722162385, 14.11113760836021, 15.621152403607772, 20.155767283336885, 3.992514454572876, 22.520580735897127, 4.91860293155798, 4.306244187799011, 5.173303111361209, 1.7776424141404732, 1.7776774810063216, 1.1348082369614803, 1.1348134618169932, 1.1348143672129387, 1.1348163835416019, 1.1348164924294877, 1.1348169564849544, 1.134818172279635, 1.1348185782253732, 1.1348196606541678, 1.13482022201965, 1.1348212077995588, 1.1348235576826977, 1.1348363918200752, 1.1348247086972083, 1.134826971305566, 1.1348280483861786, 1.134831040018763, 1.1348504646536244, 1.1348371419866752, 1.1348542720330468, 1.1348569677178826, 1.1348652046141583, 1.1348669832520077, 1.1348677531197997, 1.1348680087323912, 1.1348498779025529, 1.1348696814156944, 1.134872071540683, 3.3232132452390686, 2.649924443019579, 22.520580735897127, 18.36060937215613, 6.554802840848231, 3.4896428366977985, 20.155767283336885, 8.550281722162385, 9.775651844840423, 4.91860293155798, 5.294472427933858, 14.11113760836021, 15.621152403607772, 16.10719239649632, 6.7581139118164835, 6.822360806776172, 9.63502933937575, 10.4263453384582, 13.091747783301988, 7.883958010179324, 5.557511133185189, 11.013350265180936, 4.369739217978752, 5.173303111361209, 6.147012749926837, 5.769764754066847, 3.751843636408412, 5.64882608167727, 1.6704304314214338, 1.0812029627427073, 1.0812132903169314, 1.0812170106974714, 1.0812290223325687, 1.081243365921167, 1.0812475711169172, 1.0812491438767764, 1.0812511947421088, 1.0812545442923474, 1.0812568684099197, 1.0812616503276726, 1.0812640676939855, 1.0812661727161381, 1.0812690137276253, 1.0812758804505969, 1.0812772015170973, 1.081288004209421, 1.0812905196730296, 1.081297866362656, 1.081303967182249, 1.0813114300214446, 1.0813147615194099, 1.0813255668956283, 1.081329903609326, 1.0813644897402561, 1.0814079926367777, 1.0814497085265748, 1.5932333524181388, 1.6353312028332396, 6.5564521950858135, 6.648341358639634, 8.263760487406694, 3.924861829670965, 3.992514454572876, 4.436858358400964, 4.958941537082428, 5.639346407818349, 16.10719239649632, 5.862173943395642, 6.511619697510851, 6.829801314947136, 6.963550329650576, 22.520580735897127, 7.7423060285840055, 7.9573702108331466, 3.0755346910886456, 1.9207341639904034, 2.7603672220690405, 1.9207589130335878, 1.920759391658295, 2.9447658738463915, 1.9535159993653717, 1.5997862624876553, 1.04589868027808, 1.04589868027808, 1.04589868027808, 1.04589868027808, 1.04589868027808, 1.04589868027808, 1.04589868027808, 1.04589868027808, 1.04589868027808, 1.04589868027808, 1.04589868027808, 1.04589868027808, 1.04589868027808, 1.04589868027808, 1.04589868027808, 1.0458986341621743, 1.0458986341621743, 1.0458986341621743, 1.0458986341621743, 1.0458986341621743, 1.0458986341621743, 1.0458986341621743, 1.0458986341621743, 1.0458986341621743, 1.0458986341621743, 1.0458986341621743, 1.0458986341621743, 1.0458986341621743, 1.0458986341621743, 3.895883793827675, 2.43931907054164, 2.4720819573153197, 3.344459946559471, 8.044531486335895, 4.1185480156674386, 9.63502933937575, 5.150052774280547, 6.468923110844359, 13.091747783301988, 14.11113760836021, 9.858695700503029, 5.433433110559075, 7.042363818850484, 7.883958010179324, 2.820868368034978, 5.173303111361209, 2.5609516762964804, 2.5282537679793537, 2.528239216364156, 1.6353312028332396, 8.302453578955301, 3.6909568106514334, 3.6932577496349097, 1.9485788756791198, 3.7542269744028, 2.8513823291611424, 1.9485701302085765, 2.851372001846728, 1.5160324447296933, 1.0040224662931843, 1.0040224662931843, 1.0040224662931843, 1.0040224662931843, 1.0040224662931843, 1.0040224662931843, 1.0040224662931843, 1.0040224662931843, 1.0040224662931843, 1.0040224662931843, 1.0040224662931843, 1.0040224662931843, 1.0040224662931843, 1.0040224662931843, 1.0040224662931843, 1.0040224662931843, 1.0040224662931843, 1.0040224662931843, 1.0040224662931843, 1.0040224662931843, 1.0040224662931843, 1.0040224662931843, 1.0040224662931843, 1.0040224662931843, 1.0040224662931843, 1.0040224662931843, 1.0040224662931843, 1.0040224234144333, 1.0040224234144333, 2.355565252783678, 2.9447658738463915, 3.2277006698715858, 4.194002461217879, 4.436858358400964, 5.769764754066847, 20.155767283336885, 7.9573702108331466, 10.688765726165423, 11.013350265180936, 3.6210419160475267, 8.302453578955301, 4.427773837647595, 7.5894649735924915, 4.427788539888607, 5.330488734282901, 3.618477785485359, 2.77891313070722, 2.519016704770853, 5.639346407818349, 3.3330033168112, 18.36060937215613, 6.299297355316381, 6.390010521833218, 7.697567643599573, 1.876441604233868, 1.8435552743471688, 4.36239137482177, 9.775651844840423, 0.49203257655156096, 0.49203257655156096, 0.49203257655156096, 0.49203257655156096, 0.49203257655156096, 0.49203257655156096, 0.49203257655156096, 0.49203257655156096, 0.49203257655156096, 0.49203257655156096, 0.49203257655156096, 0.49203257655156096, 0.49203257655156096, 0.49203257655156096, 0.49203257655156096, 0.49203257655156096, 0.49203257655156096, 0.49203257655156096, 0.49203257655156096, 0.49203257655156096, 0.49203257655156096, 0.49203257655156096, 0.49203257655156096, 0.49203257655156096, 0.49203257655156096, 0.49203257655156096, 0.49203257655156096, 0.49203257655156096, 0.49203257655156096, 0.49203257655156096, 20.155767283336885, 8.055200156726176, 11.691148817113694, 3.199680424928521, 5.294472427933858, 2.296953930975302, 6.963550329650576, 22.520580735897127, 3.9786252424091697, 1.3943400178098586, 6.390010521833218, 2.876714131531495, 1.3944066604604988, 2.2667305002142006, 7.562338163956354, 1.9482878455596562, 5.005620709492624, 2.233967991121292, 14.11113760836021, 1.3944443131380466, 1.3944455792978028, 1.3944493781072893, 3.0736066846590404, 2.2339965138932096, 1.3944639728742243, 1.3944650390329132, 1.3944711701058086, 10.688765726165423, 1.3944836988463079, 1.3944858312737576, 0.49203257655156096, 0.49203257655156096, 0.49203257655156096, 0.49203257655156096, 0.49203257655156096, 0.49203257655156096, 0.49203257655156096, 0.49203257655156096, 0.49203257655156096, 0.49203257655156096, 0.49203257655156096, 0.49203257655156096, 0.49203257655156096, 0.49203257655156096, 0.49203257655156096, 0.49203257655156096, 0.49203257655156096, 0.49203257655156096, 0.49203257655156096, 0.49203257655156096, 0.49203257655156096, 0.49203257655156096, 0.49203257655156096, 0.49203257655156096, 0.49203257655156096, 0.49203257655156096, 0.49203257655156096, 0.49203257655156096, 0.49203257655156096, 0.49203257655156096, 22.520580735897127, 7.042363818850484, 6.750554617521194, 4.958941537082428, 2.2975538359712515, 6.115102455760812, 9.775651844840423, 6.3385121776605935, 1.3947112089705647, 1.3947144748597171, 2.2975183384837408, 2.820868368034978, 1.394719473981477, 2.2975075876015443, 5.330488734282901, 1.3947205405219743, 2.8238878401578527, 8.550281722162385, 1.3947216732519083, 2.267141077697343, 9.858695700503029, 7.532087513453176, 1.3947225397378382, 1.3947236061218873, 1.394723873069908, 1.9485899972610785, 2.297417089153839, 1.3947244063662316, 3.1368515326848496, 1.3947244062358581, 0.49203257655156096, 0.49203257655156096, 0.49203257655156096, 0.49203257655156096, 0.49203257655156096, 0.49203257655156096, 0.49203257655156096, 0.49203257655156096, 0.49203257655156096, 0.49203257655156096, 0.49203257655156096, 0.49203257655156096, 0.49203257655156096, 0.49203257655156096, 0.49203257655156096, 0.49203257655156096, 0.49203257655156096, 0.49203257655156096, 0.49203257655156096, 0.49203257655156096, 0.49203257655156096, 0.49203257655156096, 0.49203257655156096, 0.49203257655156096, 0.49203257655156096, 0.49203257655156096, 0.49203257655156096, 0.49203257655156096, 0.49203257655156096, 0.49203257655156096, 1.3644516072977024, 3.1395355958678737, 1.3644517144922448, 2.793258186421428, 2.2368495457373805, 2.267150276165862, 2.2039844153516865, 2.2039844153516865, 2.2671217029014126, 3.4997113992035622, 1.3644517144922448, 5.862173943395642, 2.8571069695702094, 1.3644516072977024, 1.3644517144922448, 6.511619697510851, 1.3644517144922448, 3.169794935966834, 1.3644517144922448, 1.3644516072977024, 1.3644517144922448, 2.2368524062713604, 2.236819907482633, 5.639346407818349, 3.4896428366977985, 1.876441561355117, 2.2368407391632923, 4.00947959038727, 4.042351589797504, 1.3644517144922448], \"Category\": [\"Default\", \"Default\", \"Default\", \"Default\", \"Default\", \"Default\", \"Default\", \"Default\", \"Default\", \"Default\", \"Default\", \"Default\", \"Default\", \"Default\", \"Default\", \"Default\", \"Default\", \"Default\", \"Default\", \"Default\", \"Default\", \"Default\", \"Default\", \"Default\", \"Default\", \"Default\", \"Default\", \"Default\", \"Default\", \"Default\", \"Topic1\", \"Topic1\", \"Topic1\", \"Topic1\", \"Topic1\", \"Topic1\", \"Topic1\", \"Topic1\", \"Topic1\", \"Topic1\", \"Topic1\", \"Topic1\", \"Topic1\", \"Topic1\", \"Topic1\", \"Topic1\", \"Topic1\", \"Topic1\", \"Topic1\", \"Topic1\", \"Topic1\", \"Topic1\", \"Topic1\", \"Topic1\", \"Topic1\", \"Topic1\", \"Topic1\", \"Topic1\", \"Topic1\", \"Topic1\", \"Topic1\", \"Topic1\", \"Topic1\", \"Topic1\", \"Topic1\", \"Topic1\", \"Topic1\", \"Topic1\", \"Topic1\", \"Topic1\", \"Topic1\", \"Topic1\", \"Topic1\", \"Topic1\", \"Topic1\", \"Topic1\", \"Topic1\", \"Topic1\", \"Topic1\", \"Topic1\", \"Topic1\", \"Topic1\", \"Topic1\", \"Topic1\", \"Topic1\", \"Topic1\", \"Topic1\", \"Topic1\", \"Topic1\", \"Topic2\", \"Topic2\", \"Topic2\", \"Topic2\", \"Topic2\", \"Topic2\", \"Topic2\", \"Topic2\", \"Topic2\", \"Topic2\", \"Topic2\", \"Topic2\", \"Topic2\", \"Topic2\", \"Topic2\", \"Topic2\", \"Topic2\", \"Topic2\", \"Topic2\", \"Topic2\", \"Topic2\", \"Topic2\", \"Topic2\", \"Topic2\", \"Topic2\", \"Topic2\", \"Topic2\", \"Topic2\", \"Topic2\", \"Topic2\", \"Topic2\", \"Topic2\", \"Topic2\", \"Topic2\", \"Topic2\", \"Topic2\", \"Topic2\", \"Topic2\", \"Topic2\", \"Topic2\", \"Topic2\", \"Topic2\", \"Topic2\", \"Topic2\", \"Topic2\", \"Topic2\", \"Topic2\", \"Topic2\", \"Topic2\", \"Topic2\", \"Topic2\", \"Topic2\", \"Topic2\", \"Topic3\", \"Topic3\", \"Topic3\", \"Topic3\", \"Topic3\", \"Topic3\", \"Topic3\", \"Topic3\", \"Topic3\", \"Topic3\", \"Topic3\", \"Topic3\", \"Topic3\", \"Topic3\", \"Topic3\", \"Topic3\", \"Topic3\", \"Topic3\", \"Topic3\", \"Topic3\", \"Topic3\", \"Topic3\", \"Topic3\", \"Topic3\", \"Topic3\", \"Topic3\", \"Topic3\", \"Topic3\", \"Topic3\", \"Topic3\", \"Topic3\", \"Topic3\", \"Topic3\", \"Topic3\", \"Topic3\", \"Topic3\", \"Topic3\", \"Topic3\", \"Topic3\", \"Topic3\", \"Topic3\", \"Topic3\", \"Topic3\", \"Topic3\", \"Topic3\", \"Topic3\", \"Topic3\", \"Topic3\", \"Topic3\", \"Topic3\", \"Topic3\", \"Topic3\", \"Topic3\", \"Topic3\", \"Topic3\", \"Topic3\", \"Topic3\", \"Topic4\", \"Topic4\", \"Topic4\", \"Topic4\", \"Topic4\", \"Topic4\", \"Topic4\", \"Topic4\", \"Topic4\", \"Topic4\", \"Topic4\", \"Topic4\", \"Topic4\", \"Topic4\", \"Topic4\", \"Topic4\", \"Topic4\", \"Topic4\", \"Topic4\", \"Topic4\", \"Topic4\", \"Topic4\", \"Topic4\", \"Topic4\", \"Topic4\", \"Topic4\", \"Topic4\", \"Topic4\", \"Topic4\", \"Topic4\", \"Topic4\", \"Topic4\", \"Topic4\", \"Topic4\", \"Topic4\", \"Topic4\", \"Topic4\", \"Topic4\", \"Topic4\", \"Topic4\", \"Topic4\", \"Topic4\", \"Topic4\", \"Topic4\", \"Topic4\", \"Topic4\", \"Topic4\", \"Topic4\", \"Topic4\", \"Topic4\", \"Topic4\", \"Topic4\", \"Topic4\", \"Topic4\", \"Topic4\", \"Topic4\", \"Topic4\", \"Topic4\", \"Topic5\", \"Topic5\", \"Topic5\", \"Topic5\", \"Topic5\", \"Topic5\", \"Topic5\", \"Topic5\", \"Topic5\", \"Topic5\", \"Topic5\", \"Topic5\", \"Topic5\", \"Topic5\", \"Topic5\", \"Topic5\", \"Topic5\", \"Topic5\", \"Topic5\", \"Topic5\", \"Topic5\", \"Topic5\", \"Topic5\", \"Topic5\", \"Topic5\", \"Topic5\", \"Topic5\", \"Topic5\", \"Topic5\", \"Topic5\", \"Topic5\", \"Topic5\", \"Topic5\", \"Topic5\", \"Topic5\", \"Topic5\", \"Topic5\", \"Topic5\", \"Topic5\", \"Topic5\", \"Topic5\", \"Topic5\", \"Topic5\", \"Topic5\", \"Topic5\", \"Topic5\", \"Topic5\", \"Topic5\", \"Topic5\", \"Topic5\", \"Topic5\", \"Topic5\", \"Topic5\", \"Topic6\", \"Topic6\", \"Topic6\", \"Topic6\", \"Topic6\", \"Topic6\", \"Topic6\", \"Topic6\", \"Topic6\", \"Topic6\", \"Topic6\", \"Topic6\", \"Topic6\", \"Topic6\", \"Topic6\", \"Topic6\", \"Topic6\", \"Topic6\", \"Topic6\", \"Topic6\", \"Topic6\", \"Topic6\", \"Topic6\", \"Topic6\", \"Topic6\", \"Topic6\", \"Topic6\", \"Topic6\", \"Topic6\", \"Topic6\", \"Topic6\", \"Topic6\", \"Topic6\", \"Topic6\", \"Topic6\", \"Topic6\", \"Topic6\", \"Topic6\", \"Topic6\", \"Topic6\", \"Topic6\", \"Topic6\", \"Topic6\", \"Topic6\", \"Topic6\", \"Topic6\", \"Topic6\", \"Topic6\", \"Topic6\", \"Topic6\", \"Topic6\", \"Topic6\", \"Topic6\", \"Topic6\", \"Topic6\", \"Topic6\", \"Topic6\", \"Topic6\", \"Topic6\", \"Topic7\", \"Topic7\", \"Topic7\", \"Topic7\", \"Topic7\", \"Topic7\", \"Topic7\", \"Topic7\", \"Topic7\", \"Topic7\", \"Topic7\", \"Topic7\", \"Topic7\", \"Topic7\", \"Topic7\", \"Topic7\", \"Topic7\", \"Topic7\", \"Topic7\", \"Topic7\", \"Topic7\", \"Topic7\", \"Topic7\", \"Topic7\", \"Topic7\", \"Topic7\", \"Topic7\", \"Topic7\", \"Topic7\", \"Topic7\", \"Topic7\", \"Topic7\", \"Topic7\", \"Topic7\", \"Topic7\", \"Topic7\", \"Topic7\", \"Topic7\", \"Topic7\", \"Topic7\", \"Topic7\", \"Topic7\", \"Topic7\", \"Topic7\", \"Topic7\", \"Topic7\", \"Topic7\", \"Topic7\", \"Topic7\", \"Topic7\", \"Topic7\", \"Topic7\", \"Topic7\", \"Topic7\", \"Topic7\", \"Topic7\", \"Topic7\", \"Topic7\", \"Topic7\", \"Topic8\", \"Topic8\", \"Topic8\", \"Topic8\", \"Topic8\", \"Topic8\", \"Topic8\", \"Topic8\", \"Topic8\", \"Topic8\", \"Topic8\", \"Topic8\", \"Topic8\", \"Topic8\", \"Topic8\", \"Topic8\", \"Topic8\", \"Topic8\", \"Topic8\", \"Topic8\", \"Topic8\", \"Topic8\", \"Topic8\", \"Topic8\", \"Topic8\", \"Topic8\", \"Topic8\", \"Topic8\", \"Topic8\", \"Topic8\", \"Topic8\", \"Topic8\", \"Topic8\", \"Topic8\", \"Topic8\", \"Topic8\", \"Topic8\", \"Topic8\", \"Topic8\", \"Topic8\", \"Topic8\", \"Topic8\", \"Topic8\", \"Topic8\", \"Topic8\", \"Topic8\", \"Topic8\", \"Topic8\", \"Topic8\", \"Topic8\", \"Topic8\", \"Topic8\", \"Topic8\", \"Topic8\", \"Topic8\", \"Topic8\", \"Topic8\", \"Topic8\", \"Topic8\", \"Topic8\", \"Topic9\", \"Topic9\", \"Topic9\", \"Topic9\", \"Topic9\", \"Topic9\", \"Topic9\", \"Topic9\", \"Topic9\", \"Topic9\", \"Topic9\", \"Topic9\", \"Topic9\", \"Topic9\", \"Topic9\", \"Topic9\", \"Topic9\", \"Topic9\", \"Topic9\", \"Topic9\", \"Topic9\", \"Topic9\", \"Topic9\", \"Topic9\", \"Topic9\", \"Topic9\", \"Topic9\", \"Topic9\", \"Topic9\", \"Topic9\", \"Topic9\", \"Topic9\", \"Topic9\", \"Topic9\", \"Topic9\", \"Topic9\", \"Topic9\", \"Topic9\", \"Topic9\", \"Topic9\", \"Topic9\", \"Topic9\", \"Topic9\", \"Topic9\", \"Topic9\", \"Topic9\", \"Topic9\", \"Topic9\", \"Topic9\", \"Topic9\", \"Topic9\", \"Topic9\", \"Topic9\", \"Topic9\", \"Topic9\", \"Topic9\", \"Topic9\", \"Topic9\", \"Topic9\", \"Topic9\", \"Topic10\", \"Topic10\", \"Topic10\", \"Topic10\", \"Topic10\", \"Topic10\", \"Topic10\", \"Topic10\", \"Topic10\", \"Topic10\", \"Topic10\", \"Topic10\", \"Topic10\", \"Topic10\", \"Topic10\", \"Topic10\", \"Topic10\", \"Topic10\", \"Topic10\", \"Topic10\", \"Topic10\", \"Topic10\", \"Topic10\", \"Topic10\", \"Topic10\", \"Topic10\", \"Topic10\", \"Topic10\", \"Topic10\", \"Topic10\", \"Topic10\", \"Topic10\", \"Topic10\", \"Topic10\", \"Topic10\", \"Topic10\", \"Topic10\", \"Topic10\", \"Topic10\", \"Topic10\", \"Topic10\", \"Topic10\", \"Topic10\", \"Topic10\", \"Topic10\", \"Topic10\", \"Topic10\", \"Topic10\", \"Topic10\", \"Topic10\", \"Topic10\", \"Topic10\", \"Topic10\", \"Topic10\", \"Topic10\", \"Topic10\", \"Topic10\", \"Topic10\", \"Topic10\", \"Topic10\"], \"logprob\": [30.0, 29.0, 28.0, 27.0, 26.0, 25.0, 24.0, 23.0, 22.0, 21.0, 20.0, 19.0, 18.0, 17.0, 16.0, 15.0, 14.0, 13.0, 12.0, 11.0, 10.0, 9.0, 8.0, 7.0, 6.0, 5.0, 4.0, 3.0, 2.0, 1.0, -4.8261, -5.0443, -5.324, -5.7132, -5.7132, -5.7133, -5.7133, -5.7133, -5.7133, -5.7133, -5.7133, -5.7133, -5.7133, -5.7133, -5.7136, -5.7134, -5.7133, -5.7134, -5.7133, -5.7134, -5.7134, -5.7134, -5.7134, -5.7134, -5.7134, -5.7134, -5.7134, -5.7135, -4.8259, -5.3239, -4.8261, -4.3635, -4.826, -4.8241, -4.8258, -5.3238, -5.0443, -4.4951, -5.0319, -4.4952, -5.0443, -5.3239, -5.0443, -4.6471, -5.0442, -5.0442, -5.3238, -5.3221, -5.0443, -5.0442, -5.3223, -5.3208, -5.3238, -5.324, -5.3221, -5.0418, -5.321, -5.3146, -5.3228, -4.6393, -4.8575, -5.1374, -5.5266, -5.5267, -5.5267, -5.5267, -5.5267, -5.5267, -5.5269, -5.5269, -5.5269, -5.5269, -5.5269, -5.5269, -5.5269, -5.5269, -5.5269, -5.5269, -4.8577, -5.1375, -5.1374, -4.4604, -6.1733, -6.1733, -6.1733, -6.1733, -6.1733, -6.1733, -6.1733, -5.1374, -5.1372, -4.6394, -4.8578, -4.8575, -3.7755, -5.1375, -4.4606, -4.1769, -4.6395, -4.8577, -4.8579, -4.6393, -4.6393, -5.1373, -5.1371, -4.8579, -4.8578, -5.1371, -5.1371, -5.1371, -5.1375, -5.5266, -4.7498, -5.0294, -5.0294, -5.0294, -5.4189, -5.4189, -5.4189, -5.4189, -5.4189, -5.4189, -5.4189, -5.4189, -5.4189, -5.4189, -5.4189, -5.4189, -5.4189, -4.7498, -6.0656, -6.0656, -6.0656, -6.0656, -6.0656, -6.0656, -6.0656, -6.0656, -6.0656, -6.0656, -6.0656, -6.0656, -3.5144, -4.5316, -4.5316, -5.0294, -5.0294, -4.7498, -5.4189, -5.0294, -4.7498, -4.2007, -5.4189, -4.5315, -4.0689, -4.3524, -3.9524, -4.3524, -4.5316, -5.0293, -5.0292, -5.0291, -5.0292, -5.0292, -5.4187, -5.4187, -5.4187, -5.4187, -5.4188, -4.7086, -4.7087, -5.3551, -5.3552, -5.3552, -5.3552, -5.3552, -5.3552, -5.3552, -5.3552, -5.3552, -5.3552, -5.3552, -5.3552, -5.3552, -5.3552, -5.3552, -5.3552, -5.3553, -5.3553, -5.3553, -5.3553, -5.3553, -5.3553, -5.3553, -5.3553, -5.3553, -5.3553, -5.3553, -5.3553, -4.3193, -4.7085, -3.4904, -3.6425, -4.3189, -4.7086, -3.8209, -4.3189, -4.3192, -4.7087, -4.7086, -4.319, -4.3188, -4.3194, -4.7086, -4.7081, -4.7087, -4.7084, -4.7086, -5.3546, -5.3546, -5.3548, -5.3548, -5.3548, -5.3548, -5.3548, -5.3549, -5.3549, -4.5344, -5.181, -5.181, -5.181, -5.181, -5.1811, -5.1811, -5.1811, -5.1811, -5.1811, -5.1811, -5.1811, -5.1811, -5.1811, -5.1812, -5.1812, -5.1812, -5.1812, -5.1812, -5.1812, -5.1813, -5.1813, -5.1813, -5.1813, -5.1813, -5.1814, -5.1816, -5.1817, -5.1811, -5.1817, -4.1451, -4.1461, -4.1455, -4.5347, -4.5345, -4.5349, -4.5353, -4.5343, -4.145, -4.5362, -4.5348, -4.5379, -4.5356, -4.1468, -4.5349, -4.5354, -5.1809, -5.181, -5.181, -5.181, -5.181, -5.1811, -5.1811, -4.4443, -5.091, -5.091, -5.091, -5.091, -5.091, -5.091, -5.091, -5.091, -5.091, -5.091, -5.091, -5.091, -5.091, -5.091, -5.091, -5.091, -5.091, -5.091, -5.091, -5.091, -5.091, -5.091, -5.091, -5.091, -5.091, -5.091, -5.091, -5.091, -5.091, -4.0549, -4.4443, -4.4443, -4.4443, -4.0549, -4.4443, -4.0549, -4.4443, -4.4443, -4.4443, -4.4443, -5.091, -5.091, -5.091, -5.091, -5.091, -5.091, -5.091, -5.091, -5.091, -5.091, -5.091, -5.091, -5.091, -5.091, -5.091, -5.091, -5.091, -5.091, -4.4502, -5.0968, -5.0968, -5.0968, -5.0968, -5.0968, -5.0968, -5.0968, -5.0968, -5.0968, -5.0968, -5.0968, -5.0968, -5.0968, -5.0968, -5.0968, -5.0968, -5.0968, -5.0968, -5.0968, -5.0968, -5.0968, -5.0968, -5.0968, -5.0968, -5.0968, -5.0968, -5.0968, -5.0968, -5.0968, -4.4502, -4.4502, -4.4499, -4.4502, -4.4502, -4.4502, -4.0604, -4.4502, -5.0955, -5.0961, -5.0963, -5.0963, -5.0964, -5.0964, -5.0964, -5.0964, -5.0964, -5.0965, -5.0965, -5.0968, -5.0968, -5.0968, -5.0968, -5.0968, -5.0968, -5.0968, -5.0968, -5.0968, -5.0968, -6.7781, -6.7781, -6.7781, -6.7781, -6.7781, -6.7781, -6.7781, -6.7781, -6.7781, -6.7781, -6.7781, -6.7781, -6.7781, -6.7781, -6.7781, -6.7781, -6.7781, -6.7781, -6.7781, -6.7781, -6.7781, -6.7781, -6.7781, -6.7781, -6.7781, -6.7781, -6.7781, -6.7781, -6.7781, -6.7781, -6.7639, -6.7648, -6.7661, -6.7697, -6.7701, -6.7709, -6.7724, -6.7729, -6.7731, -6.7735, -6.7738, -6.7739, -6.7742, -6.7743, -6.7743, -6.7744, -6.7745, -6.7745, -6.7746, -6.7746, -6.7747, -6.7747, -6.7747, -6.7749, -6.7749, -6.7749, -6.7749, -6.775, -6.7751, -6.7751, -6.7777, -6.7777, -6.7777, -6.7777, -6.7777, -6.7777, -6.7777, -6.7777, -6.7777, -6.7777, -6.7777, -6.7777, -6.7777, -6.7777, -6.7777, -6.7777, -6.7777, -6.7777, -6.7777, -6.7777, -6.7777, -6.7777, -6.7777, -6.7777, -6.7777, -6.7777, -6.7777, -6.7777, -6.7777, -6.7777, -6.7766, -6.7767, -6.777, -6.777, -6.7771, -6.7771, -6.7771, -6.7771, -6.7772, -6.7772, -6.7772, -6.7772, -6.7773, -6.7773, -6.7773, -6.7773, -6.7773, -6.7773, -6.7773, -6.7773, -6.7773, -6.7773, -6.7773, -6.7773, -6.7773, -6.7773, -6.7773, -6.7773, -6.7773, -6.7773, -6.7776, -6.7776, -6.7776, -6.7776, -6.7776, -6.7776, -6.7776, -6.7776, -6.7776, -6.7776, -6.7776, -6.7776, -6.7776, -6.7776, -6.7776, -6.7776, -6.7776, -6.7776, -6.7776, -6.7776, -6.7776, -6.7776, -6.7776, -6.7776, -6.7776, -6.7776, -6.7776, -6.7776, -6.7776, -6.7776, -6.7776, -6.7776, -6.7776, -6.7776, -6.7776, -6.7776, -6.7776, -6.7776, -6.7776, -6.7776, -6.7776, -6.7776, -6.7776, -6.7776, -6.7776, -6.7776, -6.7776, -6.7776, -6.7776, -6.7776, -6.7776, -6.7776, -6.7776, -6.7776, -6.7776, -6.7776, -6.7776, -6.7776, -6.7776, -6.7776], \"loglift\": [30.0, 29.0, 28.0, 27.0, 26.0, 25.0, 24.0, 23.0, 22.0, 21.0, 20.0, 19.0, 18.0, 17.0, 16.0, 15.0, 14.0, 13.0, 12.0, 11.0, 10.0, 9.0, 8.0, 7.0, 6.0, 5.0, 4.0, 3.0, 2.0, 1.0, 1.1071, 1.0878, 1.0567, 0.9987, 0.9987, 0.9987, 0.9987, 0.9987, 0.9987, 0.9987, 0.9986, 0.9986, 0.9986, 0.9986, 0.9986, 0.9986, 0.9986, 0.9986, 0.9986, 0.9986, 0.9986, 0.9986, 0.9986, 0.9986, 0.9986, 0.9986, 0.9985, 0.9985, 0.9864, 0.8971, 0.863, 0.7215, 0.8081, 0.7984, 0.7661, 0.8737, 0.7469, 0.4017, 0.6577, 0.3, 0.4347, 0.6349, 0.3535, -0.1068, 0.2342, 0.2113, 0.5275, 0.5224, 0.1551, 0.1304, 0.453, 0.407, 0.3734, 0.3396, 0.3274, -0.6125, 0.3026, 0.1442, 0.2803, 1.3246, 1.3045, 1.272, 1.2121, 1.212, 1.212, 1.212, 1.212, 1.212, 1.2119, 1.2119, 1.2119, 1.2119, 1.2119, 1.2119, 1.2119, 1.2119, 1.2119, 1.2119, 1.1548, 1.1196, 1.0841, 1.0643, 1.0598, 1.0598, 1.0598, 1.0598, 1.0598, 1.0598, 1.0598, 1.033, 1.0173, 0.8813, 0.8591, 0.8459, 0.6538, 0.8821, 0.714, 0.3634, 0.616, 0.6394, 0.5996, 0.1559, 0.1253, 0.6913, 0.6769, 0.2868, 0.114, 0.5263, 0.3658, 0.3326, 0.2898, -0.2482, 1.4458, 1.4122, 1.4122, 1.4122, 1.3496, 1.3496, 1.3496, 1.3496, 1.3496, 1.3496, 1.3496, 1.3496, 1.3496, 1.3496, 1.3496, 1.3496, 1.3496, 1.3209, 1.1919, 1.1919, 1.1919, 1.1919, 1.1919, 1.1919, 1.1919, 1.1919, 1.1919, 1.1919, 1.1919, 1.1919, 1.1192, 1.1505, 1.1386, 1.1577, 1.1499, 1.1329, 1.1379, 1.0989, 1.0667, 0.944, 1.1095, 0.9856, 0.9029, 0.9115, 0.8122, 0.8471, 0.9003, 0.8915, 0.3686, -0.1323, -0.234, -0.4889, 0.7407, -0.9893, 0.5321, 0.665, 0.4815, 2.2599, 2.2598, 2.0622, 2.0622, 2.0622, 2.0621, 2.0621, 2.0621, 2.0621, 2.0621, 2.0621, 2.0621, 2.0621, 2.0621, 2.0621, 2.0621, 2.0621, 2.0621, 2.0621, 2.062, 2.062, 2.062, 2.062, 2.062, 2.062, 2.062, 2.062, 2.062, 2.062, 2.0619, 2.0236, 1.8607, 0.939, 0.9911, 1.3447, 1.5854, 0.7194, 1.0789, 0.9447, 1.2421, 1.1685, 0.5778, 0.4764, 0.4451, 0.9244, 0.9155, 0.5697, 0.4911, 0.2632, 0.1244, 0.474, -0.2101, 0.7143, 0.5455, 0.373, 0.4363, 0.8667, 0.4574, 2.4963, 2.2848, 2.2847, 2.2847, 2.2847, 2.2846, 2.2846, 2.2846, 2.2846, 2.2846, 2.2846, 2.2845, 2.2845, 2.2845, 2.2845, 2.2845, 2.2845, 2.2844, 2.2844, 2.2844, 2.2844, 2.2844, 2.2843, 2.2843, 2.2843, 2.2841, 2.284, 2.2838, 1.897, 1.8702, 1.5182, 1.5033, 1.2864, 1.6418, 1.6248, 1.5189, 1.4073, 1.2797, 0.6195, 1.2391, 1.1354, 1.0846, 1.0675, 0.2825, 0.9622, 0.9343, 1.2394, 1.7101, 1.3474, 1.7101, 1.7101, 1.2827, 1.6931, 2.6296, 2.408, 2.408, 2.408, 2.408, 2.408, 2.408, 2.408, 2.408, 2.408, 2.408, 2.408, 2.408, 2.408, 2.408, 2.408, 2.408, 2.408, 2.408, 2.408, 2.408, 2.408, 2.408, 2.408, 2.408, 2.408, 2.408, 2.408, 2.408, 2.408, 2.129, 2.2078, 2.1944, 1.8922, 1.404, 1.684, 1.2235, 1.4605, 1.2325, 0.5275, 0.4525, 0.1645, 0.7603, 0.5009, 0.388, 1.4158, 0.8093, 1.5125, 1.5253, 1.5253, 1.961, 0.3363, 1.1469, 1.1463, 1.7857, 1.1299, 1.405, 1.7857, 1.405, 2.6775, 2.443, 2.443, 2.443, 2.443, 2.443, 2.443, 2.443, 2.443, 2.443, 2.443, 2.443, 2.443, 2.443, 2.443, 2.443, 2.443, 2.443, 2.443, 2.443, 2.443, 2.443, 2.443, 2.443, 2.443, 2.443, 2.443, 2.443, 2.443, 2.443, 2.2369, 2.0136, 1.9221, 1.66, 1.6037, 1.341, 0.4799, 1.0195, 0.0791, 0.0486, 1.1608, 0.331, 0.9595, 0.4206, 0.9595, 0.7739, 1.1613, 1.4253, 1.5234, 0.7172, 1.2431, -0.4632, 0.6066, 0.5923, 0.4061, 1.8176, 1.8353, 0.974, 0.1671, 1.4749, 1.4749, 1.4749, 1.4749, 1.4749, 1.4749, 1.4749, 1.4749, 1.4749, 1.4749, 1.4749, 1.4749, 1.4749, 1.4749, 1.4749, 1.4749, 1.4749, 1.4749, 1.4749, 1.4749, 1.4749, 1.4749, 1.4749, 1.4749, 1.4749, 1.4749, 1.4749, 1.4749, 1.4749, 1.4749, -2.2236, -1.3073, -1.6811, -0.3889, -0.893, -0.0586, -1.1693, -2.3435, -0.6102, 0.4379, -1.0848, -0.2867, 0.4371, -0.0488, -1.2536, 0.1025, -0.8413, -0.0345, -1.8777, 0.4367, 0.4367, 0.4366, -0.3538, -0.0348, 0.4364, 0.4364, 0.4364, -1.6003, 0.4362, 0.4362, 1.4753, 1.4753, 1.4753, 1.4753, 1.4753, 1.4753, 1.4753, 1.4753, 1.4753, 1.4753, 1.4753, 1.4753, 1.4753, 1.4753, 1.4753, 1.4753, 1.4753, 1.4753, 1.4753, 1.4753, 1.4753, 1.4753, 1.4753, 1.4753, 1.4753, 1.4753, 1.4753, 1.4753, 1.4753, 1.4753, -2.3472, -1.1848, -1.1428, -0.8344, -0.0651, -1.044, -1.5132, -1.08, 0.4339, 0.4339, -0.0653, -0.2705, 0.4338, -0.0653, -0.9069, 0.4338, -0.2716, -1.3794, 0.4338, -0.052, -1.5218, -1.2527, 0.4338, 0.4338, 0.4338, 0.0994, -0.0653, 0.4338, -0.3767, 0.4338, 1.4754, 1.4754, 1.4754, 1.4754, 1.4754, 1.4754, 1.4754, 1.4754, 1.4754, 1.4754, 1.4754, 1.4754, 1.4754, 1.4754, 1.4754, 1.4754, 1.4754, 1.4754, 1.4754, 1.4754, 1.4754, 1.4754, 1.4754, 1.4754, 1.4754, 1.4754, 1.4754, 1.4754, 1.4754, 1.4754, 0.4554, -0.3779, 0.4554, -0.2611, -0.0389, -0.0524, -0.0241, -0.0241, -0.0524, -0.4865, 0.4554, -1.0024, -0.2837, 0.4554, 0.4554, -1.1074, 0.4554, -0.3875, 0.4554, 0.4554, 0.4554, -0.0389, -0.0389, -0.9636, -0.4836, 0.1368, -0.0389, -0.6225, -0.6307, 0.4554]}, \"token.table\": {\"Topic\": [1, 2, 3, 6, 2, 4, 1, 5, 3, 3, 3, 3, 5, 7, 1, 2, 1, 2, 2, 2, 3, 1, 3, 6, 2, 3, 5, 2, 1, 6, 4, 1, 2, 1, 2, 1, 3, 6, 1, 2, 3, 4, 6, 5, 2, 3, 6, 2, 3, 1, 2, 1, 2, 4, 5, 2, 1, 3, 4, 5, 5, 1, 2, 5, 2, 3, 1, 3, 1, 3, 1, 3, 7, 1, 1, 4, 5, 2, 7, 6, 1, 6, 4, 2, 3, 2, 6, 7, 6, 5, 2, 1, 2, 6, 7, 5, 1, 1, 3, 6, 3, 6, 1, 2, 3, 1, 3, 4, 5, 2, 1, 2, 3, 2, 1, 3, 4, 7, 1, 3, 4, 6, 3, 2, 3, 2, 6, 7, 1, 1, 1, 6, 3, 2, 2, 3, 3, 1, 1, 1, 2, 2, 3, 5, 7, 1, 4, 3, 4, 5, 7, 1, 3, 2, 3, 4, 1, 4, 2, 2, 7, 3, 1, 2, 6, 2, 2, 3, 2, 6, 5, 1, 2, 3, 1, 2, 1, 3, 5, 7, 5, 3, 1, 2, 3, 4, 1, 2, 3, 4, 5, 4, 3, 7, 5, 4, 1, 2, 3, 5, 3, 6, 1, 3, 5, 1, 3, 4, 5, 7, 6, 1, 3, 4, 7, 1, 1, 2, 3, 6, 1, 4, 4, 2, 4, 7, 6, 1, 2, 4, 6, 1, 3, 7, 6, 2, 3, 4, 5, 2, 7, 1, 2, 3, 5, 1, 2, 4, 5, 7, 2, 5, 4, 1, 6, 2, 3, 4, 5, 7, 4, 2, 3, 7, 2, 3, 5, 2, 3, 4, 6, 6, 1, 3, 4, 2, 3, 7, 4, 2, 4, 6, 1, 2, 3, 4, 6, 1, 5, 3, 1, 4, 1, 3, 4, 5, 6, 1, 2, 4, 5, 1, 1, 4, 7, 1, 3, 5, 7, 6, 7, 1, 5, 1, 3, 5, 4, 6, 3, 5, 1, 2, 6, 7, 4, 5, 6, 3, 6, 5, 1, 7, 6, 3, 4, 3, 5, 4, 2, 3, 4, 7, 1, 3, 5, 1, 2, 3, 4, 5, 7, 1, 2, 3, 6, 1, 4, 5, 3, 1, 2, 4, 1, 1, 3, 6, 2, 3, 7, 1, 2, 3, 6, 1, 4, 1, 2, 3, 5, 7, 3, 5, 3, 7, 3, 1, 2, 3, 5, 6, 7, 1, 7, 6, 7, 2, 2, 5, 7, 6, 1, 2, 6, 2, 3, 4, 7, 1, 3, 4, 7, 1, 3, 4, 6, 6, 1, 2, 1, 2, 7, 3, 4, 5, 2, 4, 1, 3, 1, 6, 1, 2, 3, 5, 3, 5, 5, 1, 7, 1, 3, 4, 5, 1, 6, 1, 2, 6, 6, 1, 2, 3, 7, 2, 3, 1, 2, 7, 6, 1, 2, 3, 4, 3, 4, 6, 5, 1, 1, 1, 2, 7, 1, 2, 3, 4, 6, 7, 5, 1, 6, 1, 2, 3, 7, 1, 2, 3, 7, 1, 1, 4, 1, 7, 1, 2, 3, 6, 7, 7, 1, 3, 5, 6, 7, 7, 6, 5, 1, 4, 1, 1, 2, 4, 6, 7, 3, 7, 7, 3, 4, 3, 5, 7, 1, 4, 7, 1, 2, 5, 1, 2, 3, 4, 7, 7, 4, 2, 4, 6, 1, 2, 1, 4, 6, 1, 2, 3, 1, 3, 5, 7, 5, 1, 2, 7, 1, 3, 7, 2, 1, 1, 1, 2, 3, 5, 7, 3, 6, 1, 2, 3, 4, 5, 5, 5, 3, 1, 6, 1, 2, 4, 1, 3, 4, 5, 1, 5, 2, 3, 4, 7, 5, 3, 7, 2, 3, 4, 2, 3, 6, 2, 5, 2, 4, 1, 3, 1, 4, 4, 2, 7, 1, 1, 3, 5, 3, 2, 4, 1, 2, 1, 7, 6, 3, 4, 6, 4, 1, 1, 3, 6, 5, 7, 1, 2, 3, 4, 6, 1, 2, 3, 4, 5, 1, 1, 2, 3, 4, 7, 2], \"Freq\": [0.1777661024903346, 0.1777661024903346, 0.5332983074710037, 0.9561155577078683, 0.7328951753594991, 0.8811981220503085, 0.87048947737379, 0.9248229852796208, 0.7509957393018164, 0.921155979218369, 0.7509957393018164, 0.3395855707516132, 0.3395855707516132, 0.3395855707516132, 0.3185184462683457, 0.6370368925366914, 0.7171509060848525, 0.7328951177815268, 0.9649345658232087, 0.8941768066875376, 0.7509957393018164, 0.8705480411971713, 0.996414790068936, 0.9561155577078683, 0.3580048578614017, 0.3580048578614017, 0.3580048578614017, 0.8941146729386742, 0.5131945195964825, 0.5131945195964825, 0.8811997416949203, 0.7169884844536656, 0.894166014665512, 0.441082362520393, 0.441082362520393, 0.256681167334693, 0.256681167334693, 0.513362334669386, 0.5073593739128779, 0.25367968695643894, 0.12683984347821947, 0.12683984347821947, 0.12683984347821947, 0.9248544693987707, 0.4537237164811946, 0.4537237164811946, 0.9561155998650464, 0.4537237164811946, 0.4537237164811946, 0.44108792162336147, 0.44108792162336147, 0.2857378469057684, 0.2857378469057684, 0.2857378469057684, 0.2857378469057684, 0.7328951177815268, 0.511755541368713, 0.1705851804562377, 0.1705851804562377, 0.1705851804562377, 0.9248322248882521, 0.3500043962828695, 0.3500043962828695, 0.3500043962828695, 0.25752688468104507, 0.7725806540431353, 0.4476339875837127, 0.4476339875837127, 0.6148181402693327, 0.4098787601795551, 0.1899305993849362, 0.5697917981548086, 0.1899305993849362, 0.8705044771568223, 0.8705068628932783, 0.8811619176746096, 0.9248837098437066, 0.8941759020417243, 0.9959936491181964, 0.9561155998650464, 0.7990992607678501, 0.26636642025595003, 0.8812013919562565, 0.31081560710788725, 0.6216312142157745, 0.7328951753594991, 0.9561155577078683, 0.9959936916540629, 0.9561155577078683, 0.9248455262396048, 0.7328951177815268, 0.35450076697361166, 0.35450076697361166, 0.35450076697361166, 0.9959936491181964, 0.9248575688979451, 0.8704910277562807, 0.7171308904744546, 0.7509957393018164, 0.9561155577078683, 0.7284120492434831, 0.24280401641449437, 0.2513430994557486, 0.5026861989114972, 0.2513430994557486, 0.8705025108605968, 0.6142864887408965, 0.15357162218522413, 0.15357162218522413, 0.7328951177815268, 0.6309556423686982, 0.3154778211843491, 0.7509957393018164, 0.7328951177815268, 0.3836435366518851, 0.4795544208148564, 0.09591088416297128, 0.9959936491181964, 0.38660019661476136, 0.38660019661476136, 0.19330009830738068, 0.19330009830738068, 0.7509957393018164, 0.7328951753594991, 0.7791395291178459, 0.5980038726603527, 0.29900193633017635, 0.9959936491181964, 0.8707183775125985, 0.7169895121970097, 0.7169900604781265, 0.9561155998650464, 0.9211560578115848, 0.7328951177815268, 0.8941135295259945, 0.9211560578115848, 0.921155979218369, 0.7171289368405167, 0.8705666220985057, 0.8705085505671284, 0.8941265201143728, 0.5319765417922938, 0.17732551393076462, 0.17732551393076462, 0.17732551393076462, 0.8705428411071059, 0.8812020950111588, 0.3251467144550499, 0.3251467144550499, 0.3251467144550499, 0.3251467144550499, 0.44762827237240815, 0.44762827237240815, 0.28656227780212784, 0.28656227780212784, 0.28656227780212784, 0.87055501701706, 0.8811993813499721, 0.894179624209244, 0.5329236042276884, 0.5329236042276884, 0.7509957393018164, 0.38834553501821084, 0.38834553501821084, 0.19417276750910542, 0.894168081520924, 0.8941181931209441, 0.7509957393018164, 0.40451733286626135, 0.40451733286626135, 0.9248611658745747, 0.49881785276947194, 0.24940892638473597, 0.24940892638473597, 0.4947615158087194, 0.4947615158087194, 0.25478603920276943, 0.25478603920276943, 0.25478603920276943, 0.25478603920276943, 0.9247575720192182, 0.7509957393018164, 0.7169877990249879, 0.7328951177815268, 0.7509957393018164, 0.8811683132288729, 0.4880419354971578, 0.16268064516571926, 0.16268064516571926, 0.16268064516571926, 0.16268064516571926, 0.8811884454477614, 0.5424301695288823, 0.5424301695288823, 0.9248496164196257, 0.8811998262477856, 0.12916048478425884, 0.5166419391370354, 0.2583209695685177, 0.12916048478425884, 0.9211560578115848, 0.9561155998650464, 0.5484409250893999, 0.36562728339293327, 0.18281364169646663, 0.2322209230106655, 0.464441846021331, 0.2322209230106655, 0.2322209230106655, 0.9959936491181964, 0.9561155577078683, 0.20458993750433097, 0.5114748437608274, 0.20458993750433097, 0.10229496875216548, 0.8705008065442713, 0.5987435545900576, 0.17106958702573072, 0.17106958702573072, 0.08553479351286536, 0.8704703712134279, 0.8811916047867158, 0.8811933617025411, 0.39698029715565814, 0.39698029715565814, 0.39698029715565814, 0.9561155577078683, 0.45767966982997493, 0.15255988994332498, 0.30511977988664996, 0.15255988994332498, 0.6375819764374339, 0.31879098821871693, 0.9959936491181964, 0.9561155577078683, 0.2033097637509941, 0.4066195275019882, 0.2033097637509941, 0.2033097637509941, 0.8284908237888027, 0.27616360792960093, 0.24828681610474684, 0.4965736322094937, 0.24828681610474684, 0.12414340805237342, 0.35987332316035064, 0.539809984740526, 0.17993666158017532, 0.9248392280775215, 0.9959936916540629, 0.511897522377531, 0.511897522377531, 0.8811842898306939, 0.7014141806049512, 0.3507070903024756, 0.24833626503834963, 0.49667253007669926, 0.12416813251917481, 0.12416813251917481, 0.9959936491181964, 0.8811968456292494, 0.4516942538922828, 0.4516942538922828, 0.2258471269461414, 0.4575645350161414, 0.3050430233440943, 0.3050430233440943, 0.30553598084908445, 0.5346879664858978, 0.07638399521227111, 0.07638399521227111, 0.9561155998650464, 0.4678208426316497, 0.35086563197373727, 0.23391042131582485, 0.45169275406506093, 0.45169275406506093, 0.22584637703253047, 0.8811565859070062, 0.39047983968449956, 0.39047983968449956, 0.39047983968449956, 0.4151518235292845, 0.20757591176464224, 0.10378795588232112, 0.10378795588232112, 0.20757591176464224, 0.7169879362553847, 0.9248516043504572, 0.7509957393018164, 0.3009135815863243, 0.6018271631726486, 0.4576932169707627, 0.22884660848538135, 0.22884660848538135, 0.22884660848538135, 0.9561155577078683, 0.43973048112909985, 0.2931536540860666, 0.1465768270430333, 0.1465768270430333, 0.8704703712134279, 0.6932691661615112, 0.1733172915403778, 0.1733172915403778, 0.22538470224242144, 0.22538470224242144, 0.22538470224242144, 0.22538470224242144, 0.9561155998650464, 0.9959936491181964, 0.8704863249022853, 0.9248957267590923, 0.35412171325618264, 0.35412171325618264, 0.35412171325618264, 0.8811907684358741, 0.9561155577078683, 0.520627416605599, 0.520627416605599, 0.3000297044278776, 0.3000297044278776, 0.3000297044278776, 0.3000297044278776, 0.8811605366599521, 0.9248208338147541, 0.9561155577078683, 0.4099504702260842, 0.4099504702260842, 0.9247203708581051, 0.8704843823735433, 0.9959936491181964, 0.6250835023705027, 0.921155979218369, 0.8811597404326921, 0.996414790068936, 0.9248562236216338, 0.8811960801640465, 0.108928846502938, 0.6535730790176281, 0.217857693005876, 0.054464423251469, 0.24202056715557513, 0.48404113431115026, 0.24202056715557513, 0.29594055769066324, 0.29594055769066324, 0.14797027884533162, 0.14797027884533162, 0.14797027884533162, 0.9959936491181964, 0.40573318433957795, 0.40573318433957795, 0.10143329608489449, 0.10143329608489449, 0.7320857180804682, 0.14641714361609365, 0.14641714361609365, 0.921155979218369, 0.3967027042375084, 0.5289369389833446, 0.5625317363158092, 0.87052127440072, 0.5418649154139008, 0.2709324577069504, 0.2709324577069504, 0.30981807245458887, 0.30981807245458887, 0.30981807245458887, 0.4732971896107068, 0.3155314597404712, 0.1577657298702356, 0.1577657298702356, 0.7171177299593241, 0.8811972815341859, 0.2513393177657116, 0.3770089766485675, 0.1256696588828558, 0.1256696588828558, 0.1256696588828558, 0.5206342547281292, 0.5206342547281292, 0.7453856414089017, 0.37269282070445087, 0.9211560578115848, 0.3729241417098901, 0.24861609447326005, 0.12430804723663003, 0.12430804723663003, 0.24861609447326005, 0.9959936491181964, 0.9375936348602746, 0.9959936491181964, 0.9561155998650464, 0.9959936491181964, 0.8941767540673558, 0.8941252876389021, 0.924841658079437, 0.9959936491181964, 0.9561155577078683, 0.7406798823643918, 0.2962719529457567, 0.9561155998650464, 0.2635231873338886, 0.5270463746677772, 0.1317615936669443, 0.1317615936669443, 0.19730296037029751, 0.5919088811108926, 0.19730296037029751, 0.19730296037029751, 0.7099888799576594, 0.14199777599153188, 0.14199777599153188, 0.14199777599153188, 0.9561155998650464, 0.2492501270109669, 0.7477503810329008, 0.31749572804529885, 0.6349914560905977, 0.15874786402264943, 0.5009374475048612, 0.2504687237524306, 0.2504687237524306, 1.0045246460400288, 0.8812061522196581, 0.2555256358272272, 0.7665769074816816, 0.5132711792454593, 0.5132711792454593, 0.43081472208595883, 0.28720981472397256, 0.14360490736198628, 0.14360490736198628, 0.7245412798739491, 0.36227063993697456, 0.9247908591220076, 0.7171208829254824, 0.9959936491181964, 0.4033118731173208, 0.2016559365586604, 0.2016559365586604, 0.2016559365586604, 0.5131915905375638, 0.5131915905375638, 0.2707636638950675, 0.541527327790135, 0.2707636638950675, 0.9561155998650464, 0.27635930335437076, 0.27635930335437076, 0.27635930335437076, 0.27635930335437076, 0.759760659099533, 0.2532535530331777, 0.7824713250339937, 0.15649426500679875, 0.15649426500679875, 0.9561155998650464, 0.37775246301178494, 0.18887623150589247, 0.18887623150589247, 0.18887623150589247, 0.3955299158119029, 0.3955299158119029, 0.3955299158119029, 0.9248333548171563, 0.870495635869658, 0.8705058416908872, 0.47687144165843626, 0.23843572082921813, 0.23843572082921813, 0.24089264468391766, 0.3613389670258765, 0.24089264468391766, 0.12044632234195883, 0.12044632234195883, 0.12044632234195883, 0.9247871502139556, 0.513196822889284, 0.513196822889284, 0.18760005880296224, 0.3752001176059245, 0.3752001176059245, 0.18760005880296224, 0.3742246862243648, 0.46778085778045597, 0.0935561715560912, 0.0935561715560912, 0.7171101904180521, 0.7806323132025139, 0.2602107710675047, 0.8704845230287724, 0.6596164900536141, 0.30917047022049843, 0.15458523511024921, 0.30917047022049843, 0.15458523511024921, 0.15458523511024921, 0.9959936491181964, 0.7171315416315247, 0.921155979218369, 0.611496923844835, 0.611496923844835, 0.9959936491181964, 0.9959936491181964, 0.9561155998650464, 0.5986480976337706, 0.8851396604717882, 0.17702793209435763, 0.7171112870142015, 0.8704907064765346, 0.8941729743163195, 0.8811599389012134, 0.9561155998650464, 0.9959936491181964, 0.42452655421803953, 0.42452655421803953, 0.9959936491181964, 0.750995687062969, 0.8811733626114494, 0.5206275463382495, 0.5206275463382495, 0.9959936491181964, 0.716992630409591, 0.8811704063188125, 0.9959936491181964, 0.2655306376124507, 0.6638265940311268, 0.9248734350865547, 0.29768154770075667, 0.34729513898421616, 0.14884077385037833, 0.14884077385037833, 0.0992271825669189, 0.9959936491181964, 0.8811984372713992, 0.8649523391566253, 0.21623808478915632, 0.9561155998650464, 0.7169943093366972, 0.8941788753982238, 0.7169875248726496, 0.5625428331622705, 0.9561155577078683, 0.44108415212328367, 0.44108415212328367, 0.996414790068936, 0.4512403678101529, 0.30082691187343524, 0.30082691187343524, 0.9959936491181964, 0.9248434585759447, 0.359852918376583, 0.359852918376583, 0.359852918376583, 0.7169889298905191, 0.9211560578115848, 0.9959936491181964, 0.8940662487355002, 0.7169875249396709, 0.8705047148604269, 0.2598223351324459, 0.3897335026986688, 0.2598223351324459, 0.12991116756622295, 0.12991116756622295, 0.921155979218369, 0.9561155577078683, 0.327059115439002, 0.327059115439002, 0.163529557719501, 0.163529557719501, 0.163529557719501, 0.9248001003841375, 0.9248868923049164, 0.921155979218369, 0.701416721039792, 0.350708360519896, 0.9988771203775059, 0.8941720784495294, 0.8811738182042329, 0.34761882977493613, 0.34761882977493613, 0.34761882977493613, 0.9248029496739603, 0.8705429905850688, 0.9246847006528428, 0.3631955675328088, 0.5447933512992131, 0.0907988918832022, 0.0907988918832022, 0.9248093323895614, 0.6876962065611475, 0.22923206885371583, 0.6533986428472011, 0.21779954761573367, 0.21779954761573367, 0.6436611301192033, 0.32183056505960167, 0.16091528252980083, 0.823980046808035, 0.9248145502810143, 0.3773692501437904, 0.3773692501437904, 0.32535067189669764, 0.6507013437933953, 0.7171851823995821, 0.8811942554682187, 0.8811837073374019, 0.5329235920497989, 0.5329235920497989, 0.8705129572828534, 0.6262535525083343, 0.3131267762541671, 0.15656338812708356, 0.9211560578115848, 0.7996068841695809, 0.266535628056527, 0.4411640465884685, 0.4411640465884685, 0.7171214312111859, 0.9959936491181964, 0.9561155577078683, 0.3955321923366466, 0.3955321923366466, 0.3955321923366466, 0.8811584416922205, 0.9748644864202032, 0.5521370998696833, 0.36809139991312223, 0.18404569995656112, 0.6276544477820807, 0.6276544477820807, 0.42519605197849336, 0.14173201732616444, 0.21259802598924668, 0.14173201732616444, 0.07086600866308222, 0.17761531316215662, 0.48844211119593073, 0.08880765658107831, 0.22201914145269577, 0.08880765658107831, 0.8705162120191375, 0.3840945818193461, 0.25606305454623074, 0.19204729090967304, 0.12803152727311537, 0.9959936491181964, 0.8941748863770572], \"Term\": [\"able\", \"able\", \"able\", \"absolutely\", \"abuse\", \"abusive\", \"academic\", \"accessible\", \"accountant\", \"accounting\", \"action\", \"actually\", \"actually\", \"actually\", \"addict\", \"addict\", \"addition\", \"addle\", \"adopt\", \"adoptive\", \"affirmative\", \"affluent\", \"afford\", \"afloat\", \"again\", \"again\", \"again\", \"age\", \"ago\", \"ago\", \"aimless\", \"all\", \"allow\", \"already\", \"already\", \"also\", \"also\", \"also\", \"always\", \"always\", \"always\", \"always\", \"always\", \"am\", \"amount\", \"amount\", \"anxiety\", \"anymore\", \"anymore\", \"anyway\", \"anyway\", \"apply\", \"apply\", \"apply\", \"apply\", \"around\", \"as\", \"as\", \"as\", \"as\", \"ask\", \"assistance\", \"assistance\", \"assistance\", \"attend\", \"attend\", \"away\", \"away\", \"bachelor\", \"bachelor\", \"back\", \"back\", \"back\", \"balance\", \"band\", \"bank\", \"bar\", \"barrier\", \"bath\", \"being\", \"belong\", \"belong\", \"benefit\", \"big\", \"big\", \"birthday\", \"biz\", \"book\", \"boy\", \"boyfriend\", \"brag\", \"break\", \"break\", \"break\", \"breakfast\", \"buy\", \"call\", \"campus\", \"candidate\", \"capacity\", \"career\", \"career\", \"change\", \"change\", \"change\", \"childhood\", \"class\", \"class\", \"class\", \"clear\", \"close\", \"close\", \"coast\", \"coke\", \"college\", \"college\", \"college\", \"combine\", \"come\", \"come\", \"come\", \"come\", \"comfort\", \"common\", \"community\", \"company\", \"company\", \"competition\", \"connect\", \"constantly\", \"conversation\", \"cost\", \"counseling\", \"country\", \"couple\", \"cover\", \"crappy\", \"cultural\", \"culture\", \"cycle\", \"dad\", \"day\", \"day\", \"day\", \"day\", \"debt\", \"decent\", \"decide\", \"decide\", \"decide\", \"decide\", \"definitely\", \"definitely\", \"degree\", \"degree\", \"degree\", \"depressed\", \"develop\", \"die\", \"different\", \"different\", \"difficulty\", \"do\", \"do\", \"do\", \"doctor\", \"dollar\", \"dorm\", \"doubt\", \"doubt\", \"downstairs\", \"drop\", \"drop\", \"drop\", \"drug\", \"drug\", \"early\", \"early\", \"early\", \"early\", \"easily\", \"eat\", \"egghead\", \"emancipation\", \"emotion\", \"employer\", \"end\", \"end\", \"end\", \"end\", \"end\", \"ensure\", \"entry\", \"entry\", \"essential\", \"ethic\", \"even\", \"even\", \"even\", \"even\", \"exam\", \"executive\", \"experience\", \"experience\", \"experience\", \"extra\", \"extra\", \"extra\", \"extra\", \"extreme\", \"fake\", \"family\", \"family\", \"family\", \"family\", \"father\", \"feel\", \"feel\", \"feel\", \"feel\", \"feeling\", \"fiance\", \"fight\", \"financial_aid\", \"financial_aid\", \"financial_aid\", \"firm\", \"first\", \"first\", \"first\", \"first\", \"fit\", \"fit\", \"focus\", \"folk\", \"food\", \"food\", \"food\", \"food\", \"free\", \"free\", \"friend\", \"friend\", \"friend\", \"friend\", \"full\", \"full\", \"full\", \"fully\", \"fun\", \"gap\", \"gap\", \"garage\", \"generation\", \"generation\", \"get\", \"get\", \"get\", \"get\", \"gift\", \"gig\", \"give\", \"give\", \"give\", \"go\", \"go\", \"go\", \"good\", \"good\", \"good\", \"good\", \"grad\", \"graduate\", \"graduate\", \"graduate\", \"grant\", \"grant\", \"grant\", \"grateful\", \"great\", \"great\", \"great\", \"grow\", \"grow\", \"grow\", \"grow\", \"grow\", \"guess\", \"guilt\", \"gutter\", \"hard\", \"hard\", \"head\", \"head\", \"head\", \"head\", \"hear\", \"help\", \"help\", \"help\", \"help\", \"here\", \"high_school\", \"high_school\", \"high_school\", \"home\", \"home\", \"home\", \"home\", \"honest\", \"honestly\", \"hope\", \"hospital\", \"house\", \"house\", \"house\", \"household\", \"humble\", \"hungry\", \"hungry\", \"idea\", \"idea\", \"idea\", \"idea\", \"immigrate\", \"inconceivable\", \"individual\", \"industry\", \"industry\", \"information\", \"institution\", \"inter\", \"intern\", \"internet\", \"invaluable\", \"it\", \"item\", \"janitor\", \"job\", \"job\", \"job\", \"job\", \"just\", \"just\", \"just\", \"keep\", \"keep\", \"keep\", \"keep\", \"keep\", \"ketchup\", \"kid\", \"kid\", \"kid\", \"kid\", \"know\", \"know\", \"know\", \"knowledge\", \"last\", \"last\", \"law\", \"lead\", \"less\", \"less\", \"less\", \"level\", \"level\", \"level\", \"life\", \"life\", \"life\", \"life\", \"lifestyle\", \"line\", \"live\", \"live\", \"live\", \"live\", \"live\", \"local\", \"local\", \"look\", \"look\", \"lose\", \"lot\", \"lot\", \"lot\", \"lot\", \"lot\", \"main\", \"make\", \"manage\", \"management\", \"math\", \"meal\", \"mean\", \"mentor\", \"middle\", \"mind\", \"mom\", \"mom\", \"moment\", \"money\", \"money\", \"money\", \"money\", \"more\", \"more\", \"more\", \"more\", \"most\", \"most\", \"most\", \"most\", \"mostly\", \"mother\", \"mother\", \"move\", \"move\", \"move\", \"much\", \"much\", \"much\", \"mum\", \"nail\", \"need\", \"need\", \"network\", \"network\", \"never\", \"never\", \"never\", \"never\", \"night\", \"night\", \"non\", \"none\", \"normal\", \"now\", \"now\", \"now\", \"now\", \"odd\", \"odd\", \"offer\", \"offer\", \"offer\", \"ol\", \"old\", \"old\", \"old\", \"old\", \"one\", \"one\", \"only\", \"only\", \"only\", \"opportunity\", \"other\", \"other\", \"other\", \"other\", \"otherwise\", \"otherwise\", \"otherwise\", \"outright\", \"outside\", \"overcome\", \"own\", \"own\", \"own\", \"parent\", \"parent\", \"parent\", \"parent\", \"parent\", \"parent\", \"parental\", \"past\", \"past\", \"pay\", \"pay\", \"pay\", \"pay\", \"people\", \"people\", \"people\", \"people\", \"person\", \"pick\", \"pick\", \"play\", \"point\", \"poor\", \"poor\", \"poor\", \"poor\", \"poor\", \"portfolio\", \"predominately\", \"private\", \"probably\", \"probably\", \"programmer\", \"programming\", \"psychological\", \"purchase\", \"push\", \"push\", \"question\", \"read\", \"ready\", \"receive\", \"recruit\", \"recycle\", \"result\", \"result\", \"reward\", \"rich\", \"ride\", \"right\", \"right\", \"room\", \"sac\", \"sale\", \"sandwich\", \"say\", \"say\", \"scholarship\", \"school\", \"school\", \"school\", \"school\", \"school\", \"science\", \"second\", \"see\", \"see\", \"senior\", \"set\", \"show\", \"sibling\", \"side\", \"significant\", \"single\", \"single\", \"sister\", \"so\", \"so\", \"so\", \"soap\", \"solidly\", \"sometimes\", \"sometimes\", \"sometimes\", \"somewhat\", \"soon\", \"spare\", \"spend\", \"spew\", \"stage\", \"start\", \"start\", \"start\", \"start\", \"start\", \"starve\", \"step\", \"still\", \"still\", \"still\", \"still\", \"still\", \"stock\", \"stress\", \"strong\", \"struggle\", \"struggle\", \"student\", \"success\", \"successful\", \"support\", \"support\", \"support\", \"surprised\", \"syndrome\", \"tail\", \"take\", \"take\", \"take\", \"take\", \"tea\", \"then\", \"then\", \"thing\", \"thing\", \"thing\", \"think\", \"think\", \"think\", \"time\", \"toast\", \"together\", \"together\", \"too\", \"too\", \"tool\", \"tooth\", \"town\", \"trash\", \"trash\", \"trauma\", \"try\", \"try\", \"try\", \"tuition\", \"undergrad\", \"undergrad\", \"understand\", \"understand\", \"uni\", \"unsettling\", \"verse\", \"very\", \"very\", \"very\", \"wage\", \"walk\", \"way\", \"way\", \"way\", \"weird\", \"weird\", \"well\", \"well\", \"well\", \"well\", \"well\", \"work\", \"work\", \"work\", \"work\", \"work\", \"write\", \"year\", \"year\", \"year\", \"year\", \"yield\", \"young\"]}, \"R\": 30, \"lambda.step\": 0.01, \"plot.opts\": {\"xlab\": \"PC1\", \"ylab\": \"PC2\"}, \"topic.order\": [3, 5, 10, 6, 7, 2, 4, 8, 9, 1]};\n",
       "\n",
       "function LDAvis_load_lib(url, callback){\n",
       "  var s = document.createElement('script');\n",
       "  s.src = url;\n",
       "  s.async = true;\n",
       "  s.onreadystatechange = s.onload = callback;\n",
       "  s.onerror = function(){console.warn(\"failed to load library \" + url);};\n",
       "  document.getElementsByTagName(\"head\")[0].appendChild(s);\n",
       "}\n",
       "\n",
       "if(typeof(LDAvis) !== \"undefined\"){\n",
       "   // already loaded: just create the visualization\n",
       "   !function(LDAvis){\n",
       "       new LDAvis(\"#\" + \"ldavis_el274831099412491848775878748\", ldavis_el274831099412491848775878748_data);\n",
       "   }(LDAvis);\n",
       "}else if(typeof define === \"function\" && define.amd){\n",
       "   // require.js is available: use it to load d3/LDAvis\n",
       "   require.config({paths: {d3: \"https://d3js.org/d3.v5\"}});\n",
       "   require([\"d3\"], function(d3){\n",
       "      window.d3 = d3;\n",
       "      LDAvis_load_lib(\"https://cdn.jsdelivr.net/gh/bmabey/pyLDAvis@3.3.1/pyLDAvis/js/ldavis.v3.0.0.js\", function(){\n",
       "        new LDAvis(\"#\" + \"ldavis_el274831099412491848775878748\", ldavis_el274831099412491848775878748_data);\n",
       "      });\n",
       "    });\n",
       "}else{\n",
       "    // require.js not available: dynamically load d3 & LDAvis\n",
       "    LDAvis_load_lib(\"https://d3js.org/d3.v5.js\", function(){\n",
       "         LDAvis_load_lib(\"https://cdn.jsdelivr.net/gh/bmabey/pyLDAvis@3.3.1/pyLDAvis/js/ldavis.v3.0.0.js\", function(){\n",
       "                 new LDAvis(\"#\" + \"ldavis_el274831099412491848775878748\", ldavis_el274831099412491848775878748_data);\n",
       "            })\n",
       "         });\n",
       "}\n",
       "</script>"
      ],
      "text/plain": [
       "PreparedData(topic_coordinates=              x         y  topics  cluster       Freq\n",
       "topic                                                \n",
       "2     -0.028258  0.177256       1        1  30.395046\n",
       "4     -0.034860 -0.188031       2        1  24.372528\n",
       "9     -0.178037 -0.062258       3        1  21.059428\n",
       "5     -0.136492  0.068363       4        1   7.922339\n",
       "6      0.094255 -0.113798       5        1   6.097715\n",
       "1      0.156987  0.014087       6        1   5.242623\n",
       "3      0.084590  0.105720       7        1   4.874612\n",
       "7      0.013928 -0.000447       8        1   0.012513\n",
       "8      0.013941 -0.000446       9        1   0.011857\n",
       "0      0.013947 -0.000446      10        1   0.011338, topic_info=             Term       Freq      Total Category  logprob  loglift\n",
       "57            job  18.000000  18.000000  Default  30.0000  30.0000\n",
       "124          work  22.000000  22.000000  Default  29.0000  29.0000\n",
       "95         school  20.000000  20.000000  Default  28.0000  28.0000\n",
       "41            get  16.000000  16.000000  Default  27.0000  27.0000\n",
       "140          good  13.000000  13.000000  Default  26.0000  26.0000\n",
       "..            ...        ...        ...      ...      ...      ...\n",
       "25      different   0.000244   1.876442  Topic10  -6.7776   0.1368\n",
       "26         dollar   0.000244   2.236841  Topic10  -6.7776  -0.0389\n",
       "27           drop   0.000244   4.009480  Topic10  -6.7776  -0.6225\n",
       "28           drug   0.000244   4.042352  Topic10  -6.7776  -0.6307\n",
       "29   emancipation   0.000244   1.364452  Topic10  -6.7776   0.4554\n",
       "\n",
       "[608 rows x 6 columns], token_table=      Topic      Freq        Term\n",
       "term                             \n",
       "127       1  0.177766        able\n",
       "127       2  0.177766        able\n",
       "127       3  0.533298        able\n",
       "815       6  0.956116  absolutely\n",
       "0         2  0.732895       abuse\n",
       "...     ...       ...         ...\n",
       "126       2  0.256063        year\n",
       "126       3  0.192047        year\n",
       "126       4  0.128032        year\n",
       "466       7  0.995994       yield\n",
       "620       2  0.894175       young\n",
       "\n",
       "[651 rows x 3 columns], R=30, lambda_step=0.01, plot_opts={'xlab': 'PC1', 'ylab': 'PC2'}, topic_order=[3, 5, 10, 6, 7, 2, 4, 8, 9, 1])"
      ]
     },
     "execution_count": 14,
     "metadata": {},
     "output_type": "execute_result"
    }
   ],
   "source": [
    "#use \"pip install pyLDAvis\" if the pyLDAvis library isn't installed on your system\n",
    "import pyLDAvis\n",
    "import pyLDAvis.gensim_models\n",
    "\n",
    "pyLDAvis.enable_notebook()\n",
    "vis = pyLDAvis.gensim_models.prepare(new_model, corpus, id2word, mds=\"mmds\", R=30)\n",
    "vis"
   ]
  },
  {
   "cell_type": "code",
   "execution_count": 13,
   "metadata": {},
   "outputs": [
    {
     "name": "stdout",
     "output_type": "stream",
     "text": [
      "Coherence Score:  0.40680322174378436\n"
     ]
    }
   ],
   "source": [
    "#Computte Coherence Score \n",
    "coherence_model_lda = CoherenceModel(\n",
    "    model = new_model,\n",
    "    texts = texts, \n",
    "    dictionary = id2word, \n",
    "    coherence = 'c_v'\n",
    ")\n",
    "coherence_lda = coherence_model_lda.get_coherence()\n",
    "print('Coherence Score: ', coherence_lda)"
   ]
  },
  {
   "cell_type": "markdown",
   "metadata": {},
   "source": [
    "### Tuning LDA Model"
   ]
  },
  {
   "cell_type": "code",
   "execution_count": 20,
   "metadata": {},
   "outputs": [],
   "source": [
    "#Using a function to find the most optimal number of topics for a better coherence score. \n",
    "\"\"\"Source_1 = https://neptune.ai/blog/pyldavis-topic-modelling-exploration-tool-that-every-nlp-data-scientist-should-know\"\"\"\n",
    "\"\"\"Source_2 = https://www.machinelearningplus.com/nlp/topic-modeling-gensim-python/#16buildingldamalletmodel\"\"\"\n",
    "\n",
    "def compute_coherence_values(chunksize, passes, iterations, eval_every, dictionary, corpus, texts, limit, start=2, step=3):\n",
    "    \"\"\"\n",
    "    Compute c_v coherence for various number of topics\n",
    "\n",
    "    Parameters:\n",
    "    ----------\n",
    "    dictionary : Gensim dictionary\n",
    "    corpus : Gensim corpus\n",
    "    texts : List of input texts\n",
    "    limit : Max num of topics\n",
    "\n",
    "    Returns:\n",
    " \n",
    " -------\n",
    "    model_list : List of LDA topic models\n",
    "    coherence_values : Coherence values corresponding to the LDA model with respective number of topics\n",
    "    \"\"\"\n",
    "    coherence_values = []\n",
    "    model_list = []\n",
    "    for num_topics in range(start, limit, step):\n",
    "        model = LdaModel(\n",
    "        corpus=corpus, \n",
    "        id2word=id2word,\n",
    "        chunksize=chunksize,\n",
    "        alpha=\"auto\",\n",
    "        eta=\"auto\",\n",
    "        iterations=iterations,\n",
    "        num_topics=num_topics,\n",
    "        passes=passes,\n",
    "        eval_every=eval_every\n",
    "        )\n",
    "        model_list.append(model)\n",
    "        coherencemodel = CoherenceModel(model=model, texts=texts, dictionary=dictionary, coherence='c_v')\n",
    "        coherence_values.append(coherencemodel.get_coherence())\n",
    "\n",
    "    return model_list, coherence_values"
   ]
  },
  {
   "cell_type": "code",
   "execution_count": 25,
   "metadata": {},
   "outputs": [],
   "source": [
    "model_list, coherence_values = compute_coherence_values(\n",
    "    dictionary=id2word, \n",
    "    corpus=corpus, \n",
    "    texts=texts, \n",
    "    start=2, \n",
    "    limit=40, \n",
    "    step=4, \n",
    "    chunksize = 2000, \n",
    "    passes = 20, \n",
    "    iterations = 400,\n",
    "    eval_every = 1\n",
    ")"
   ]
  },
  {
   "cell_type": "code",
   "execution_count": 26,
   "metadata": {
    "collapsed": true
   },
   "outputs": [
    {
     "data": {
      "image/png": "[encoded data removed]",
      "text/plain": [
       "<Figure size 432x288 with 1 Axes>"
      ]
     },
     "metadata": {
      "needs_background": "light"
     },
     "output_type": "display_data"
    }
   ],
   "source": [
    "# Show graph\n",
    "import matplotlib.pyplot as plt \n",
    "import pandas as pd\n",
    "\n",
    "limit=40; start=2; step=4;\n",
    "x = range(start, limit, step)\n",
    "plt.plot(x, coherence_values)\n",
    "plt.xlabel(\"Num Topics\")\n",
    "plt.ylabel(\"Coherence score\")\n",
    "plt.legend((\"coherence_values\"), loc='best')\n",
    "plt.show()"
   ]
  },
  {
   "cell_type": "code",
   "execution_count": 27,
   "metadata": {
    "scrolled": true
   },
   "outputs": [
    {
     "name": "stdout",
     "output_type": "stream",
     "text": [
      "10 topics give the highest coherence score of 0.4664847418612582 for this specific model\n"
     ]
    }
   ],
   "source": [
    "#Extracting the topic that gives the best results. \n",
    "best_result_model = coherence_values.index(max(coherence_values))\n",
    "optimal_model = model_list[best_result_model]\n",
    "print(f'''{x[best_result_model]} topics give the highest coherence score of {coherence_values[best_result_model]} for this specific model''')"
   ]
  },
  {
   "cell_type": "code",
   "execution_count": 28,
   "metadata": {
    "collapsed": true
   },
   "outputs": [
    {
     "name": "stderr",
     "output_type": "stream",
     "text": [
      "C:\\Users\\MoRevolution\\AppData\\Roaming\\Python\\Python310\\site-packages\\pyLDAvis\\_prepare.py:247: FutureWarning: In a future version of pandas all arguments of DataFrame.drop except for the argument 'labels' will be keyword-only.\n",
      "  by='saliency', ascending=False).head(R).drop('saliency', 1)\n"
     ]
    },
    {
     "data": {
      "text/html": [
       "\n",
       "<link rel=\"stylesheet\" type=\"text/css\" href=\"https://cdn.jsdelivr.net/gh/bmabey/pyLDAvis@3.3.1/pyLDAvis/js/ldavis.v1.0.0.css\">\n",
       "\n",
       "\n",
       "<div id=\"ldavis_el2797630673702923842497967141\"></div>\n",
       "<script type=\"text/javascript\">\n",
       "\n",
       "var ldavis_el2797630673702923842497967141_data = {\"mdsDat\": {\"x\": [-0.12032610552515995, 0.09212209639154122, 0.08849306523292053, -0.15636974109404145, -0.11073711327791108, 0.09423649132654162, 0.1289446925690922, -0.04313327497973163, 0.013440509229485345, 0.013329380127263113], \"y\": [0.16074029465330664, -0.18412553691591516, 0.18856409570299487, -0.14490874034142961, 0.0417883351846792, 0.06262668131784618, -0.035916511863791405, -0.0553479312746095, -0.0166455737156761, -0.016775112747405063], \"topics\": [1, 2, 3, 4, 5, 6, 7, 8, 9, 10], \"cluster\": [1, 1, 1, 1, 1, 1, 1, 1, 1, 1], \"Freq\": [25.799658087689426, 25.28659543725538, 17.376521893789405, 14.825302272166189, 5.594182265757586, 4.872833206905795, 3.7311877666168294, 2.491053784567001, 0.01159238457450181, 0.011072900677890374]}, \"tinfo\": {\"Term\": [\"work\", \"job\", \"good\", \"well\", \"get\", \"school\", \"family\", \"year\", \"so\", \"college\", \"student\", \"go\", \"graduate\", \"first\", \"know\", \"friend\", \"live\", \"hard\", \"people\", \"poor\", \"class\", \"feel\", \"lot\", \"big\", \"try\", \"parent\", \"grow\", \"most\", \"push\", \"high_school\", \"go\", \"time\", \"mum\", \"again\", \"afford\", \"world\", \"so\", \"amount\", \"grind\", \"health\", \"spend\", \"purchase\", \"exam\", \"down\", \"budget\", \"feeling\", \"here\", \"much\", \"know\", \"day\", \"abuse\", \"addle\", \"around\", \"birthday\", \"brag\", \"clear\", \"coke\", \"country\", \"emancipation\", \"face\", \"just\", \"even\", \"live\", \"lot\", \"start\", \"kid\", \"move\", \"never\", \"grow\", \"year\", \"get\", \"keep\", \"school\", \"work\", \"parent\", \"people\", \"take\", \"poor\", \"well\", \"last\", \"job\", \"say\", \"student\", \"struggle\", \"deal\", \"make\", \"generation\", \"intern\", \"mostly\", \"statistic\", \"depression\", \"network\", \"past\", \"ago\", \"connect\", \"depressed\", \"band\", \"culture\", \"write\", \"trauma\", \"childhood\", \"overcome\", \"father\", \"stage\", \"also\", \"education\", \"absolutely\", \"afloat\", \"anxiety\", \"being\", \"boy\", \"capacity\", \"push\", \"walk\", \"belong\", \"feel\", \"come\", \"only\", \"high_school\", \"year\", \"bachelor\", \"first\", \"mom\", \"help\", \"always\", \"well\", \"school\", \"graduate\", \"college\", \"lot\", \"try\", \"other\", \"as\", \"end\", \"last\", \"never\", \"grow\", \"parent\", \"need\", \"community\", \"it\", \"lose\", \"soon\", \"call\", \"accounting\", \"counseling\", \"crappy\", \"internet\", \"knowledge\", \"private\", \"starve\", \"use\", \"cover\", \"tuition\", \"action\", \"eat\", \"hand\", \"particular\", \"shed\", \"succeed\", \"thought\", \"at\", \"cautionary\", \"check\", \"constantly\", \"continue\", \"conversation\", \"cul\", \"able\", \"surprise\", \"job\", \"class\", \"college\", \"get\", \"career\", \"most\", \"more\", \"fit\", \"too\", \"house\", \"big\", \"way\", \"experience\", \"work\", \"bachelor\", \"take\", \"learn\", \"food\", \"government\", \"homeless\", \"just\", \"life\", \"now\", \"early\", \"family\", \"adopt\", \"meal\", \"young\", \"barrier\", \"success\", \"doctor\", \"ready\", \"adoptive\", \"allow\", \"die\", \"one\", \"free\", \"undergrad\", \"matter\", \"expendable\", \"bear\", \"ceremony\", \"trouble\", \"sound\", \"various\", \"worthwhile\", \"refuse\", \"kind\", \"value\", \"mistake\", \"ear\", \"arrangement\", \"achievement\", \"ever\", \"expectation\", \"thing\", \"think\", \"people\", \"show\", \"low\", \"friend\", \"work\", \"good\", \"take\", \"company\", \"change\", \"hour\", \"offer\", \"school\", \"say\", \"see\", \"grant\", \"kid\", \"parent\", \"still\", \"last\", \"life\", \"give\", \"mom\", \"money\", \"do\", \"feel\", \"side\", \"law\", \"abusive\", \"aimless\", \"benefit\", \"decent\", \"develop\", \"ensure\", \"ethic\", \"fiance\", \"fight\", \"gig\", \"household\", \"janitor\", \"line\", \"nail\", \"second\", \"successful\", \"tooth\", \"town\", \"associate\", \"together\", \"skill\", \"insecurity\", \"long\", \"roof\", \"since\", \"sure\", \"first\", \"financial_aid\", \"well\", \"job\", \"graduate\", \"other\", \"school\", \"get\", \"keep\", \"year\", \"family\", \"college\", \"good\", \"grow\", \"work\", \"take\", \"always\", \"come\", \"help\", \"high_school\", \"end\", \"head\", \"as\", \"leave\", \"extra\", \"apply\", \"degree\", \"food\", \"point\", \"bath\", \"book\", \"breakfast\", \"combine\", \"competition\", \"extreme\", \"focus\", \"fun\", \"gift\", \"honestly\", \"inter\", \"ketchup\", \"manage\", \"math\", \"middle\", \"normal\", \"portfolio\", \"programmer\", \"programming\", \"reward\", \"room\", \"sandwich\", \"science\", \"soap\", \"spare\", \"yield\", \"library\", \"main\", \"recycle\", \"result\", \"actually\", \"level\", \"own\", \"home\", \"school\", \"high_school\", \"live\", \"day\", \"different\", \"idea\", \"move\", \"start\", \"trash\", \"build\", \"grant\", \"pay\", \"take\", \"then\", \"early\", \"family\", \"learn\", \"surprise\", \"decide\", \"financial_aid\", \"money\", \"more\", \"weird\", \"back\", \"sister\", \"city\", \"attitude\", \"wear\", \"nearly\", \"wealthy\", \"hang\", \"embarrassed\", \"footstep\", \"bring\", \"km\", \"underestimate\", \"simulation\", \"finance\", \"proud\", \"relative\", \"family\", \"good\", \"clothe\", \"nice\", \"away\", \"hometown\", \"follow\", \"then\", \"anymore\", \"many\", \"result\", \"look\", \"back\", \"support\", \"big\", \"try\", \"poor\", \"friend\", \"so\", \"always\", \"come\", \"bank\", \"currently\", \"extremely\", \"garage\", \"grateful\", \"sale\", \"store\", \"teacher\", \"wage\", \"employer\", \"immigrate\", \"invaluable\", \"receive\", \"ride\", \"special\", \"hard\", \"expensive\", \"consider\", \"employee\", \"today\", \"minimum\", \"master\", \"finish\", \"encourage\", \"education\", \"upper_middle\", \"thing\", \"see\", \"work\", \"food\", \"school\", \"good\", \"full\", \"help\", \"parent\", \"class\", \"know\", \"degree\", \"employer\", \"immigrate\", \"invaluable\", \"receive\", \"ride\", \"special\", \"bank\", \"currently\", \"extremely\", \"garage\", \"grateful\", \"sale\", \"store\", \"teacher\", \"wage\", \"city\", \"attitude\", \"wear\", \"nearly\", \"wealthy\", \"hang\", \"embarrassed\", \"footstep\", \"bring\", \"km\", \"underestimate\", \"simulation\", \"finance\", \"proud\", \"library\", \"school\", \"feel\", \"make\", \"connect\", \"student\", \"only\", \"other\", \"never\", \"friend\", \"hard\", \"first\", \"bad\", \"white\", \"person\", \"especially\", \"situation\", \"tool\", \"mental\", \"as\", \"positive\", \"university\", \"network\", \"definitely\", \"depression\", \"campus\", \"fit\", \"predominately\", \"experience\", \"high_school\", \"nightmare\", \"employer\", \"immigrate\", \"invaluable\", \"receive\", \"ride\", \"special\", \"bank\", \"currently\", \"extremely\", \"garage\", \"grateful\", \"sale\", \"store\", \"teacher\", \"wage\", \"city\", \"attitude\", \"wear\", \"nearly\", \"wealthy\", \"hang\", \"embarrassed\", \"footstep\", \"bring\", \"km\", \"underestimate\", \"simulation\", \"finance\", \"proud\", \"library\", \"abuse\", \"addict\", \"addle\", \"again\", \"age\", \"already\", \"amount\", \"anymore\", \"anyway\", \"apply\", \"around\", \"as\", \"assistance\", \"birthday\", \"brag\", \"class\", \"clear\", \"close\", \"coke\", \"common\", \"country\", \"couple\", \"dad\", \"day\", \"degree\", \"different\", \"dollar\", \"drop\", \"drug\", \"emancipation\"], \"Freq\": [19.0, 17.0, 9.0, 12.0, 15.0, 18.0, 6.0, 14.0, 6.0, 9.0, 7.0, 7.0, 8.0, 6.0, 6.0, 6.0, 8.0, 3.0, 9.0, 6.0, 6.0, 10.0, 9.0, 5.0, 5.0, 9.0, 9.0, 6.0, 5.0, 6.0, 6.856030091300247, 4.316734319974752, 3.470302396199587, 2.6238691107687844, 2.6238688838261783, 2.623562965192853, 5.461834968573617, 1.777433328969312, 1.777433328969312, 1.777433328969312, 1.777433328969312, 1.777433328969312, 1.777433328969312, 1.7773173612974804, 1.7772854758612917, 1.7771956065891872, 1.7771245735534078, 3.468300081583987, 5.162579370169962, 4.316734319974752, 0.9309852355334466, 0.9309852355334466, 0.9309852355334466, 0.9309852355334466, 0.9309852355334466, 0.9309852355334466, 0.9309852355334466, 0.9309852355334466, 0.9309852355334466, 0.9309852355334466, 6.855801787038285, 5.162740499420453, 5.1631662437499175, 6.0086795038546805, 5.162884834918075, 5.16248133096403, 3.470302396199587, 4.316221429684459, 5.162161341889113, 6.856029183529822, 6.856030091300247, 3.470302396199587, 5.16316669763513, 5.16316669763513, 3.4686727213435717, 3.4697947255892396, 3.470302396199587, 2.752182460384621, 3.469591611956579, 2.623869337711391, 3.4680620187899525, 2.623869337711391, 6.838241407948121, 3.4613863187811993, 2.6171545853047617, 2.616937271652021, 2.6170246864580875, 1.7729347518082852, 1.7729345293787533, 1.7729345293787533, 1.7728246491899569, 1.772822424894637, 1.7728766977004393, 1.772870469673544, 1.7726850746586413, 1.7727591436927896, 1.7728256501228508, 1.7727414605449976, 1.772813082854294, 1.7728062987535687, 1.7727966230689278, 1.7727869473842868, 1.7727724894647083, 1.7727568081827039, 4.305733048325669, 1.7727887268205424, 0.9286297834084445, 0.9286297834084445, 0.9286297834084445, 0.9286297834084445, 0.9286297834084445, 0.9286297834084445, 3.461389877653711, 2.6169657426321136, 2.617239553385977, 6.838272103223534, 3.461325150659906, 3.461124296792531, 3.461253528350609, 5.9940332520020725, 3.4613847617744757, 3.4612132686053214, 3.4612526386324816, 3.461332713263993, 3.4612804423239787, 4.306318482853832, 5.149523926469729, 3.4612711002836356, 3.4611794593164613, 3.461854977805074, 2.6170473742703493, 2.6170564938811602, 2.6169808678402884, 2.617011785545233, 2.6170053350888054, 2.617078069545762, 2.6176490461543462, 2.617457311897782, 3.2389415486197533, 3.235705106471436, 2.448879003610061, 1.6590652981119143, 1.6590652981119143, 1.6590649924122687, 1.6590649924122687, 1.6590649924122687, 1.6590649924122687, 1.6590649924122687, 1.6590649924122687, 1.6590649924122687, 1.6590649924122687, 1.6588100389078106, 1.6507420138602633, 1.6200707098644314, 0.8689997725306773, 0.8689997725306773, 0.8689997725306773, 0.8689997725306773, 0.8689997725306773, 0.8689997725306773, 0.8689997725306773, 0.8689996961057659, 0.8689996961057659, 0.8689996961057659, 0.8689996961057659, 0.8689996961057659, 0.8689996961057659, 0.8689996961057659, 3.2375460297374383, 1.6590652981119143, 9.111214083082874, 3.2389895434641174, 4.67539728188062, 6.9663837941696185, 2.449122340527985, 3.238948885411248, 2.449122187678162, 1.6587103808233343, 1.6587028911820163, 1.6590649924122687, 2.449122187678162, 2.449122187678162, 2.4472771374669438, 4.67706334494932, 2.4455222686511875, 2.3860821824041207, 1.6590652981119143, 1.6590649924122687, 1.6590649924122687, 1.6590649924122687, 1.6590649924122687, 1.6590649924122687, 1.6590649924122687, 1.6590649924122687, 1.6590649924122687, 2.360454017521401, 1.598994277379811, 1.5989698910046226, 1.598966630794036, 1.598941722785154, 1.5989402882924957, 1.5989263345911848, 1.5989151194667666, 1.5989114680309096, 1.5988829085861704, 2.360292050259455, 2.360364035709209, 2.3604159382617484, 0.8375537724806822, 0.8375534464596236, 0.8375507730869425, 0.8375494037984961, 0.8375459479752743, 0.8375459479752743, 0.837545491545792, 0.8375447742994631, 0.8375423617436288, 0.8375402752088534, 0.8375402752088534, 0.8375382538782897, 0.8375380582656545, 0.837537927857231, 0.8375365585687846, 0.8375351892803382, 0.8375351892803382, 2.360378641452637, 3.1217995198840343, 4.644619107314838, 1.5989822798048519, 1.5989067733276647, 3.1217434442619436, 6.928867136865601, 3.121682152302914, 3.121830296271972, 1.5989736728489032, 1.5989748465247144, 1.598985409607015, 1.5989142066078024, 3.8829530610473246, 2.3604211545986873, 1.5989584150633576, 1.5990258362182899, 2.360367687145066, 2.36043706442635, 1.5990097959822034, 1.5990078398558514, 1.5990065357716168, 1.5989891914512957, 1.5989864528744029, 1.5989796716363827, 1.5989790195942652, 1.5989768026510662, 1.1431123563569, 1.1431121595235467, 0.5987618445588195, 0.5987618445588195, 0.5987618445588195, 0.5987618445588195, 0.5987618445588195, 0.5987618445588195, 0.5987618445588195, 0.5987618445588195, 0.5987618445588195, 0.5987618445588195, 0.5987618445588195, 0.5987618445588195, 0.5987618445588195, 0.5987618445588195, 0.5987618445588195, 0.5987618445588195, 0.5987618445588195, 0.5987618445588195, 0.5954816659349389, 1.1431123563569, 0.5987618445588195, 0.5987618445588195, 0.5987618445588195, 0.5987618445588195, 0.5987618445588195, 0.5987618445588195, 1.6875688629157155, 0.5987618445588195, 3.31833398207839, 3.6294468119209986, 1.924341081395829, 1.1431121595235467, 2.231964252718341, 1.84115182663715, 1.1431123563569, 1.6876861755942634, 1.1431121595235467, 1.2424701916697873, 1.1427236104841947, 1.1431121595235467, 1.241104266614781, 0.6421969622078959, 0.5989146856576325, 0.5988859971963937, 0.5988810763625619, 0.5988650344442705, 0.598855488026637, 0.5988541101931641, 0.5988458924006652, 0.5988188278145908, 0.5988149403558638, 0.5988148419391871, 0.5987618445588195, 0.5987618445588195, 1.0750877845716897, 0.5631315803733811, 0.5631315803733811, 0.5631315803733811, 0.5631315803733811, 0.5631315803733811, 0.5631315803733811, 0.5631315803733811, 0.5631315803733811, 0.5631315803733811, 0.5631315803733811, 0.5631315803733811, 0.5631315803733811, 0.5631315803733811, 0.5631315803733811, 0.5631315803733811, 0.5631315803733811, 0.5631315803733811, 0.5631315803733811, 0.5631315803733811, 0.5631315803733811, 0.5631315803733811, 0.5631315803733811, 0.5631315803733811, 0.5631315803733811, 0.5631315803733811, 0.5631315803733811, 0.5631315375102756, 0.5631315375102756, 0.5631315375102756, 1.0750877845716897, 1.0750877845716897, 1.0750877845716897, 1.0750877845716897, 1.0750877845716897, 1.5870418027516147, 1.0750877845716897, 1.0750877845716897, 0.5631315803733811, 0.5631315803733811, 0.5631315803733811, 0.5631315803733811, 0.5631315803733811, 0.5631315803733811, 0.5631315803733811, 0.5631315803733811, 0.5631315803733811, 0.5631315803733811, 0.5631315803733811, 0.5631315803733811, 0.5631315803733811, 0.5631315803733811, 0.5631315803733811, 0.5631315803733811, 0.5631315803733811, 0.5631315803733811, 0.5631315803733811, 0.5631315803733811, 0.5631315803733811, 1.3838746860912237, 0.49123337821644447, 0.49119425582015197, 0.4911704935593165, 0.4911593673073508, 0.4911561180479272, 0.4911559211231136, 0.4911481425929783, 0.4911229362168435, 0.4911154202531262, 0.4910982877943471, 0.4910947103269009, 0.49106106900458557, 0.49106015002212233, 0.491016367071909, 0.9214432357178313, 2.7238067815869607, 3.1698362329563086, 0.4910754773367772, 0.49107239218136484, 0.49122642020636564, 0.491132257324685, 0.49103891496306085, 0.9212571417690236, 0.46910329587737276, 0.4622372825072291, 0.4908708396346933, 0.4910835184333306, 0.9376861194725248, 0.49111932592859503, 0.9375847688351495, 0.9207512419230057, 0.8703012052220531, 0.9210610702963292, 0.7803326251452924, 0.4911556257358933, 0.49110383450992884, 0.38384937595713303, 0.38384937595713303, 0.38384937595713303, 0.38384937595713303, 0.38384937595713303, 0.38384937595713303, 0.38384937595713303, 0.38384937595713303, 0.38384937595713303, 0.38384933213281286, 0.38384933213281286, 0.38384933213281286, 0.38384933213281286, 0.38384933213281286, 0.38384933213281286, 1.0817750332841556, 0.38384937595713303, 0.38384933213281286, 0.38390656669497597, 0.38384937595713303, 0.38384937595713303, 0.38384933213281286, 0.383917172180461, 0.383919056626229, 0.38384937595713303, 0.38391287739708274, 0.38401634661704226, 0.3839591558791993, 1.7802185626028177, 0.38384933213281286, 0.38425128879756015, 0.38412638948502964, 0.38402265731914903, 0.38399425915966845, 0.3839896137817287, 0.38384937595713303, 0.38384937595713303, 0.38384933213281286, 0.00024938028330914974, 0.00024938028330914974, 0.00024938028330914974, 0.00024938028330914974, 0.00024938028330914974, 0.00024938028330914974, 0.00024938028330914974, 0.00024938028330914974, 0.00024938028330914974, 0.00024938028330914974, 0.00024938028330914974, 0.00024938028330914974, 0.00024938028330914974, 0.00024938028330914974, 0.00024938028330914974, 0.00024938028330914974, 0.00024938028330914974, 0.00024938028330914974, 0.00024938028330914974, 0.00024938028330914974, 0.00024938028330914974, 0.00024938028330914974, 0.00024938028330914974, 0.00024938028330914974, 0.00024938028330914974, 0.00024938028330914974, 0.00024938028330914974, 0.00024938028330914974, 0.00024938028330914974, 0.00024938028330914974, 0.0002503483919477757, 0.00025026577028941814, 0.00025023737148429303, 0.0002501165618456147, 0.00024999789358901047, 0.00024997260488642155, 0.00024988396696414163, 0.0002498217394207751, 0.00024980356316578933, 0.00024978059429378065, 0.00024978028838205577, 0.000249775776184114, 0.0002497678224792675, 0.0002497592314583275, 0.0002497574469732658, 0.00024974304362955334, 0.0002497298384400966, 0.0002497266518596293, 0.00024972321035272453, 0.00024972025320605084, 0.0002497125544276417, 0.0002497109228984424, 0.00024970503409773876, 0.00024970462621543894, 0.00024970049640715323, 0.0002496950919666806, 0.0002496918798935695, 0.0002496910896216136, 0.0002496892031659769, 0.0002496885913425272, 0.00023823129718509244, 0.00023823129718509244, 0.00023823129718509244, 0.00023823129718509244, 0.00023823129718509244, 0.00023823129718509244, 0.00023823129718509244, 0.00023823129718509244, 0.00023823129718509244, 0.00023823129718509244, 0.00023823129718509244, 0.00023823129718509244, 0.00023823129718509244, 0.00023823129718509244, 0.00023823129718509244, 0.00023823129718509244, 0.00023823129718509244, 0.00023823129718509244, 0.00023823129718509244, 0.00023823129718509244, 0.00023823129718509244, 0.00023823129718509244, 0.00023823129718509244, 0.00023823129718509244, 0.00023823129718509244, 0.00023823129718509244, 0.00023823129718509244, 0.00023823129718509244, 0.00023823129718509244, 0.00023823129718509244, 0.00023823129718509244, 0.00023823129718509244, 0.00023823129718509244, 0.00023823129718509244, 0.00023823129718509244, 0.00023823129718509244, 0.00023823129718509244, 0.00023823129718509244, 0.00023823129718509244, 0.00023823129718509244, 0.00023823129718509244, 0.00023823129718509244, 0.00023823129718509244, 0.00023823129718509244, 0.00023823129718509244, 0.00023823129718509244, 0.00023823129718509244, 0.00023823129718509244, 0.00023823129718509244, 0.00023823129718509244, 0.00023823129718509244, 0.00023823129718509244, 0.00023823129718509244, 0.00023823129718509244, 0.00023823129718509244, 0.00023823129718509244, 0.00023823129718509244, 0.00023823129718509244, 0.00023823129718509244, 0.00023823129718509244], \"Total\": [19.0, 17.0, 9.0, 12.0, 15.0, 18.0, 6.0, 14.0, 6.0, 9.0, 7.0, 7.0, 8.0, 6.0, 6.0, 6.0, 8.0, 3.0, 9.0, 6.0, 6.0, 10.0, 9.0, 5.0, 5.0, 9.0, 9.0, 6.0, 5.0, 6.0, 7.281306667649704, 4.742010896324209, 3.895578972549044, 3.049145687118241, 3.049145460175635, 3.0491448677804853, 6.623111529050572, 2.2027099053187693, 2.2027099053187693, 2.2027099053187693, 2.2027099053187693, 2.2027099053187693, 2.2027099053187693, 2.2027097886784834, 2.2027094882358353, 2.202709202457734, 2.2027088881112777, 4.438903734828294, 6.7273889868291645, 6.043941537809257, 1.356261811882904, 1.356261811882904, 1.356261811882904, 1.356261811882904, 1.356261811882904, 1.356261811882904, 1.356261811882904, 1.356261811882904, 1.356261811882904, 1.356261811882904, 10.549871328546132, 7.901103183500403, 8.246431591373566, 9.811657876492534, 8.521022911939742, 9.506807809045076, 6.095884601090683, 8.064368598804341, 9.999601090108895, 14.82416170294378, 15.955402220099325, 6.6183652116769025, 18.52306934213524, 19.97120608232629, 9.572971875332414, 9.76631846806835, 10.348239551318938, 6.20376640244006, 12.906759972192166, 7.104752610740184, 17.013621214091042, 7.812030450791, 7.263876124321746, 3.886961644335466, 3.0426456729710845, 3.0424290004838266, 3.042646292454542, 2.1984256235519157, 2.198425401122384, 2.198425401122384, 2.1983158452764937, 2.198313627277857, 2.198404973932233, 2.1984027563849105, 2.1981766826808085, 2.1983027553419845, 2.1983868836392326, 2.1982904878353517, 2.198382300423568, 2.1983800004326715, 2.198376432733024, 2.1983730803198567, 2.1983679166251786, 2.1983623292035714, 5.521265556054564, 2.5473269979799715, 1.354120655152075, 1.354120655152075, 1.354120655152075, 1.354120655152075, 1.354120655152075, 1.354120655152075, 5.082211046378342, 3.8326194997066234, 3.8890168676697554, 10.644057805035898, 5.668257241521593, 6.035012628776434, 6.245061842901626, 14.82416170294378, 6.255955476871283, 6.366180858877178, 6.989902783622898, 7.149437563242678, 7.191105232316932, 12.906759972192166, 18.52306934213524, 8.6859388490638, 9.671097736253351, 9.811657876492534, 5.587987406579789, 5.767561782003235, 5.916157119399006, 6.069708275398773, 7.104752610740184, 8.064368598804341, 9.999601090108895, 9.572971875332414, 3.670017338304428, 3.669008391553585, 2.8799592404983114, 2.089979586030232, 2.089979586030232, 2.0899792803305863, 2.0899792803305863, 2.0899792803305863, 2.0899792803305863, 2.0899792803305863, 2.0899792803305863, 2.0899792803305863, 2.0899792803305863, 2.089897638593681, 2.087384749009795, 2.0778422383726216, 1.299914060448995, 1.299914060448995, 1.299914060448995, 1.299914060448995, 1.299914060448995, 1.299914060448995, 1.299914060448995, 1.2999139840240836, 1.2999139840240836, 1.2999139840240836, 1.2999139840240836, 1.2999139840240836, 1.2999139840240836, 1.2999139840240836, 5.275181289857857, 2.6019158535265645, 17.013621214091042, 6.214280132528004, 9.671097736253351, 15.955402220099325, 4.5685423431084065, 6.555963662653029, 4.782641383961994, 2.9339611127110503, 2.9339758603603245, 2.936321292281908, 5.296929495316539, 5.417027250186721, 5.414174503505382, 19.97120608232629, 6.255955476871283, 10.348239551318938, 3.4460293322379103, 4.67604982016048, 3.7804908612542603, 3.780498920895948, 10.549871328546132, 6.149910045556258, 4.844846940491321, 4.294705766685408, 6.721172744292981, 2.794351788565894, 2.032853006433058, 2.0328398445618774, 2.0328380497269967, 2.032824557953523, 2.0328237315233078, 2.032816154260584, 2.0328101432741876, 2.0328081188162175, 2.0327926847553743, 3.2413795403305974, 3.30623931019631, 3.3386584219950093, 1.2713613147279523, 1.2713611694822144, 1.2713596793661783, 1.2713589099231144, 1.2713570427314993, 1.2713570564265995, 1.2713568300747982, 1.2713564168596905, 1.271355140997161, 1.2713539912072296, 1.2713539912072296, 1.2713528901873898, 1.271352779484375, 1.271352775070872, 1.271351991932708, 1.2713512416627843, 1.2713512553578843, 3.5903602934723313, 5.979950249794921, 9.76631846806835, 2.8770473991555527, 2.8769708787560453, 6.999230945677878, 19.97120608232629, 9.810957095065632, 10.348239551318938, 3.7213475415321153, 3.723303523064762, 3.723367495335914, 3.723352162228125, 18.52306934213524, 7.812030450791, 4.074577041927657, 4.120396096868405, 9.506807809045076, 9.572971875332414, 5.470717284445804, 7.104752610740184, 6.149910045556258, 4.6262239503678355, 6.989902783622898, 8.877095856589369, 5.414140254970241, 10.644057805035898, 1.598597373001993, 1.5985971761686397, 1.0542468612039129, 1.0542468612039129, 1.0542468612039129, 1.0542468612039129, 1.0542468612039129, 1.0542468612039129, 1.0542468612039129, 1.0542468612039129, 1.0542468612039129, 1.0542468612039129, 1.0542468612039129, 1.0542468612039129, 1.0542468612039129, 1.0542468612039129, 1.0542468612039129, 1.0542468612039129, 1.0542468612039129, 1.0542468612039129, 1.0555023482222896, 2.3600296943762733, 1.844241158767717, 1.900588372319294, 1.9005887596839313, 1.9005887596839313, 1.9005889866265373, 1.9005889866265373, 6.366180858877178, 2.327600919746404, 12.906759972192166, 17.013621214091042, 8.6859388490638, 5.767561782003235, 18.52306934213524, 15.955402220099325, 6.6183652116769025, 14.82416170294378, 6.721172744292981, 9.671097736253351, 9.810957095065632, 9.999601090108895, 19.97120608232629, 10.348239551318938, 7.191105232316932, 5.668257241521593, 7.149437563242678, 6.245061842901626, 6.069708275398773, 4.435492035913254, 5.916157119399006, 3.4498387089639277, 4.381203275220511, 3.5912089140298837, 4.784495940952278, 4.67604982016048, 1.5338121581549204, 1.0218559539566119, 1.0218559539566119, 1.0218559539566119, 1.0218559539566119, 1.0218559539566119, 1.0218559539566119, 1.0218559539566119, 1.0218559539566119, 1.0218559539566119, 1.0218559539566119, 1.0218559539566119, 1.0218559539566119, 1.0218559539566119, 1.0218559539566119, 1.0218559539566119, 1.0218559539566119, 1.0218559539566119, 1.0218559539566119, 1.0218559539566119, 1.0218559539566119, 1.0218559539566119, 1.0218559539566119, 1.0218559539566119, 1.0218559539566119, 1.0218559539566119, 1.0218559539566119, 1.0218559110935064, 1.0218559110935064, 1.0218559110935064, 1.9810158487759464, 2.847266647298273, 3.0840865704829046, 4.016596334581131, 4.573123570729078, 18.52306934213524, 6.245061842901626, 8.246431591373566, 6.043941537809257, 1.8681980793792368, 3.502393345634837, 6.095884601090683, 8.521022911939742, 1.8681980793792368, 1.8112959226436807, 4.120396096868405, 4.971022474550937, 10.348239551318938, 3.5664629974779256, 4.294705766685408, 6.721172744292981, 3.4460293322379103, 2.6019158535265645, 2.879499941165962, 2.327600919746404, 8.877095856589369, 4.782641383961994, 1.8681978524366303, 4.339964833746361, 1.851049057312769, 0.9567995490260973, 0.9568345375746826, 0.9568557595935946, 0.9568656539005397, 0.9568686739306158, 0.9568687323162344, 0.956875783067031, 0.9568983126497453, 0.9569049238632718, 0.9569202725650228, 0.9569234537320711, 0.9569536258338717, 0.9569542954496527, 0.9569933678266171, 2.2646881287211658, 6.721172744292981, 9.810957095065632, 1.7183591775677483, 1.7469378217740272, 1.8009231773987227, 1.8010115626000642, 1.8011742759352276, 3.5664629974779256, 1.8229470894238777, 1.829090253120362, 1.9810158487759464, 2.258863982204721, 4.339964833746361, 2.3453375979586726, 5.296929495316539, 5.587987406579789, 6.20376640244006, 6.999230945677878, 6.623111529050572, 7.191105232316932, 5.668257241521593, 0.8588728765123694, 0.8588728765123694, 0.8588728765123694, 0.8588728765123694, 0.8588728765123694, 0.8588728765123694, 0.8588728765123694, 0.8588728765123694, 0.8588728765123694, 0.8588728326880493, 0.8588728326880493, 0.8588728326880493, 0.8588728326880493, 0.8588728326880493, 0.8588728326880493, 3.245169189227508, 1.3708091440087022, 1.370809100184382, 1.6202965327669179, 1.648867174076174, 1.703039921551764, 1.7052147311680679, 2.4644605533789172, 2.466623436564652, 2.5473269979799715, 3.313078622099643, 3.5903602934723313, 4.074577041927657, 19.97120608232629, 4.67604982016048, 18.52306934213524, 9.810957095065632, 4.9165180344924275, 7.149437563242678, 9.572971875332414, 6.214280132528004, 6.7273889868291645, 4.784495940952278, 0.8588728326880493, 0.8588728326880493, 0.8588728326880493, 0.8588728326880493, 0.8588728326880493, 0.8588728326880493, 0.8588728765123694, 0.8588728765123694, 0.8588728765123694, 0.8588728765123694, 0.8588728765123694, 0.8588728765123694, 0.8588728765123694, 0.8588728765123694, 0.8588728765123694, 0.9567995490260973, 0.9568345375746826, 0.9568557595935946, 0.9568656539005397, 0.9568686739306158, 0.9568687323162344, 0.956875783067031, 0.9568983126497453, 0.9569049238632718, 0.9569202725650228, 0.9569234537320711, 0.9569536258338717, 0.9569542954496527, 0.9569933678266171, 1.0218559110935064, 18.52306934213524, 10.644057805035898, 3.0424290004838266, 2.1981766826808085, 7.263876124321746, 6.035012628776434, 5.767561782003235, 8.064368598804341, 6.999230945677878, 3.245169189227508, 6.366180858877178, 1.353986870029785, 2.905396655940971, 1.3539925254381246, 2.1439875093235687, 1.3539979031664462, 1.3540023385518964, 3.046793666371466, 5.916157119399006, 1.354005665409642, 3.8346499058911947, 2.198313627277857, 3.0446577441643945, 2.1983158452764937, 1.3540122629314193, 2.9339611127110503, 1.3540152015062044, 5.414174503505382, 6.245061842901626, 1.3540163103653133, 0.8588728326880493, 0.8588728326880493, 0.8588728326880493, 0.8588728326880493, 0.8588728326880493, 0.8588728326880493, 0.8588728765123694, 0.8588728765123694, 0.8588728765123694, 0.8588728765123694, 0.8588728765123694, 0.8588728765123694, 0.8588728765123694, 0.8588728765123694, 0.8588728765123694, 0.9567995490260973, 0.9568345375746826, 0.9568557595935946, 0.9568656539005397, 0.9568686739306158, 0.9568687323162344, 0.956875783067031, 0.9568983126497453, 0.9569049238632718, 0.9569202725650228, 0.9569234537320711, 0.9569536258338717, 0.9569542954496527, 0.9569933678266171, 1.0218559110935064, 1.356261811882904, 2.9076894107140023, 1.356261811882904, 3.049145687118241, 2.11766542502534, 2.1462561094467087, 2.2027099053187693, 1.8229470894238777, 2.20042851415093, 3.5912089140298837, 1.356261811882904, 5.916157119399006, 2.992704202882574, 1.356261811882904, 1.356261811882904, 6.214280132528004, 1.356261811882904, 2.9903711959030668, 1.356261811882904, 1.356261698411601, 1.356261811882904, 2.1176802123667513, 3.8062066507931775, 6.043941537809257, 4.784495940952278, 1.8681980793792368, 2.1177097919953463, 3.836878660663188, 3.7518344708710054, 1.356261811882904], \"Category\": [\"Default\", \"Default\", \"Default\", \"Default\", \"Default\", \"Default\", \"Default\", \"Default\", \"Default\", \"Default\", \"Default\", \"Default\", \"Default\", \"Default\", \"Default\", \"Default\", \"Default\", \"Default\", \"Default\", \"Default\", \"Default\", \"Default\", \"Default\", \"Default\", \"Default\", \"Default\", \"Default\", \"Default\", \"Default\", \"Default\", \"Topic1\", \"Topic1\", \"Topic1\", \"Topic1\", \"Topic1\", \"Topic1\", \"Topic1\", \"Topic1\", \"Topic1\", \"Topic1\", \"Topic1\", \"Topic1\", \"Topic1\", \"Topic1\", \"Topic1\", \"Topic1\", \"Topic1\", \"Topic1\", \"Topic1\", \"Topic1\", \"Topic1\", \"Topic1\", \"Topic1\", \"Topic1\", \"Topic1\", \"Topic1\", \"Topic1\", \"Topic1\", \"Topic1\", \"Topic1\", \"Topic1\", \"Topic1\", \"Topic1\", \"Topic1\", \"Topic1\", \"Topic1\", \"Topic1\", \"Topic1\", \"Topic1\", \"Topic1\", \"Topic1\", \"Topic1\", \"Topic1\", \"Topic1\", \"Topic1\", \"Topic1\", \"Topic1\", \"Topic1\", \"Topic1\", \"Topic1\", \"Topic1\", \"Topic1\", \"Topic2\", \"Topic2\", \"Topic2\", \"Topic2\", \"Topic2\", \"Topic2\", \"Topic2\", \"Topic2\", \"Topic2\", \"Topic2\", \"Topic2\", \"Topic2\", \"Topic2\", \"Topic2\", \"Topic2\", \"Topic2\", \"Topic2\", \"Topic2\", \"Topic2\", \"Topic2\", \"Topic2\", \"Topic2\", \"Topic2\", \"Topic2\", \"Topic2\", \"Topic2\", \"Topic2\", \"Topic2\", \"Topic2\", \"Topic2\", \"Topic2\", \"Topic2\", \"Topic2\", \"Topic2\", \"Topic2\", \"Topic2\", \"Topic2\", \"Topic2\", \"Topic2\", \"Topic2\", \"Topic2\", \"Topic2\", \"Topic2\", \"Topic2\", \"Topic2\", \"Topic2\", \"Topic2\", \"Topic2\", \"Topic2\", \"Topic2\", \"Topic2\", \"Topic2\", \"Topic2\", \"Topic2\", \"Topic2\", \"Topic2\", \"Topic3\", \"Topic3\", \"Topic3\", \"Topic3\", \"Topic3\", \"Topic3\", \"Topic3\", \"Topic3\", \"Topic3\", \"Topic3\", \"Topic3\", \"Topic3\", \"Topic3\", \"Topic3\", \"Topic3\", \"Topic3\", \"Topic3\", \"Topic3\", \"Topic3\", \"Topic3\", \"Topic3\", \"Topic3\", \"Topic3\", \"Topic3\", \"Topic3\", \"Topic3\", \"Topic3\", \"Topic3\", \"Topic3\", \"Topic3\", \"Topic3\", \"Topic3\", \"Topic3\", \"Topic3\", \"Topic3\", \"Topic3\", \"Topic3\", \"Topic3\", \"Topic3\", \"Topic3\", \"Topic3\", \"Topic3\", \"Topic3\", \"Topic3\", \"Topic3\", \"Topic3\", \"Topic3\", \"Topic3\", \"Topic3\", \"Topic3\", \"Topic3\", \"Topic3\", \"Topic3\", \"Topic3\", \"Topic3\", \"Topic3\", \"Topic3\", \"Topic4\", \"Topic4\", \"Topic4\", \"Topic4\", \"Topic4\", \"Topic4\", \"Topic4\", \"Topic4\", \"Topic4\", \"Topic4\", \"Topic4\", \"Topic4\", \"Topic4\", \"Topic4\", \"Topic4\", \"Topic4\", \"Topic4\", \"Topic4\", \"Topic4\", \"Topic4\", \"Topic4\", \"Topic4\", \"Topic4\", \"Topic4\", \"Topic4\", \"Topic4\", \"Topic4\", \"Topic4\", \"Topic4\", \"Topic4\", \"Topic4\", \"Topic4\", \"Topic4\", \"Topic4\", \"Topic4\", \"Topic4\", \"Topic4\", \"Topic4\", \"Topic4\", \"Topic4\", \"Topic4\", \"Topic4\", \"Topic4\", \"Topic4\", \"Topic4\", \"Topic4\", \"Topic4\", \"Topic4\", \"Topic4\", \"Topic4\", \"Topic4\", \"Topic4\", \"Topic4\", \"Topic4\", \"Topic4\", \"Topic4\", \"Topic4\", \"Topic5\", \"Topic5\", \"Topic5\", \"Topic5\", \"Topic5\", \"Topic5\", \"Topic5\", \"Topic5\", \"Topic5\", \"Topic5\", \"Topic5\", \"Topic5\", \"Topic5\", \"Topic5\", \"Topic5\", \"Topic5\", \"Topic5\", \"Topic5\", \"Topic5\", \"Topic5\", \"Topic5\", \"Topic5\", \"Topic5\", \"Topic5\", \"Topic5\", \"Topic5\", \"Topic5\", \"Topic5\", \"Topic5\", \"Topic5\", \"Topic5\", \"Topic5\", \"Topic5\", \"Topic5\", \"Topic5\", \"Topic5\", \"Topic5\", \"Topic5\", \"Topic5\", \"Topic5\", \"Topic5\", \"Topic5\", \"Topic5\", \"Topic5\", \"Topic5\", \"Topic5\", \"Topic5\", \"Topic5\", \"Topic5\", \"Topic5\", \"Topic5\", \"Topic5\", \"Topic5\", \"Topic5\", \"Topic5\", \"Topic5\", \"Topic6\", \"Topic6\", \"Topic6\", \"Topic6\", \"Topic6\", \"Topic6\", \"Topic6\", \"Topic6\", \"Topic6\", \"Topic6\", \"Topic6\", \"Topic6\", \"Topic6\", \"Topic6\", \"Topic6\", \"Topic6\", \"Topic6\", \"Topic6\", \"Topic6\", \"Topic6\", \"Topic6\", \"Topic6\", \"Topic6\", \"Topic6\", \"Topic6\", \"Topic6\", \"Topic6\", \"Topic6\", \"Topic6\", \"Topic6\", \"Topic6\", \"Topic6\", \"Topic6\", \"Topic6\", \"Topic6\", \"Topic6\", \"Topic6\", \"Topic6\", \"Topic6\", \"Topic6\", \"Topic6\", \"Topic6\", \"Topic6\", \"Topic6\", \"Topic6\", \"Topic6\", \"Topic6\", \"Topic6\", \"Topic6\", \"Topic6\", \"Topic6\", \"Topic6\", \"Topic6\", \"Topic6\", \"Topic6\", \"Topic6\", \"Topic6\", \"Topic6\", \"Topic6\", \"Topic7\", \"Topic7\", \"Topic7\", \"Topic7\", \"Topic7\", \"Topic7\", \"Topic7\", \"Topic7\", \"Topic7\", \"Topic7\", \"Topic7\", \"Topic7\", \"Topic7\", \"Topic7\", \"Topic7\", \"Topic7\", \"Topic7\", \"Topic7\", \"Topic7\", \"Topic7\", \"Topic7\", \"Topic7\", \"Topic7\", \"Topic7\", \"Topic7\", \"Topic7\", \"Topic7\", \"Topic7\", \"Topic7\", \"Topic7\", \"Topic7\", \"Topic7\", \"Topic7\", \"Topic7\", \"Topic7\", \"Topic7\", \"Topic7\", \"Topic8\", \"Topic8\", \"Topic8\", \"Topic8\", \"Topic8\", \"Topic8\", \"Topic8\", \"Topic8\", \"Topic8\", \"Topic8\", \"Topic8\", \"Topic8\", \"Topic8\", \"Topic8\", \"Topic8\", \"Topic8\", \"Topic8\", \"Topic8\", \"Topic8\", \"Topic8\", \"Topic8\", \"Topic8\", \"Topic8\", \"Topic8\", \"Topic8\", \"Topic8\", \"Topic8\", \"Topic8\", \"Topic8\", \"Topic8\", \"Topic8\", \"Topic8\", \"Topic8\", \"Topic8\", \"Topic8\", \"Topic8\", \"Topic8\", \"Topic8\", \"Topic9\", \"Topic9\", \"Topic9\", \"Topic9\", \"Topic9\", \"Topic9\", \"Topic9\", \"Topic9\", \"Topic9\", \"Topic9\", \"Topic9\", \"Topic9\", \"Topic9\", \"Topic9\", \"Topic9\", \"Topic9\", \"Topic9\", \"Topic9\", \"Topic9\", \"Topic9\", \"Topic9\", \"Topic9\", \"Topic9\", \"Topic9\", \"Topic9\", \"Topic9\", \"Topic9\", \"Topic9\", \"Topic9\", \"Topic9\", \"Topic9\", \"Topic9\", \"Topic9\", \"Topic9\", \"Topic9\", \"Topic9\", \"Topic9\", \"Topic9\", \"Topic9\", \"Topic9\", \"Topic9\", \"Topic9\", \"Topic9\", \"Topic9\", \"Topic9\", \"Topic9\", \"Topic9\", \"Topic9\", \"Topic9\", \"Topic9\", \"Topic9\", \"Topic9\", \"Topic9\", \"Topic9\", \"Topic9\", \"Topic9\", \"Topic9\", \"Topic9\", \"Topic9\", \"Topic9\", \"Topic10\", \"Topic10\", \"Topic10\", \"Topic10\", \"Topic10\", \"Topic10\", \"Topic10\", \"Topic10\", \"Topic10\", \"Topic10\", \"Topic10\", \"Topic10\", \"Topic10\", \"Topic10\", \"Topic10\", \"Topic10\", \"Topic10\", \"Topic10\", \"Topic10\", \"Topic10\", \"Topic10\", \"Topic10\", \"Topic10\", \"Topic10\", \"Topic10\", \"Topic10\", \"Topic10\", \"Topic10\", \"Topic10\", \"Topic10\", \"Topic10\", \"Topic10\", \"Topic10\", \"Topic10\", \"Topic10\", \"Topic10\", \"Topic10\", \"Topic10\", \"Topic10\", \"Topic10\", \"Topic10\", \"Topic10\", \"Topic10\", \"Topic10\", \"Topic10\", \"Topic10\", \"Topic10\", \"Topic10\", \"Topic10\", \"Topic10\", \"Topic10\", \"Topic10\", \"Topic10\", \"Topic10\", \"Topic10\", \"Topic10\", \"Topic10\", \"Topic10\", \"Topic10\", \"Topic10\"], \"logprob\": [30.0, 29.0, 28.0, 27.0, 26.0, 25.0, 24.0, 23.0, 22.0, 21.0, 20.0, 19.0, 18.0, 17.0, 16.0, 15.0, 14.0, 13.0, 12.0, 11.0, 10.0, 9.0, 8.0, 7.0, 6.0, 5.0, 4.0, 3.0, 2.0, 1.0, -4.2639, -4.7265, -4.9448, -5.2243, -5.2243, -5.2245, -4.4912, -5.6138, -5.6138, -5.6138, -5.6138, -5.6138, -5.6138, -5.6139, -5.6139, -5.614, -5.614, -4.9453, -4.5476, -4.7265, -6.2605, -6.2605, -6.2605, -6.2605, -6.2605, -6.2605, -6.2605, -6.2605, -6.2605, -6.2605, -4.2639, -4.5475, -4.5474, -4.3958, -4.5475, -4.5476, -4.9448, -4.7266, -4.5476, -4.2639, -4.2639, -4.9448, -4.5474, -4.5474, -4.9452, -4.9449, -4.9448, -5.1766, -4.945, -5.2243, -4.9454, -5.2243, -4.2464, -4.9272, -5.2068, -5.2069, -5.2069, -5.5963, -5.5963, -5.5963, -5.5963, -5.5963, -5.5963, -5.5963, -5.5964, -5.5964, -5.5963, -5.5964, -5.5963, -5.5963, -5.5963, -5.5964, -5.5964, -5.5964, -4.709, -5.5964, -6.243, -6.243, -6.243, -6.243, -6.243, -6.243, -4.9272, -5.2069, -5.2068, -4.2464, -4.9273, -4.9273, -4.9273, -4.3781, -4.9272, -4.9273, -4.9273, -4.9273, -4.9273, -4.7088, -4.53, -4.9273, -4.9273, -4.9271, -5.2069, -5.2069, -5.2069, -5.2069, -5.2069, -5.2068, -5.2066, -5.2067, -4.6185, -4.6195, -4.8981, -5.2875, -5.2875, -5.2875, -5.2875, -5.2875, -5.2875, -5.2875, -5.2875, -5.2875, -5.2875, -5.2877, -5.2925, -5.3113, -5.9342, -5.9342, -5.9342, -5.9342, -5.9342, -5.9342, -5.9342, -5.9342, -5.9342, -5.9342, -5.9342, -5.9342, -5.9342, -5.9342, -4.6189, -5.2875, -3.5842, -4.6185, -4.2514, -3.8527, -4.898, -4.6185, -4.898, -5.2877, -5.2877, -5.2875, -4.898, -4.898, -4.8988, -4.2511, -4.8995, -4.9241, -5.2875, -5.2875, -5.2875, -5.2875, -5.2875, -5.2875, -5.2875, -5.2875, -5.2875, -4.7761, -5.1656, -5.1656, -5.1656, -5.1656, -5.1656, -5.1656, -5.1656, -5.1656, -5.1657, -4.7762, -4.7762, -4.7761, -5.8122, -5.8122, -5.8122, -5.8122, -5.8122, -5.8122, -5.8122, -5.8122, -5.8123, -5.8123, -5.8123, -5.8123, -5.8123, -5.8123, -5.8123, -5.8123, -5.8123, -4.7761, -4.4966, -4.0993, -5.1656, -5.1656, -4.4966, -3.6993, -4.4966, -4.4965, -5.1656, -5.1656, -5.1656, -5.1656, -4.2784, -4.7761, -5.1656, -5.1656, -4.7762, -4.7761, -5.1656, -5.1656, -5.1656, -5.1656, -5.1656, -5.1656, -5.1656, -5.1656, -4.5266, -4.5266, -5.1733, -5.1733, -5.1733, -5.1733, -5.1733, -5.1733, -5.1733, -5.1733, -5.1733, -5.1733, -5.1733, -5.1733, -5.1733, -5.1733, -5.1733, -5.1733, -5.1733, -5.1733, -5.1787, -4.5266, -5.1733, -5.1733, -5.1733, -5.1733, -5.1733, -5.1733, -4.1371, -5.1733, -3.4609, -3.3713, -4.0058, -4.5266, -3.8575, -4.05, -4.5266, -4.137, -4.5266, -4.4433, -4.5269, -4.5266, -4.4444, -5.1032, -5.173, -5.173, -5.1731, -5.1731, -5.1731, -5.1731, -5.1731, -5.1732, -5.1732, -5.1732, -5.1733, -5.1733, -4.4499, -5.0966, -5.0966, -5.0966, -5.0966, -5.0966, -5.0966, -5.0966, -5.0966, -5.0966, -5.0966, -5.0966, -5.0966, -5.0966, -5.0966, -5.0966, -5.0966, -5.0966, -5.0966, -5.0966, -5.0966, -5.0966, -5.0966, -5.0966, -5.0966, -5.0966, -5.0966, -5.0966, -5.0966, -5.0966, -4.4499, -4.4499, -4.4499, -4.4499, -4.4499, -4.0604, -4.4499, -4.4499, -5.0966, -5.0966, -5.0966, -5.0966, -5.0966, -5.0966, -5.0966, -5.0966, -5.0966, -5.0966, -5.0966, -5.0966, -5.0966, -5.0966, -5.0966, -5.0966, -5.0966, -5.0966, -5.0966, -5.0966, -5.0966, -3.9305, -4.9662, -4.9663, -4.9663, -4.9663, -4.9664, -4.9664, -4.9664, -4.9664, -4.9664, -4.9665, -4.9665, -4.9665, -4.9665, -4.9666, -4.3372, -3.2533, -3.1017, -4.9665, -4.9665, -4.9662, -4.9664, -4.9666, -4.3374, -5.0123, -5.027, -4.9669, -4.9665, -4.3197, -4.9664, -4.3198, -4.3379, -4.3943, -4.3376, -4.5034, -4.9664, -4.9665, -4.8088, -4.8088, -4.8088, -4.8088, -4.8088, -4.8088, -4.8088, -4.8088, -4.8088, -4.8088, -4.8088, -4.8088, -4.8088, -4.8088, -4.8088, -3.7727, -4.8088, -4.8088, -4.8087, -4.8088, -4.8088, -4.8088, -4.8087, -4.8087, -4.8088, -4.8087, -4.8084, -4.8086, -3.2746, -4.8088, -4.8078, -4.8081, -4.8084, -4.8085, -4.8085, -4.8088, -4.8088, -4.8088, -6.7778, -6.7778, -6.7778, -6.7778, -6.7778, -6.7778, -6.7778, -6.7778, -6.7778, -6.7778, -6.7778, -6.7778, -6.7778, -6.7778, -6.7778, -6.7778, -6.7778, -6.7778, -6.7778, -6.7778, -6.7778, -6.7778, -6.7778, -6.7778, -6.7778, -6.7778, -6.7778, -6.7778, -6.7778, -6.7778, -6.7739, -6.7742, -6.7743, -6.7748, -6.7753, -6.7754, -6.7757, -6.776, -6.7761, -6.7762, -6.7762, -6.7762, -6.7762, -6.7762, -6.7762, -6.7763, -6.7764, -6.7764, -6.7764, -6.7764, -6.7764, -6.7764, -6.7765, -6.7765, -6.7765, -6.7765, -6.7765, -6.7765, -6.7765, -6.7765, -6.7776, -6.7776, -6.7776, -6.7776, -6.7776, -6.7776, -6.7776, -6.7776, -6.7776, -6.7776, -6.7776, -6.7776, -6.7776, -6.7776, -6.7776, -6.7776, -6.7776, -6.7776, -6.7776, -6.7776, -6.7776, -6.7776, -6.7776, -6.7776, -6.7776, -6.7776, -6.7776, -6.7776, -6.7776, -6.7776, -6.7776, -6.7776, -6.7776, -6.7776, -6.7776, -6.7776, -6.7776, -6.7776, -6.7776, -6.7776, -6.7776, -6.7776, -6.7776, -6.7776, -6.7776, -6.7776, -6.7776, -6.7776, -6.7776, -6.7776, -6.7776, -6.7776, -6.7776, -6.7776, -6.7776, -6.7776, -6.7776, -6.7776, -6.7776, -6.7776], \"loglift\": [30.0, 29.0, 28.0, 27.0, 26.0, 25.0, 24.0, 23.0, 22.0, 21.0, 20.0, 19.0, 18.0, 17.0, 16.0, 15.0, 14.0, 13.0, 12.0, 11.0, 10.0, 9.0, 8.0, 7.0, 6.0, 5.0, 4.0, 3.0, 2.0, 1.0, 1.2946, 1.2608, 1.2392, 1.2046, 1.2046, 1.2045, 1.162, 1.1403, 1.1403, 1.1403, 1.1403, 1.1403, 1.1403, 1.1402, 1.1402, 1.1402, 1.1401, 1.1081, 1.0901, 1.0183, 0.9786, 0.9786, 0.9786, 0.9786, 0.9786, 0.9786, 0.9786, 0.9786, 0.9786, 0.9786, 0.9238, 0.9293, 0.8866, 0.8644, 0.8538, 0.7442, 0.7914, 0.7297, 0.6936, 0.5837, 0.5101, 0.7092, 0.0773, 0.0021, 0.3396, 0.32, 0.2622, 0.542, 0.0411, 0.3587, -0.2356, 0.2638, 1.3145, 1.2589, 1.2243, 1.2242, 1.2242, 1.1598, 1.1598, 1.1598, 1.1598, 1.1598, 1.1598, 1.1598, 1.1598, 1.1597, 1.1597, 1.1597, 1.1597, 1.1597, 1.1597, 1.1597, 1.1597, 1.1597, 1.1262, 1.0124, 0.9977, 0.9977, 0.9977, 0.9977, 0.9977, 0.9977, 0.9908, 0.9934, 0.9789, 0.9324, 0.8817, 0.8189, 0.7847, 0.4694, 0.783, 0.7655, 0.6721, 0.6495, 0.6437, 0.2772, 0.0948, 0.4548, 0.3474, 0.3331, 0.6163, 0.5847, 0.5592, 0.5336, 0.3762, 0.2495, 0.0346, 0.0782, 1.6251, 1.6244, 1.5879, 1.5192, 1.5192, 1.5192, 1.5192, 1.5192, 1.5192, 1.5192, 1.5192, 1.5192, 1.5192, 1.519, 1.5154, 1.5012, 1.3473, 1.3473, 1.3473, 1.3473, 1.3473, 1.3473, 1.3473, 1.3473, 1.3473, 1.3473, 1.3473, 1.3473, 1.3473, 1.3473, 1.2619, 1.3001, 1.1255, 1.0985, 1.0232, 0.9213, 1.1266, 1.0449, 1.0808, 1.1797, 1.1797, 1.1791, 0.9787, 0.9562, 0.956, 0.2984, 0.8108, 0.2829, 1.0191, 0.7139, 0.9265, 0.9264, -0.0998, 0.4399, 0.6784, 0.7989, 0.351, 1.7401, 1.6688, 1.6688, 1.6688, 1.6688, 1.6688, 1.6687, 1.6687, 1.6687, 1.6687, 1.5916, 1.5718, 1.5621, 1.4915, 1.4915, 1.4915, 1.4915, 1.4915, 1.4915, 1.4915, 1.4915, 1.4915, 1.4915, 1.4915, 1.4915, 1.4915, 1.4915, 1.4915, 1.4915, 1.4915, 1.4894, 1.2588, 1.1656, 1.3214, 1.3214, 1.1014, 0.8502, 0.7637, 0.7104, 1.0641, 1.0636, 1.0636, 1.0635, 0.3464, 0.712, 0.9734, 0.9623, 0.5156, 0.5087, 0.6788, 0.4175, 0.5618, 0.8465, 0.4337, 0.1947, 0.6892, 0.0132, 2.5481, 2.5481, 2.3177, 2.3177, 2.3177, 2.3177, 2.3177, 2.3177, 2.3177, 2.3177, 2.3177, 2.3177, 2.3177, 2.3177, 2.3177, 2.3177, 2.3177, 2.3177, 2.3177, 2.3177, 2.311, 2.1585, 1.7585, 1.7284, 1.7284, 1.7284, 1.7284, 1.7284, 1.5557, 1.5257, 1.5252, 1.3385, 1.3763, 1.2649, 0.7673, 0.724, 1.1273, 0.7105, 1.1119, 0.8314, 0.7334, 0.7147, 0.1052, 0.1038, 0.398, 0.6359, 0.4037, 0.5389, 0.5674, 0.8811, 0.593, 1.1323, 0.8933, 1.0922, 0.8052, 0.8281, 2.6661, 2.4256, 2.4256, 2.4256, 2.4256, 2.4256, 2.4256, 2.4256, 2.4256, 2.4256, 2.4256, 2.4256, 2.4256, 2.4256, 2.4256, 2.4256, 2.4256, 2.4256, 2.4256, 2.4256, 2.4256, 2.4256, 2.4256, 2.4256, 2.4256, 2.4256, 2.4256, 2.4256, 2.4256, 2.4256, 2.4103, 2.0475, 1.9676, 1.7035, 1.5737, 0.5643, 1.2621, 0.9841, 0.6482, 1.8223, 1.1938, 0.6396, 0.3047, 1.8223, 1.8532, 1.0313, 0.8436, 0.1104, 1.1757, 0.9899, 0.542, 1.21, 1.491, 1.3896, 1.6024, 0.2638, 0.8823, 1.8223, 0.9794, 2.9976, 2.6218, 2.6217, 2.6216, 2.6215, 2.6215, 2.6215, 2.6215, 2.6214, 2.6214, 2.6214, 2.6214, 2.6213, 2.6213, 2.6211, 2.3892, 2.3852, 2.1586, 2.0359, 2.0194, 1.9893, 1.9891, 1.9888, 1.9349, 1.9311, 1.9129, 1.8933, 1.7624, 1.7562, 1.7249, 1.5569, 1.4853, 1.3244, 1.2604, 1.1498, 0.6046, 0.8425, 2.8871, 2.8871, 2.8871, 2.8871, 2.8871, 2.8871, 2.8871, 2.8871, 2.8871, 2.8871, 2.8871, 2.8871, 2.8871, 2.8871, 2.8871, 2.5939, 2.4196, 2.4196, 2.2525, 2.2349, 2.2025, 2.2013, 1.8332, 1.8323, 1.7999, 1.5372, 1.4571, 1.3305, 1.2749, 1.1925, -0.183, 0.4522, 1.1428, 0.7683, 0.4764, 0.9081, 0.8288, 1.1696, 0.9182, 0.9182, 0.9182, 0.9182, 0.9182, 0.9182, 0.9182, 0.9182, 0.9182, 0.9182, 0.9182, 0.9182, 0.9182, 0.9182, 0.9182, 0.8102, 0.8102, 0.8101, 0.8101, 0.8101, 0.8101, 0.8101, 0.8101, 0.8101, 0.8101, 0.8101, 0.81, 0.81, 0.81, 0.7444, -2.1491, -1.5954, -0.3432, -0.0186, -1.2144, -1.0292, -0.9842, -1.3196, -1.1781, -0.4095, -1.0834, 0.4646, -0.299, 0.4645, 0.0049, 0.4644, 0.4644, -0.3467, -1.0103, 0.4643, -0.5767, -0.0203, -0.346, -0.0203, 0.4643, -0.309, 0.4642, -0.9217, -1.0645, 0.4642, 0.9183, 0.9183, 0.9183, 0.9183, 0.9183, 0.9183, 0.9183, 0.9183, 0.9183, 0.9183, 0.9183, 0.9183, 0.9183, 0.9183, 0.9183, 0.8103, 0.8103, 0.8103, 0.8102, 0.8102, 0.8102, 0.8102, 0.8102, 0.8102, 0.8102, 0.8102, 0.8102, 0.8102, 0.8101, 0.7445, 0.4614, -0.3012, 0.4614, -0.3487, 0.0158, 0.0024, -0.0235, 0.1657, -0.0225, -0.5123, 0.4614, -1.0115, -0.33, 0.4614, 0.4614, -1.0607, 0.4614, -0.3292, 0.4614, 0.4614, 0.4614, 0.0158, -0.5705, -1.0329, -0.7992, 0.1412, 0.0158, -0.5785, -0.5561, 0.4614]}, \"token.table\": {\"Topic\": [2, 3, 4, 2, 1, 5, 3, 4, 3, 1, 6, 1, 3, 4, 1, 4, 4, 1, 2, 1, 1, 4, 2, 5, 4, 1, 3, 2, 3, 2, 3, 4, 5, 1, 2, 1, 1, 2, 1, 2, 5, 1, 4, 1, 2, 5, 1, 3, 5, 3, 2, 2, 3, 2, 3, 6, 7, 2, 2, 4, 6, 4, 2, 1, 2, 5, 3, 4, 7, 1, 6, 2, 1, 6, 1, 3, 6, 3, 2, 2, 2, 3, 3, 4, 1, 2, 4, 3, 2, 1, 3, 1, 1, 2, 3, 4, 1, 2, 3, 5, 6, 2, 3, 5, 1, 3, 2, 4, 6, 2, 6, 3, 3, 3, 3, 1, 1, 4, 3, 3, 3, 2, 1, 2, 4, 1, 3, 6, 2, 5, 1, 5, 6, 1, 2, 1, 2, 5, 2, 2, 5, 4, 1, 6, 1, 2, 4, 4, 1, 4, 1, 1, 2, 3, 1, 2, 3, 4, 4, 1, 3, 6, 3, 2, 1, 4, 1, 4, 1, 2, 3, 5, 5, 2, 3, 5, 1, 3, 4, 4, 1, 4, 4, 6, 1, 2, 3, 1, 2, 3, 5, 6, 1, 3, 5, 6, 7, 2, 1, 2, 4, 5, 1, 5, 5, 4, 5, 6, 2, 4, 1, 2, 5, 2, 3, 6, 2, 1, 3, 5, 4, 6, 1, 2, 4, 7, 1, 2, 4, 6, 2, 1, 3, 5, 6, 5, 2, 3, 4, 6, 1, 2, 4, 5, 7, 1, 2, 3, 1, 2, 3, 5, 3, 4, 6, 1, 1, 2, 3, 5, 3, 2, 8, 1, 2, 5, 1, 1, 2, 4, 5, 1, 2, 3, 5, 6, 1, 2, 6, 1, 2, 3, 2, 6, 1, 2, 4, 1, 3, 5, 1, 2, 3, 6, 1, 5, 6, 2, 3, 3, 5, 1, 3, 5, 6, 1, 2, 3, 1, 2, 3, 5, 6, 1, 2, 3, 4, 4, 1, 3, 3, 1, 2, 4, 5, 2, 3, 6, 2, 3, 4, 5, 3, 4, 6, 6, 1, 2, 3, 4, 5, 1, 2, 3, 6, 1, 5, 3, 6, 3, 1, 2, 2, 4, 6, 2, 6, 1, 1, 6, 4, 4, 1, 2, 6, 2, 4, 2, 3, 4, 1, 2, 3, 4, 5, 6, 1, 3, 5, 6, 1, 2, 3, 2, 1, 2, 6, 1, 5, 1, 5, 3, 2, 1, 2, 3, 3, 2, 6, 1, 3, 5, 1, 2, 4, 4, 1, 2, 3, 6, 1, 2, 3, 5, 2, 1, 3, 6, 1, 2, 4, 6, 3, 2, 1, 3, 4, 6, 1, 3, 4, 6, 2, 6, 1, 2, 6, 7, 6, 2, 2, 3, 6, 6, 1, 1, 2, 4, 6, 4, 1, 7, 6, 6, 1, 5, 6, 6, 1, 2, 3, 4, 1, 2, 4, 5, 6, 6, 5, 1, 4, 3, 2, 4, 5, 1, 5, 7, 2, 3, 5, 1, 7, 6, 3, 4, 6, 1, 2, 1, 2, 3, 6, 3, 2, 1, 3, 4, 5, 2, 2, 3, 4, 5, 2, 5, 1, 5, 3, 6, 1, 3, 4, 5, 6, 1, 3, 6, 7, 4, 2, 3, 4, 3, 1, 3, 4, 5, 2, 3, 2, 5, 5, 1, 6, 2, 4, 1, 2, 3, 7, 3, 4, 5, 1, 2, 3, 1, 4, 3, 4, 4, 2, 3, 1, 2, 3, 1, 6, 1, 2, 4, 5, 2, 3, 4, 1, 3, 4, 5, 8, 1, 4, 2, 1, 2, 5, 6, 4], \"Freq\": [0.18956694472711585, 0.5687008341813475, 0.18956694472711585, 0.7384866305637252, 0.7373207674495352, 0.9485444413446346, 0.9569472859480436, 0.786564229533161, 0.7692816243979979, 0.3512140322188947, 0.3512140322188947, 0.343915686563801, 0.343915686563801, 0.343915686563801, 0.7373207674495352, 0.7157294969744779, 0.983859710960837, 0.9838822185371228, 0.7384866305637252, 0.9838821453084818, 0.4722181267081102, 0.4722181267081102, 0.9097514066479943, 0.9485444413446346, 0.9838606907791558, 0.4659276195410778, 0.4659276195410778, 0.7244715834422492, 0.1811178958605623, 0.4171820468594947, 0.13906068228649823, 0.27812136457299647, 0.13906068228649823, 0.9079724911440693, 0.7384866305637252, 0.548562273585263, 0.45445693580546326, 0.45445693580546326, 0.5569155256288599, 0.27845776281442997, 0.27845776281442997, 0.7373207674495352, 0.7865637450189659, 0.33805728273206687, 0.5070859240981003, 0.16902864136603343, 0.6682919073905129, 0.33414595369525646, 0.9474161774099618, 0.7692816696258211, 0.5552707703192611, 0.4795430547885476, 0.31969536985903174, 0.23041661356891138, 0.46083322713782277, 0.23041661356891138, 0.23041661356891138, 0.7385595991621411, 0.9097579752155267, 0.983846204703121, 0.9786115118554763, 0.7865594734753099, 0.7384866305637252, 0.25713439515092307, 0.7714031854527692, 0.9485444413446346, 0.3775772363533191, 0.3775772363533191, 0.18878861817665954, 0.7373207674495352, 0.9786115118554763, 0.7384866305637252, 0.7373207674495352, 0.9786115118554763, 0.9079726630686161, 0.5520909021538832, 0.5520909021538832, 0.9569472859480436, 0.7385457483486987, 0.7384866305637252, 0.43777639557548964, 0.43777639557548964, 0.7692816696258211, 0.7865599495114052, 0.2685786946471853, 0.2685786946471853, 0.5371573892943706, 0.7692816696258211, 0.9097623001323744, 0.32183936954036035, 0.48275905431054056, 0.7373207674495352, 0.33440664535895803, 0.33440664535895803, 0.33440664535895803, 0.5819505101462258, 0.7373207674495352, 0.3102026348833303, 0.5170043914722171, 0.10340087829444342, 0.9786115118554763, 0.5292632059858097, 0.17642106866193655, 0.17642106866193655, 0.7373208291372968, 0.8176596180336607, 0.5374397251745481, 0.5374397251745481, 0.9786115118554763, 0.909844970951507, 0.7294961784726217, 0.7692816696258211, 0.7692816696258211, 0.7692816696258211, 0.9569472859480436, 0.7373207674495352, 0.4722148293024776, 0.4722148293024776, 0.9581367311171319, 0.9569472859480436, 0.7692816696258211, 0.909797868419743, 0.2627287721731056, 0.5254575443462112, 0.2627287721731056, 0.661819770257056, 0.165454942564264, 0.165454942564264, 0.9859840160325202, 0.9485444413446346, 0.3472825214210915, 0.3472825214210915, 0.3472825214210915, 0.3284441418470337, 0.6568882836940674, 0.4180168662870538, 0.4180168662870538, 0.2090084331435269, 0.9097927913431856, 0.9097873739560156, 0.9485444413446346, 0.983868160781324, 0.5352751461623808, 0.5352751461623808, 0.36940306416406143, 0.36940306416406143, 0.36940306416406143, 0.9838531344285758, 0.47220823352654995, 0.47220823352654995, 0.9079725392240168, 0.5212570364824382, 0.2606285182412191, 0.2606285182412191, 0.26653627918926964, 0.26653627918926964, 0.26653627918926964, 0.26653627918926964, 0.7865637422884086, 0.46568964409954705, 0.46568964409954705, 0.23284482204977353, 0.7692816243979979, 0.7851367341475981, 0.7373207674495352, 0.6171709806058392, 0.4054125105503469, 0.4054125105503469, 0.32950512763623757, 0.4942576914543564, 0.16475256381811879, 0.16475256381811879, 0.9485444413446346, 0.46642062775612975, 0.46642062775612975, 0.9485444413446346, 0.6328230227952629, 0.12656460455905258, 0.25312920911810516, 0.7865646937128976, 0.9079724911440693, 0.7865646852399583, 0.7865585515776518, 0.7294961551508674, 0.1847003637124283, 0.3694007274248566, 0.3694007274248566, 0.4564955959272029, 0.22824779796360145, 0.22824779796360145, 0.22824779796360145, 0.9786115118554763, 0.7373207674495352, 0.29756711753885823, 0.14878355876942911, 0.14878355876942911, 0.4463506763082874, 0.9097658243986281, 0.0939491327759308, 0.6576439294315155, 0.1878982655518616, 0.0939491327759308, 0.9079727808684162, 0.9485444413446346, 0.9485444413446346, 0.42962691392515506, 0.42962691392515506, 0.42962691392515506, 0.4057683125132364, 0.4057683125132364, 0.15708004880281912, 0.4712401464084573, 0.31416009760563823, 0.3408361466236259, 0.6816722932472518, 0.9786115118554763, 0.555193360998212, 0.4277114395524898, 0.4277114395524898, 0.2138557197762449, 0.6049168896613382, 0.3024584448306691, 0.1428728395678262, 0.2857456791356524, 0.4286185187034786, 0.1428728395678262, 0.20339597922439803, 0.40679195844879606, 0.40679195844879606, 0.9786115118554763, 0.9859838152859567, 0.43872287915010794, 0.43872287915010794, 0.12534939404288797, 0.9786115118554763, 0.9485444413446346, 0.2161590123453684, 0.2161590123453684, 0.4323180246907368, 0.2161590123453684, 0.9613659085532644, 0.2038537097472263, 0.30578056462083947, 0.10192685487361315, 0.30578056462083947, 0.2645159151815085, 0.2645159151815085, 0.529031830363017, 0.23025720474828884, 0.3453858071224333, 0.11512860237414442, 0.23025720474828884, 0.4853902277793258, 0.4853902277793258, 0.2426951138896629, 0.9079724911440693, 0.5000199462902325, 0.3000119677741395, 0.1000039892580465, 0.1000039892580465, 0.7692816243979979, 0.6163006867682259, 0.30815034338411296, 0.45090826086630686, 0.45090826086630686, 0.22545413043315343, 0.9079724911440693, 0.13987114247158247, 0.4196134274147474, 0.27974228494316494, 0.13987114247158247, 0.9079729104443341, 0.4803795503498358, 0.1601265167832786, 0.1601265167832786, 0.1601265167832786, 0.4373378433946727, 0.21866892169733634, 0.21866892169733634, 0.2645153512603061, 0.2645153512603061, 0.5290307025206122, 0.5552435202338908, 0.9786115118554763, 0.2685740801177033, 0.2685740801177033, 0.5371481602354066, 0.34056218664779303, 0.6811243732955861, 0.9485444413446346, 0.28551904406920403, 0.28551904406920403, 0.28551904406920403, 0.28551904406920403, 0.5261528559072982, 0.5261528559072982, 0.9786115118554763, 0.9097419437682287, 0.9569472859480436, 0.6944542727812861, 0.9485444413446346, 0.17632930475232023, 0.5289879142569607, 0.2351057396697603, 0.05877643491744008, 0.6635152014659371, 0.1895757718474106, 0.1895757718474106, 0.45328414254127974, 0.15109471418042658, 0.15109471418042658, 0.15109471418042658, 0.9786115118554763, 0.5259388956241277, 0.10518777912482552, 0.10518777912482552, 0.21037555824965104, 0.7865629926173732, 0.7432303988648442, 0.14864607977296884, 0.9569472859480436, 0.4222525630892383, 0.4222525630892383, 0.2815017087261589, 0.6255484589286598, 0.29018905632778896, 0.5803781126555779, 0.29018905632778896, 0.28986862411904607, 0.28986862411904607, 0.28986862411904607, 0.28986862411904607, 0.32424511347080004, 0.32424511347080004, 0.32424511347080004, 0.978611552904638, 0.3252080087651267, 0.16260400438256334, 0.3252080087651267, 0.3252080087651267, 0.9485444413446346, 0.6063228615429738, 0.12126457230859476, 0.12126457230859476, 0.12126457230859476, 0.5261527486705228, 0.5261527486705228, 0.44270040510538805, 0.44270040510538805, 0.9569471459761281, 0.6115174495000713, 0.3057587247500356, 0.3475878075041147, 0.6951756150082294, 0.978611552904638, 0.9860542347982223, 0.9786115118554763, 0.5467198779797968, 0.586436406935684, 0.9786115118554763, 0.7865584617178488, 0.9838389660594775, 0.6564277791682134, 0.3282138895841067, 0.9786115118554763, 0.587185295743876, 0.7865636737983944, 0.42919051850462026, 0.2861270123364135, 0.2861270123364135, 0.337948361543616, 0.22529890769574404, 0.22529890769574404, 0.22529890769574404, 0.11264945384787202, 0.11264945384787202, 0.2090894800001895, 0.418178960000379, 0.2090894800001895, 0.2090894800001895, 0.3050657543136308, 0.1525328771568154, 0.4575986314704462, 0.9097420358129596, 0.49213530050474324, 0.3280902003364955, 0.16404510016824775, 0.6758425456406177, 0.22528084854687258, 0.7701037563710258, 0.9485444413446346, 0.8174348302632324, 0.9097882918901676, 0.4960090738651328, 0.3720068053988496, 0.1240022684662832, 0.5724302190586802, 0.7385435406831992, 0.9786115118554763, 0.4128097387937663, 0.4128097387937663, 0.20640486939688316, 0.2685751861305488, 0.2685751861305488, 0.5371503722610976, 0.6170212328162022, 0.1656997361085464, 0.49709920832563925, 0.1656997361085464, 0.1656997361085464, 0.1733834916377215, 0.5201504749131645, 0.1733834916377215, 0.1733834916377215, 0.9097636874761067, 0.49793403005945064, 0.24896701502972532, 0.24896701502972532, 0.3133823058365381, 0.3133823058365381, 0.20892153722435872, 0.10446076861217936, 0.7692816243979979, 0.9097504889750359, 0.20116585775250115, 0.4023317155050023, 0.4023317155050023, 0.20116585775250115, 0.3071781869297736, 0.1023927289765912, 0.511963644882956, 0.1023927289765912, 0.7385565143178469, 0.6519703176710616, 0.48357720220091505, 0.32238480146727666, 0.16119240073363833, 0.16119240073363833, 0.9786115118554763, 0.738549346983315, 0.7385441455070826, 0.9569472859480436, 0.9786115118554763, 0.9786115118554763, 0.9079724911440693, 0.19676475275709274, 0.5902942582712781, 0.9838568017123416, 0.978611552904638, 0.7865622812644394, 0.4415619030796459, 0.4415619030796459, 0.5047915192692133, 0.9786115118554763, 0.5261527486705228, 0.5261527486705228, 0.9786115118554763, 0.9786115118554763, 0.3840230806699221, 0.25601538711328137, 0.12800769355664068, 0.25601538711328137, 0.26993366529305596, 0.26993366529305596, 0.21594693223444475, 0.10797346611722237, 0.10797346611722237, 0.9786115118554763, 0.9485444413446346, 0.4908484928422933, 0.4908484928422933, 0.7692816243979979, 0.34757856276316884, 0.6951571255263377, 0.6255483819056378, 0.5261526858444847, 0.5261526858444847, 0.5402341964138617, 0.7385535809630206, 0.5422284364742076, 0.5422284364742076, 0.7549321762239377, 0.15098643524478755, 0.9786115118554763, 0.9569471459761281, 0.786561096227914, 0.9786115118554763, 0.9079724911440693, 0.9097681366858963, 0.5867840107546185, 0.1173568021509237, 0.2347136043018474, 0.1173568021509237, 0.9569472859480436, 0.9097420358129596, 0.18279138694356825, 0.3655827738871365, 0.3655827738871365, 0.18279138694356825, 0.7718110633718112, 0.9636728215341936, 0.7692816243979979, 0.9838527344501543, 0.9485444413446346, 0.4263778489162399, 0.4263778489162399, 0.5261526858444847, 0.5261526858444847, 0.7686643660244644, 0.3843321830122322, 0.2899043827814784, 0.1932695885209856, 0.2899043827814784, 0.0966347942604928, 0.0966347942604928, 0.2803898430201474, 0.2803898430201474, 0.2803898430201474, 0.2803898430201474, 0.5570471586476208, 0.1672254714885453, 0.3344509429770906, 0.5016764144656359, 0.7692816243979979, 0.8435240001453007, 0.6064769896097175, 0.42372348211673144, 0.42372348211673144, 0.34083443340845654, 0.6816688668169131, 0.7385511616394241, 0.9485444413446346, 0.9485444413446346, 0.5352751461623808, 0.5352751461623808, 0.9097608237003486, 0.7865611047007762, 0.178955306667748, 0.536865920003244, 0.178955306667748, 0.178955306667748, 0.96253698334981, 0.5990430128533196, 0.2995215064266598, 0.26077999935892304, 0.5215599987178461, 0.26077999935892304, 0.6036681371396229, 0.30183406856981143, 0.9569846690414109, 0.7865629926173732, 0.7865612362668998, 0.7827544582053193, 0.26091815273510643, 0.3692061914458823, 0.18460309572294115, 0.3692061914458823, 0.5352752111858667, 0.5352752111858667, 0.2324363361884432, 0.3099151149179243, 0.15495755745896214, 0.2324363361884432, 0.3441870830116069, 0.3441870830116069, 0.3441870830116069, 0.2503604428990795, 0.2503604428990795, 0.35050462005871125, 0.0500720885798159, 0.1001441771596318, 0.9838824096881108, 0.7865614919143182, 0.909759871890642, 0.4722020806485092, 0.404744640555865, 0.13491488018528833, 0.9786115118554763, 0.9838453360456662], \"Term\": [\"able\", \"able\", \"able\", \"absolutely\", \"abuse\", \"abusive\", \"accounting\", \"achievement\", \"action\", \"actually\", \"actually\", \"addict\", \"addict\", \"addict\", \"addle\", \"adopt\", \"adoptive\", \"afford\", \"afloat\", \"again\", \"age\", \"age\", \"ago\", \"aimless\", \"allow\", \"already\", \"already\", \"also\", \"also\", \"always\", \"always\", \"always\", \"always\", \"amount\", \"anxiety\", \"anymore\", \"anyway\", \"anyway\", \"apply\", \"apply\", \"apply\", \"around\", \"arrangement\", \"as\", \"as\", \"as\", \"assistance\", \"assistance\", \"associate\", \"at\", \"away\", \"bachelor\", \"bachelor\", \"back\", \"back\", \"back\", \"back\", \"bad\", \"band\", \"barrier\", \"bath\", \"bear\", \"being\", \"belong\", \"belong\", \"benefit\", \"big\", \"big\", \"big\", \"birthday\", \"book\", \"boy\", \"brag\", \"breakfast\", \"budget\", \"build\", \"build\", \"call\", \"campus\", \"capacity\", \"career\", \"career\", \"cautionary\", \"ceremony\", \"change\", \"change\", \"change\", \"check\", \"childhood\", \"class\", \"class\", \"clear\", \"close\", \"close\", \"close\", \"clothe\", \"coke\", \"college\", \"college\", \"college\", \"combine\", \"come\", \"come\", \"come\", \"common\", \"community\", \"company\", \"company\", \"competition\", \"connect\", \"consider\", \"constantly\", \"continue\", \"conversation\", \"counseling\", \"country\", \"couple\", \"couple\", \"cover\", \"crappy\", \"cul\", \"culture\", \"dad\", \"dad\", \"dad\", \"day\", \"day\", \"day\", \"deal\", \"decent\", \"decide\", \"decide\", \"decide\", \"definitely\", \"definitely\", \"degree\", \"degree\", \"degree\", \"depressed\", \"depression\", \"develop\", \"die\", \"different\", \"different\", \"do\", \"do\", \"do\", \"doctor\", \"dollar\", \"dollar\", \"down\", \"drop\", \"drop\", \"drop\", \"drug\", \"drug\", \"drug\", \"drug\", \"ear\", \"early\", \"early\", \"early\", \"eat\", \"education\", \"emancipation\", \"employee\", \"encourage\", \"encourage\", \"end\", \"end\", \"end\", \"end\", \"ensure\", \"especially\", \"especially\", \"ethic\", \"even\", \"even\", \"even\", \"ever\", \"exam\", \"expectation\", \"expendable\", \"expensive\", \"experience\", \"experience\", \"experience\", \"extra\", \"extra\", \"extra\", \"extra\", \"extreme\", \"face\", \"family\", \"family\", \"family\", \"family\", \"father\", \"feel\", \"feel\", \"feel\", \"feel\", \"feeling\", \"fiance\", \"fight\", \"financial_aid\", \"financial_aid\", \"financial_aid\", \"finish\", \"finish\", \"first\", \"first\", \"first\", \"fit\", \"fit\", \"focus\", \"follow\", \"food\", \"food\", \"food\", \"free\", \"free\", \"friend\", \"friend\", \"friend\", \"friend\", \"full\", \"full\", \"full\", \"fun\", \"generation\", \"get\", \"get\", \"get\", \"gift\", \"gig\", \"give\", \"give\", \"give\", \"give\", \"go\", \"good\", \"good\", \"good\", \"good\", \"government\", \"government\", \"government\", \"graduate\", \"graduate\", \"graduate\", \"graduate\", \"grant\", \"grant\", \"grant\", \"grind\", \"grow\", \"grow\", \"grow\", \"grow\", \"hand\", \"hard\", \"hard\", \"head\", \"head\", \"head\", \"health\", \"help\", \"help\", \"help\", \"help\", \"here\", \"high_school\", \"high_school\", \"high_school\", \"high_school\", \"home\", \"home\", \"home\", \"homeless\", \"homeless\", \"homeless\", \"hometown\", \"honestly\", \"hour\", \"hour\", \"hour\", \"house\", \"house\", \"household\", \"idea\", \"idea\", \"idea\", \"idea\", \"insecurity\", \"insecurity\", \"inter\", \"intern\", \"internet\", \"it\", \"janitor\", \"job\", \"job\", \"job\", \"job\", \"just\", \"just\", \"just\", \"keep\", \"keep\", \"keep\", \"keep\", \"ketchup\", \"kid\", \"kid\", \"kid\", \"kid\", \"kind\", \"know\", \"know\", \"knowledge\", \"last\", \"last\", \"last\", \"law\", \"learn\", \"learn\", \"learn\", \"leave\", \"leave\", \"leave\", \"leave\", \"level\", \"level\", \"level\", \"library\", \"life\", \"life\", \"life\", \"life\", \"line\", \"live\", \"live\", \"live\", \"live\", \"long\", \"long\", \"look\", \"look\", \"lose\", \"lot\", \"lot\", \"low\", \"low\", \"main\", \"make\", \"manage\", \"many\", \"master\", \"math\", \"matter\", \"meal\", \"mental\", \"mental\", \"middle\", \"minimum\", \"mistake\", \"mom\", \"mom\", \"mom\", \"money\", \"money\", \"money\", \"money\", \"money\", \"money\", \"more\", \"more\", \"more\", \"more\", \"most\", \"most\", \"most\", \"mostly\", \"move\", \"move\", \"move\", \"much\", \"much\", \"mum\", \"nail\", \"need\", \"network\", \"never\", \"never\", \"never\", \"nice\", \"nightmare\", \"normal\", \"now\", \"now\", \"now\", \"offer\", \"offer\", \"offer\", \"one\", \"only\", \"only\", \"only\", \"only\", \"other\", \"other\", \"other\", \"other\", \"overcome\", \"own\", \"own\", \"own\", \"parent\", \"parent\", \"parent\", \"parent\", \"particular\", \"past\", \"pay\", \"pay\", \"pay\", \"pay\", \"people\", \"people\", \"people\", \"people\", \"person\", \"point\", \"poor\", \"poor\", \"poor\", \"poor\", \"portfolio\", \"positive\", \"predominately\", \"private\", \"programmer\", \"programming\", \"purchase\", \"push\", \"push\", \"ready\", \"recycle\", \"refuse\", \"relative\", \"relative\", \"result\", \"reward\", \"roof\", \"roof\", \"room\", \"sandwich\", \"say\", \"say\", \"say\", \"say\", \"school\", \"school\", \"school\", \"school\", \"school\", \"science\", \"second\", \"see\", \"see\", \"shed\", \"show\", \"show\", \"side\", \"since\", \"since\", \"sister\", \"situation\", \"skill\", \"skill\", \"so\", \"so\", \"soap\", \"soon\", \"sound\", \"spare\", \"spend\", \"stage\", \"start\", \"start\", \"start\", \"start\", \"starve\", \"statistic\", \"still\", \"still\", \"still\", \"still\", \"struggle\", \"student\", \"succeed\", \"success\", \"successful\", \"support\", \"support\", \"sure\", \"sure\", \"surprise\", \"surprise\", \"take\", \"take\", \"take\", \"take\", \"take\", \"then\", \"then\", \"then\", \"then\", \"thing\", \"think\", \"think\", \"think\", \"thought\", \"time\", \"today\", \"together\", \"together\", \"too\", \"too\", \"tool\", \"tooth\", \"town\", \"trash\", \"trash\", \"trauma\", \"trouble\", \"try\", \"try\", \"try\", \"try\", \"tuition\", \"undergrad\", \"undergrad\", \"university\", \"university\", \"university\", \"upper_middle\", \"upper_middle\", \"use\", \"value\", \"various\", \"walk\", \"walk\", \"way\", \"way\", \"way\", \"weird\", \"weird\", \"well\", \"well\", \"well\", \"well\", \"white\", \"white\", \"white\", \"work\", \"work\", \"work\", \"work\", \"work\", \"world\", \"worthwhile\", \"write\", \"year\", \"year\", \"year\", \"yield\", \"young\"]}, \"R\": 30, \"lambda.step\": 0.01, \"plot.opts\": {\"xlab\": \"PC1\", \"ylab\": \"PC2\"}, \"topic.order\": [10, 4, 8, 6, 3, 9, 1, 5, 7, 2]};\n",
       "\n",
       "function LDAvis_load_lib(url, callback){\n",
       "  var s = document.createElement('script');\n",
       "  s.src = url;\n",
       "  s.async = true;\n",
       "  s.onreadystatechange = s.onload = callback;\n",
       "  s.onerror = function(){console.warn(\"failed to load library \" + url);};\n",
       "  document.getElementsByTagName(\"head\")[0].appendChild(s);\n",
       "}\n",
       "\n",
       "if(typeof(LDAvis) !== \"undefined\"){\n",
       "   // already loaded: just create the visualization\n",
       "   !function(LDAvis){\n",
       "       new LDAvis(\"#\" + \"ldavis_el2797630673702923842497967141\", ldavis_el2797630673702923842497967141_data);\n",
       "   }(LDAvis);\n",
       "}else if(typeof define === \"function\" && define.amd){\n",
       "   // require.js is available: use it to load d3/LDAvis\n",
       "   require.config({paths: {d3: \"https://d3js.org/d3.v5\"}});\n",
       "   require([\"d3\"], function(d3){\n",
       "      window.d3 = d3;\n",
       "      LDAvis_load_lib(\"https://cdn.jsdelivr.net/gh/bmabey/pyLDAvis@3.3.1/pyLDAvis/js/ldavis.v3.0.0.js\", function(){\n",
       "        new LDAvis(\"#\" + \"ldavis_el2797630673702923842497967141\", ldavis_el2797630673702923842497967141_data);\n",
       "      });\n",
       "    });\n",
       "}else{\n",
       "    // require.js not available: dynamically load d3 & LDAvis\n",
       "    LDAvis_load_lib(\"https://d3js.org/d3.v5.js\", function(){\n",
       "         LDAvis_load_lib(\"https://cdn.jsdelivr.net/gh/bmabey/pyLDAvis@3.3.1/pyLDAvis/js/ldavis.v3.0.0.js\", function(){\n",
       "                 new LDAvis(\"#\" + \"ldavis_el2797630673702923842497967141\", ldavis_el2797630673702923842497967141_data);\n",
       "            })\n",
       "         });\n",
       "}\n",
       "</script>"
      ],
      "text/plain": [
       "PreparedData(topic_coordinates=              x         y  topics  cluster       Freq\n",
       "topic                                                \n",
       "9     -0.120326  0.160740       1        1  25.799658\n",
       "3      0.092122 -0.184126       2        1  25.286595\n",
       "7      0.088493  0.188564       3        1  17.376522\n",
       "5     -0.156370 -0.144909       4        1  14.825302\n",
       "2     -0.110737  0.041788       5        1   5.594182\n",
       "8      0.094236  0.062627       6        1   4.872833\n",
       "0      0.128945 -0.035917       7        1   3.731188\n",
       "4     -0.043133 -0.055348       8        1   2.491054\n",
       "6      0.013441 -0.016646       9        1   0.011592\n",
       "1      0.013329 -0.016775      10        1   0.011073, topic_info=             Term       Freq      Total Category  logprob  loglift\n",
       "124          work  19.000000  19.000000  Default  30.0000  30.0000\n",
       "57            job  17.000000  17.000000  Default  29.0000  29.0000\n",
       "140          good   9.000000   9.000000  Default  28.0000  28.0000\n",
       "168          well  12.000000  12.000000  Default  27.0000  27.0000\n",
       "41            get  15.000000  15.000000  Default  26.0000  26.0000\n",
       "..            ...        ...        ...      ...      ...      ...\n",
       "25      different   0.000238   1.868198  Topic10  -6.7776   0.1412\n",
       "26         dollar   0.000238   2.117710  Topic10  -6.7776   0.0158\n",
       "27           drop   0.000238   3.836879  Topic10  -6.7776  -0.5785\n",
       "28           drug   0.000238   3.751834  Topic10  -6.7776  -0.5561\n",
       "29   emancipation   0.000238   1.356262  Topic10  -6.7776   0.4614\n",
       "\n",
       "[562 rows x 6 columns], token_table=      Topic      Freq        Term\n",
       "term                             \n",
       "127       2  0.189567        able\n",
       "127       3  0.568701        able\n",
       "127       4  0.189567        able\n",
       "815       2  0.738487  absolutely\n",
       "0         1  0.737321       abuse\n",
       "...     ...       ...         ...\n",
       "126       1  0.472202        year\n",
       "126       2  0.404745        year\n",
       "126       5  0.134915        year\n",
       "466       6  0.978612       yield\n",
       "620       4  0.983845       young\n",
       "\n",
       "[579 rows x 3 columns], R=30, lambda_step=0.01, plot_opts={'xlab': 'PC1', 'ylab': 'PC2'}, topic_order=[10, 4, 8, 6, 3, 9, 1, 5, 7, 2])"
      ]
     },
     "execution_count": 28,
     "metadata": {},
     "output_type": "execute_result"
    }
   ],
   "source": [
    "pyLDAvis.enable_notebook()\n",
    "vis = pyLDAvis.gensim_models.prepare(optimal_model, corpus, id2word, mds=\"mmds\", R=30)\n",
    "vis"
   ]
  },
  {
   "cell_type": "code",
   "execution_count": 29,
   "metadata": {},
   "outputs": [],
   "source": [
    "# optimal_model.save(\"Models/Model V2/test_model_2.model\")"
   ]
  },
  {
   "cell_type": "code",
   "execution_count": 41,
   "metadata": {},
   "outputs": [
    {
     "name": "stdout",
     "output_type": "stream",
     "text": [
      "[(9, 0.99878013), (7, 0.8844808), (7, 0.9980773), (2, 0.9977718), (9, 0.99819404), (7, 0.9986689), (4, 0.9952469), (8, 0.9975605), (0, 0.8668096), (5, 0.9991976), (9, 0.99753314), (3, 0.99908435), (9, 0.9984991), (3, 0.9976406), (3, 0.9977699), (3, 0.9974322)]\n"
     ]
    }
   ],
   "source": [
    "results = optimal_model[corpus]\n",
    "corpus_topics = [sorted(topics, key=lambda record: -record[1])[0] for topics in results]\n",
    "print(corpus_topics)"
   ]
  },
  {
   "cell_type": "code",
   "execution_count": 58,
   "metadata": {},
   "outputs": [
    {
     "name": "stderr",
     "output_type": "stream",
     "text": [
      "C:\\Users\\MoRevolution\\AppData\\Local\\Temp\\ipykernel_27976\\4272295173.py:3: FutureWarning: Passing a negative integer is deprecated in version 1.0 and will not be supported in future version. Instead, use None to not limit the column width.\n",
      "  pd.set_option('display.max_colwidth', -1)\n"
     ]
    },
    {
     "data": {
      "text/html": [
       "<div>\n",
       "<style scoped>\n",
       "    .dataframe tbody tr th:only-of-type {\n",
       "        vertical-align: middle;\n",
       "    }\n",
       "\n",
       "    .dataframe tbody tr th {\n",
       "        vertical-align: top;\n",
       "    }\n",
       "\n",
       "    .dataframe thead th {\n",
       "        text-align: right;\n",
       "    }\n",
       "</style>\n",
       "<table border=\"1\" class=\"dataframe\">\n",
       "  <thead>\n",
       "    <tr style=\"text-align: right;\">\n",
       "      <th></th>\n",
       "      <th>Terms per Topic</th>\n",
       "    </tr>\n",
       "  </thead>\n",
       "  <tbody>\n",
       "    <tr>\n",
       "      <th>Topic1</th>\n",
       "      <td>good, family, sister, back, big, relative, then, friend, try, poor, so, city, away, attitude, wear, nearly, wealthy, hang, always, embarrassed</td>\n",
       "    </tr>\n",
       "    <tr>\n",
       "      <th>Topic2</th>\n",
       "      <td>schedule, steal, stretch, someday, spelling, scrape, realize, salary, retirement, retire, rest, respect, requisite, rent, remember, relentless, refuse, sea, stay, ready</td>\n",
       "    </tr>\n",
       "    <tr>\n",
       "      <th>Topic3</th>\n",
       "      <td>job, well, school, graduate, get, year, first, college, work, together, keep, side, grow, law, family, other, good, take, always, come</td>\n",
       "    </tr>\n",
       "    <tr>\n",
       "      <th>Topic4</th>\n",
       "      <td>feel, student, year, school, well, also, lot, push, struggle, bachelor, help, come, always, graduate, high_school, mom, first, college, only, grow</td>\n",
       "    </tr>\n",
       "    <tr>\n",
       "      <th>Topic5</th>\n",
       "      <td>work, hard, school, good, full, thing, help, parent, see, encourage, finish, upper_middle, employee, garage, extremely, sale, minimum, wage, expensive, teacher</td>\n",
       "    </tr>\n",
       "    <tr>\n",
       "      <th>Topic6</th>\n",
       "      <td>work, people, school, take, think, friend, good, adopt, parent, say, undergrad, thing, kid, free, one, grant, still, last, life, meal</td>\n",
       "    </tr>\n",
       "    <tr>\n",
       "      <th>Topic7</th>\n",
       "      <td>school, feel, make, connect, student, only, other, never, friend, hard, first, bad, white, person, especially, situation, tool, mental, as, positive</td>\n",
       "    </tr>\n",
       "    <tr>\n",
       "      <th>Topic8</th>\n",
       "      <td>job, get, work, college, class, most, need, able, community, career, big, more, way, it, experience, bachelor, take, lose, surprise, soon</td>\n",
       "    </tr>\n",
       "    <tr>\n",
       "      <th>Topic9</th>\n",
       "      <td>school, live, result, own, actually, level, home, high_school, point, extreme, focus, form, combine, basically, idea, bath, parent, move, competition, book</td>\n",
       "    </tr>\n",
       "    <tr>\n",
       "      <th>Topic10</th>\n",
       "      <td>go, get, year, just, lot, so, school, work, live, start, even, know, kid, grow, day, time, never, mum, move, keep</td>\n",
       "    </tr>\n",
       "  </tbody>\n",
       "</table>\n",
       "</div>"
      ],
      "text/plain": [
       "                                                                                                                                                                  Terms per Topic\n",
       "Topic1   good, family, sister, back, big, relative, then, friend, try, poor, so, city, away, attitude, wear, nearly, wealthy, hang, always, embarrassed                          \n",
       "Topic2   schedule, steal, stretch, someday, spelling, scrape, realize, salary, retirement, retire, rest, respect, requisite, rent, remember, relentless, refuse, sea, stay, ready\n",
       "Topic3   job, well, school, graduate, get, year, first, college, work, together, keep, side, grow, law, family, other, good, take, always, come                                  \n",
       "Topic4   feel, student, year, school, well, also, lot, push, struggle, bachelor, help, come, always, graduate, high_school, mom, first, college, only, grow                      \n",
       "Topic5   work, hard, school, good, full, thing, help, parent, see, encourage, finish, upper_middle, employee, garage, extremely, sale, minimum, wage, expensive, teacher         \n",
       "Topic6   work, people, school, take, think, friend, good, adopt, parent, say, undergrad, thing, kid, free, one, grant, still, last, life, meal                                   \n",
       "Topic7   school, feel, make, connect, student, only, other, never, friend, hard, first, bad, white, person, especially, situation, tool, mental, as, positive                    \n",
       "Topic8   job, get, work, college, class, most, need, able, community, career, big, more, way, it, experience, bachelor, take, lose, surprise, soon                               \n",
       "Topic9   school, live, result, own, actually, level, home, high_school, point, extreme, focus, form, combine, basically, idea, bath, parent, move, competition, book             \n",
       "Topic10  go, get, year, just, lot, so, school, work, live, start, even, know, kid, grow, day, time, never, mum, move, keep                                                       "
      ]
     },
     "execution_count": 58,
     "metadata": {},
     "output_type": "execute_result"
    }
   ],
   "source": [
    "topics = [[(term, round(wt, 3)) for term, wt in optimal_model.show_topic(n, topn=20)] for n in range(0, optimal_model.num_topics)]\n",
    "# set column width\n",
    "pd.set_option('display.max_colwidth', -1)\n",
    "topics_df = pd.DataFrame([', '.join([term for term, wt in topic]) for topic in topics], columns = ['Terms per Topic'], index=['Topic'+str(t) for t in range(1, optimal_model.num_topics+1)] )\n"
   ]
  },
  {
   "cell_type": "code",
   "execution_count": 62,
   "metadata": {
    "collapsed": true
   },
   "outputs": [
    {
     "ename": "IndexError",
     "evalue": "index 10 is out of bounds for axis 0 with size 10",
     "output_type": "error",
     "traceback": [
      "\u001b[1;31m---------------------------------------------------------------------------\u001b[0m",
      "\u001b[1;31mIndexError\u001b[0m                                Traceback (most recent call last)",
      "Input \u001b[1;32mIn [62]\u001b[0m, in \u001b[0;36m<cell line: 1>\u001b[1;34m()\u001b[0m\n\u001b[0;32m      1\u001b[0m \u001b[38;5;28;01mfor\u001b[39;00m i \u001b[38;5;129;01min\u001b[39;00m \u001b[38;5;28mrange\u001b[39m(\u001b[38;5;241m11\u001b[39m): \n\u001b[0;32m      2\u001b[0m     outF \u001b[38;5;241m=\u001b[39m \u001b[38;5;28mopen\u001b[39m(\u001b[38;5;124m'\u001b[39m\u001b[38;5;124mWord Net and Concept Net/Topics_Model V2/Topic\u001b[39m\u001b[38;5;124m'\u001b[39m \u001b[38;5;241m+\u001b[39m \u001b[38;5;28mstr\u001b[39m(i\u001b[38;5;241m+\u001b[39m\u001b[38;5;241m1\u001b[39m)\u001b[38;5;241m+\u001b[39m\u001b[38;5;124m'\u001b[39m\u001b[38;5;124m.txt\u001b[39m\u001b[38;5;124m'\u001b[39m, \u001b[38;5;124m'\u001b[39m\u001b[38;5;124mw\u001b[39m\u001b[38;5;124m'\u001b[39m)\n\u001b[1;32m----> 3\u001b[0m     \u001b[38;5;28mprint\u001b[39m(\u001b[43mtopics_df\u001b[49m\u001b[43m[\u001b[49m\u001b[38;5;124;43m'\u001b[39;49m\u001b[38;5;124;43mTerms per Topic\u001b[39;49m\u001b[38;5;124;43m'\u001b[39;49m\u001b[43m]\u001b[49m\u001b[43m[\u001b[49m\u001b[43mi\u001b[49m\u001b[43m]\u001b[49m, file \u001b[38;5;241m=\u001b[39m outF)\n",
      "File \u001b[1;32m~\\AppData\\Roaming\\Python\\Python310\\site-packages\\pandas\\core\\series.py:955\u001b[0m, in \u001b[0;36mSeries.__getitem__\u001b[1;34m(self, key)\u001b[0m\n\u001b[0;32m    952\u001b[0m     key \u001b[38;5;241m=\u001b[39m unpack_1tuple(key)\n\u001b[0;32m    954\u001b[0m \u001b[38;5;28;01mif\u001b[39;00m is_integer(key) \u001b[38;5;129;01mand\u001b[39;00m \u001b[38;5;28mself\u001b[39m\u001b[38;5;241m.\u001b[39mindex\u001b[38;5;241m.\u001b[39m_should_fallback_to_positional:\n\u001b[1;32m--> 955\u001b[0m     \u001b[38;5;28;01mreturn\u001b[39;00m \u001b[38;5;28;43mself\u001b[39;49m\u001b[38;5;241;43m.\u001b[39;49m\u001b[43m_values\u001b[49m\u001b[43m[\u001b[49m\u001b[43mkey\u001b[49m\u001b[43m]\u001b[49m\n\u001b[0;32m    957\u001b[0m \u001b[38;5;28;01melif\u001b[39;00m key_is_scalar:\n\u001b[0;32m    958\u001b[0m     \u001b[38;5;28;01mreturn\u001b[39;00m \u001b[38;5;28mself\u001b[39m\u001b[38;5;241m.\u001b[39m_get_value(key)\n",
      "\u001b[1;31mIndexError\u001b[0m: index 10 is out of bounds for axis 0 with size 10"
     ]
    }
   ],
   "source": [
    "# for i in range(10): \n",
    "#     outF = open('Word Net and Concept Net/Topics_Model V2/Topic' + str(i+1)+'.txt', 'w')\n",
    "#     print(topics_df['Terms per Topic'][i], file = outF)"
   ]
  }
 ],
 "metadata": {
  "colab": {
   "collapsed_sections": [],
   "name": "Demo V1.1",
   "provenance": []
  },
  "kernelspec": {
   "display_name": "Python 3 (ipykernel)",
   "language": "python",
   "name": "python3"
  },
  "language_info": {
   "codemirror_mode": {
    "name": "ipython",
    "version": 3
   },
   "file_extension": ".py",
   "mimetype": "text/x-python",
   "name": "python",
   "nbconvert_exporter": "python",
   "pygments_lexer": "ipython3",
   "version": "3.10.5"
  }
 },
 "nbformat": 4,
 "nbformat_minor": 1
}
