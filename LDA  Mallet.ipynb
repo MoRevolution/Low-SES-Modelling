{
 "cells": [
  {
   "cell_type": "code",
   "execution_count": null,
   "id": "6f223788",
   "metadata": {},
   "outputs": [],
   "source": [
    "#Using the above cohenerence score as baseline, I'm trying LDA Mallet as a wat to get better quialty topics. \n",
    "mallet_path = 'alt\\Mallet-202108\\bin\\mallet'\n",
    "ldamallet = gensim.models.wrappers.LdaMallet(\n",
    "mallet_path, \n",
    "corpus = corpus, \n",
    "num_topics = 10, \n",
    "id2word = id2word\n",
    ")\n",
    "\n",
    "#Print new topics\n",
    "from pprint import pprint\n",
    "pprint(ldamallet.show_topics(formatted=False))\n",
    "\n",
    "#Coherence score for new model \n",
    "coherence_model_ldamallet = CoherenceModel(\n",
    "    model = ldaMallet,\n",
    "    texts = texts, \n",
    "    dictionary = id2word, \n",
    "    coherence = 'c_v'\n",
    ")\n",
    "coherence_lda = coherence_model_ldamallet.get_coherence()\n",
    "print('Coherence Score: ', coherence_lda)"
   ]
  }
 ],
 "metadata": {
  "kernelspec": {
   "display_name": "Python 3 (ipykernel)",
   "language": "python",
   "name": "python3"
  },
  "language_info": {
   "codemirror_mode": {
    "name": "ipython",
    "version": 3
   },
   "file_extension": ".py",
   "mimetype": "text/x-python",
   "name": "python",
   "nbconvert_exporter": "python",
   "pygments_lexer": "ipython3",
   "version": "3.10.5"
  }
 },
 "nbformat": 4,
 "nbformat_minor": 5
}
