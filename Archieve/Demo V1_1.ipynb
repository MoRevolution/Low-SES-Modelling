{
  "nbformat": 4,
  "nbformat_minor": 0,
  "metadata": {
    "colab": {
      "name": "Demo V1.1",
      "provenance": [],
      "collapsed_sections": []
    },
    "kernelspec": {
      "name": "python3",
      "display_name": "Python 3"
    },
    "language_info": {
      "name": "python"
    }
  },
  "cells": [
    {
      "cell_type": "markdown",
      "source": [
        "In this version I made sure that all packages necessary for the code to run are a part of the code instead of having the user install the necessary packages manually. "
      ],
      "metadata": {
        "id": "NwagbsqJC-0j"
      }
    },
    {
      "cell_type": "code",
      "execution_count": 1,
      "metadata": {
        "id": "LTbCG8EWzT9o"
      },
      "outputs": [],
      "source": [
        "import gensim "
      ]
    },
    {
      "cell_type": "code",
      "source": [
        "from nltk.tokenize import sent_tokenize"
      ],
      "metadata": {
        "id": "Y5Ufxnp1z_hP"
      },
      "execution_count": 2,
      "outputs": []
    },
    {
      "cell_type": "code",
      "source": [
        "corpus = \"So Im a young first gen college graduate, my dad joined the military as soon as he could and my mom dropped out at 16. I never really understood how different I was until I started hanging out with people in the same major as me (Marine Science). I always felt like I missed a crucial stage growing up where my interests wouldve been nurtured. Most of my studies I just did independently. I hated my teachers in high school because they only seemed to provide their helping hands to the kids who needed it least. I grew a bit of an unhealthy resentment to the preppy kids in my angst-ridden phase. I never really thought of going to college, it wasnt talked about, even with my other siblings. I just kind of wound up there and more or less, ended up winging it. Fast forward a few years and I am succeeding as best I can in classes and still feel like Im missing something despite usually being near the top of most of my classes, doing climate change research as an undergraduate, leading study sessions with people in the honors college at my university and having many intelligent and motivating friends winning prestigious scholarships. I always felt like I got the concepts of the classes but everybody else seemed to understand the networking and scholarship and opportunity aspects of college. I graduated from a big school with my degree, my peers thought very highly of me, but I always felt less than everyone else. I felt like everyone else had a plan, knew what they were doing. So fast forward some more and here I am. I finally got my first good job in my field and I never really felt more out of place than here. I want to fit in, everybody is so nice, professional and scholarly. All I know how to do is memorize information and regurgitate it on a test and somehow do well. It just feels weird. Maybe its a confidence thing? I know I can do whatever is needed to be done, I just dont know if I have any thing new to offer or worthwhile to contribute.\""
      ],
      "metadata": {
        "id": "vDJXBjEn1DmM"
      },
      "execution_count": 3,
      "outputs": []
    },
    {
      "cell_type": "code",
      "source": [
        "import nltk"
      ],
      "metadata": {
        "id": "UVH_sANW2MOp"
      },
      "execution_count": 4,
      "outputs": []
    },
    {
      "cell_type": "code",
      "source": [
        "nltk.download(punkt)"
      ],
      "metadata": {
        "colab": {
          "base_uri": "https://localhost:8080/"
        },
        "id": "aZMrmy_tMyt8",
        "outputId": "429a3ce2-5ea0-4d22-e694-956b8671824f"
      },
      "execution_count": 5,
      "outputs": [
        {
          "output_type": "stream",
          "name": "stderr",
          "text": [
            "[nltk_data] Downloading package punkt to /root/nltk_data...\n",
            "[nltk_data]   Unzipping tokenizers/punkt.zip.\n"
          ]
        },
        {
          "output_type": "execute_result",
          "data": {
            "text/plain": [
              "True"
            ]
          },
          "metadata": {},
          "execution_count": 5
        }
      ]
    },
    {
      "cell_type": "code",
      "source": [
        "list_of_sentences = sent_tokenize(corpus)"
      ],
      "metadata": {
        "id": "MFyKGQ-x3IZV"
      },
      "execution_count": 6,
      "outputs": []
    },
    {
      "cell_type": "code",
      "source": [
        "list_of_sentences"
      ],
      "metadata": {
        "id": "s3-mi8fT3QAr"
      },
      "execution_count": null,
      "outputs": []
    },
    {
      "cell_type": "code",
      "source": [
        "list_of_sentences_data = []\n",
        "for i in list_of_sentences:\n",
        "  list_of_sentences_data.append(gensim.utils.simple_preprocess(i, deacc= True, min_len = 3))"
      ],
      "metadata": {
        "id": "r1jwWr296IVD"
      },
      "execution_count": 8,
      "outputs": []
    },
    {
      "cell_type": "code",
      "source": [
        "texts = list_of_sentences_data"
      ],
      "metadata": {
        "id": "UZ5BaFoe6omz"
      },
      "execution_count": 9,
      "outputs": []
    },
    {
      "cell_type": "code",
      "source": [
        "texts"
      ],
      "metadata": {
        "id": "yyoznE7e60Q6"
      },
      "execution_count": null,
      "outputs": []
    },
    {
      "cell_type": "code",
      "source": [
        "bigram = gensim.models.Phrases(list_of_sentences_data)"
      ],
      "metadata": {
        "id": "-LEhB_Sg7HNY"
      },
      "execution_count": 11,
      "outputs": []
    },
    {
      "cell_type": "code",
      "source": [
        "bigram"
      ],
      "metadata": {
        "colab": {
          "base_uri": "https://localhost:8080/"
        },
        "id": "soHWytyZ8FGc",
        "outputId": "44f3b4c6-99d4-4be1-ea45-e87f50fbfd3b"
      },
      "execution_count": 12,
      "outputs": [
        {
          "output_type": "execute_result",
          "data": {
            "text/plain": [
              "<gensim.models.phrases.Phrases at 0x7fa1073a6e90>"
            ]
          },
          "metadata": {},
          "execution_count": 12
        }
      ]
    },
    {
      "cell_type": "code",
      "source": [
        "from gensim.utils import lemmatize\n",
        "from nltk.corpus import stopwords"
      ],
      "metadata": {
        "id": "oTwXJtf280w1"
      },
      "execution_count": 13,
      "outputs": []
    },
    {
      "cell_type": "code",
      "source": [
        "import nltk\n",
        "nltk.download(stopwords)"
      ],
      "metadata": {
        "id": "PrLA4VUxAGnS"
      },
      "execution_count": null,
      "outputs": []
    },
    {
      "cell_type": "code",
      "source": [
        "stops = set(stopwords.words(\"english\"))"
      ],
      "metadata": {
        "id": "zOyGdx5y_SU7"
      },
      "execution_count": 16,
      "outputs": []
    },
    {
      "cell_type": "code",
      "source": [
        "def process_texts(texts): \n",
        "   texts = [[word for word in line if word not in stops] for line in texts] \n",
        "   texts = [bigram[line] for line in texts]\n",
        "   texts = [[word.decode(\"utf-8\").split(/)[0] for word in lemmatize( .join(line), allowed_tags=re.compile((NN)), min_length=5)] for line in texts]\n",
        "   #texts = [[word.decode(\"utf-8\").split(/)[0] for word in lemmatize( .join(line), allowed_tags=re.compile((NN)), min_length=5)] for line in texts]\n",
        "   #trigrams_ = [t for t in trigram[bigram[sent]] if t.count( ) == 2]\n",
        "   return texts \n"
      ],
      "metadata": {
        "id": "E65lI9i89KPX"
      },
      "execution_count": 23,
      "outputs": []
    },
    {
      "cell_type": "code",
      "source": [
        "import re"
      ],
      "metadata": {
        "id": "YBbn1X-MCLQR"
      },
      "execution_count": 24,
      "outputs": []
    },
    {
      "cell_type": "code",
      "source": [
        "pip install pattern"
      ],
      "metadata": {
        "id": "G1LwP9XaANe8"
      },
      "execution_count": null,
      "outputs": []
    },
    {
      "cell_type": "code",
      "source": [
        "nltk.download(omw-1.4)"
      ],
      "metadata": {
        "id": "MCt3twA5ANNd"
      },
      "execution_count": null,
      "outputs": []
    },
    {
      "cell_type": "code",
      "source": [
        "train_texts = process_texts(list_of_sentences_data)"
      ],
      "metadata": {
        "id": "feTaBeJ9JgXZ"
      },
      "execution_count": null,
      "outputs": []
    },
    {
      "cell_type": "code",
      "source": [
        "from gensim.models import LdaModel\n",
        "from gensim.models.wrappers import LdaMallet \n",
        "from gensim.corpora import Dictionary "
      ],
      "metadata": {
        "id": "Edw7Y3MIJnLK"
      },
      "execution_count": 32,
      "outputs": []
    },
    {
      "cell_type": "code",
      "source": [
        "train_texts"
      ],
      "metadata": {
        "id": "8MqVSKg6KlGJ"
      },
      "execution_count": null,
      "outputs": []
    },
    {
      "cell_type": "code",
      "source": [
        "dictionary = Dictionary(train_texts)\n",
        "corpus = [dictionary.doc2bow(text) for text in train_texts]"
      ],
      "metadata": {
        "id": "xe2xzAbuKLbi"
      },
      "execution_count": 35,
      "outputs": []
    },
    {
      "cell_type": "code",
      "source": [
        "print(dictionary)"
      ],
      "metadata": {
        "colab": {
          "base_uri": "https://localhost:8080/"
        },
        "id": "KZ6dP6kiKXca",
        "outputId": "d36a410d-e921-445e-d9e7-90bf90bf4cc8"
      },
      "execution_count": 36,
      "outputs": [
        {
          "output_type": "stream",
          "name": "stdout",
          "text": [
            "Dictionary(41 unique tokens: [college, graduate, marine, person, science]...)\n"
          ]
        }
      ]
    },
    {
      "cell_type": "code",
      "source": [
        "print(corpus)"
      ],
      "metadata": {
        "colab": {
          "base_uri": "https://localhost:8080/"
        },
        "id": "zf5LXoryKYfN",
        "outputId": "4e7e5efb-4316-4bf8-b2b8-bc1608eb502f"
      },
      "execution_count": 37,
      "outputs": [
        {
          "output_type": "stream",
          "name": "stdout",
          "text": [
            "[[(0, 1), (1, 1)], [(2, 1), (3, 1), (4, 1)], [(5, 1), (6, 1)], [(7, 1)], [(8, 1), (9, 1), (10, 1)], [(11, 1), (12, 1), (13, 1)], [(0, 1), (14, 1)], [], [(0, 1), (3, 1), (7, 1), (15, 1), (16, 2), (17, 1), (18, 1), (19, 1), (20, 1), (21, 1), (22, 1), (23, 1), (24, 1), (25, 1)], [(0, 1), (16, 1), (21, 1), (26, 1), (27, 1), (28, 1), (29, 1), (30, 1)], [(9, 1), (31, 1), (32, 1)], [(32, 1)], [], [(33, 1), (34, 1)], [(28, 1)], [(35, 1), (36, 1)], [], [(37, 1), (38, 1)], [(38, 1), (39, 1), (40, 1)]]\n"
          ]
        }
      ]
    },
    {
      "cell_type": "code",
      "source": [
        "ldamodel = LdaModel(corpus=corpus, num_topics=10, id2word=dictionary)"
      ],
      "metadata": {
        "id": "xfZ4kT02PHtg"
      },
      "execution_count": 38,
      "outputs": []
    },
    {
      "cell_type": "code",
      "source": [
        "ldamodel.show_topics()"
      ],
      "metadata": {
        "id": "NlSQdZy4R7aO"
      },
      "execution_count": null,
      "outputs": []
    },
    {
      "cell_type": "code",
      "source": [
        "pip install pyLDAvis"
      ],
      "metadata": {
        "id": "cskTzFfzR-Kp"
      },
      "execution_count": null,
      "outputs": []
    },
    {
      "cell_type": "code",
      "source": [
        "import pyLDAvis\n",
        "import pyLDAvis.gensim_models\n",
        "\n",
        "pyLDAvis.enable_notebook()\n",
        "vis = pyLDAvis.gensim_models.prepare(ldamodel, corpus, dictionary)\n",
        "vis"
      ],
      "metadata": {
        "colab": {
          "base_uri": "https://localhost:8080/",
          "height": 951
        },
        "id": "vhwBJnIhT9VZ",
        "outputId": "607d7393-24e0-42c4-ba97-9a7d0bbf94e1"
      },
      "execution_count": 41,
      "outputs": [
        {
          "output_type": "stream",
          "name": "stderr",
          "text": [
            "/usr/local/lib/python3.7/dist-packages/past/types/oldstr.py:5: DeprecationWarning: Using or importing the ABCs from collections instead of from collections.abc is deprecated since Python 3.3,and in 3.9 it will stop working\n",
            "  from collections import Iterable\n",
            "/usr/local/lib/python3.7/dist-packages/pyLDAvis/_prepare.py:247: FutureWarning: In a future version of pandas all arguments of DataFrame.drop except for the argument labels will be keyword-only\n",
            "  by=saliency, ascending=False).head(R).drop(saliency, 1)\n"
          ]
        },
        {
          "output_type": "execute_result",
          "data": {
            "text/plain": [
              "PreparedData(topic_coordinates=              x         y  topics  cluster       Freq\n",
              "topic                                                \n",
              "7      0.152875 -0.020719       1        1  32.868203\n",
              "2      0.096311  0.100469       2        1  18.022824\n",
              "8     -0.055233  0.123512       3        1  11.680908\n",
              "9     -0.159343  0.032098       4        1   8.850974\n",
              "1     -0.020044 -0.065862       5        1   6.335168\n",
              "4     -0.023460 -0.094025       6        1   6.335165\n",
              "0      0.024033  0.030674       7        1   4.605654\n",
              "3     -0.013205 -0.066671       8        1   4.605612\n",
              "5     -0.008160 -0.036828       9        1   4.605608\n",
              "6      0.006226 -0.002647      10        1   2.089885, topic_info=           Term      Freq     Total Category  logprob  loglift\n",
              "38        thing  1.000000  1.000000  Default  30.0000  30.0000\n",
              "0       college  2.000000  2.000000  Default  29.0000  29.0000\n",
              "34        place  0.000000  0.000000  Default  28.0000  28.0000\n",
              "33        field  0.000000  0.000000  Default  27.0000  27.0000\n",
              "14      sibling  0.000000  0.000000  Default  26.0000  26.0000\n",
              "..          ...       ...       ...      ...      ...      ...\n",
              "38        thing  0.027020  1.363485  Topic10  -3.7134  -0.0532\n",
              "9        school  0.027019  1.512680  Topic10  -3.7135  -0.1570\n",
              "3        person  0.027015  2.066892  Topic10  -3.7136  -0.4694\n",
              "16        class  0.027015  2.744365  Topic10  -3.7136  -0.7529\n",
              "21  scholarship  0.027014  1.956125  Topic10  -3.7136  -0.4143\n",
              "\n",
              "[406 rows x 6 columns], token_table=      Topic      Freq           Term\n",
              "term                                \n",
              "11        5  1.038068          angst\n",
              "26        2  0.856249         aspect\n",
              "15        1  0.782063         change\n",
              "16        1  0.728766          class\n",
              "16        2  0.364383          class\n",
              "17        1  0.782061        climate\n",
              "0         1  0.343165        college\n",
              "0         2  0.343165        college\n",
              "0         3  0.343165        college\n",
              "27        2  0.856248        concept\n",
              "39        6  1.038071     contribute\n",
              "31        3  0.954018         degree\n",
              "28        2  0.579497      everybody\n",
              "28        3  0.579497      everybody\n",
              "32        3  0.661072       everyone\n",
              "32        4  0.661072       everyone\n",
              "18        1  0.782062         friend\n",
              "1         3  0.954020       graduate\n",
              "19        1  0.782061          honor\n",
              "35        4  1.047210    information\n",
              "5         2  0.856272       interest\n",
              "2         1  0.782081         marine\n",
              "29        2  0.856249     networking\n",
              "40        6  1.038070          offer\n",
              "30        2  0.856248    opportunity\n",
              "3         1  0.967636         person\n",
              "12        5  1.038069          phase\n",
              "8         4  1.047214        provide\n",
              "36        4  1.047211    regurgitate\n",
              "20        1  0.782062       research\n",
              "13        5  1.038069     resentment\n",
              "21        1  0.511215    scholarship\n",
              "21        2  0.511215    scholarship\n",
              "9         3  0.661078         school\n",
              "9         4  0.661078         school\n",
              "4         1  0.782074        science\n",
              "22        1  0.782063        session\n",
              "23        1  0.782062      something\n",
              "6         2  0.856263          stage\n",
              "7         1  0.544537          study\n",
              "7         3  0.544537          study\n",
              "10        4  1.047213        teacher\n",
              "38        6  0.733415          thing\n",
              "24        1  0.782062  undergraduate\n",
              "25        1  0.782062     university, R=30, lambda_step=0.01, plot_opts={xlab: PC1, ylab: PC2}, topic_order=[8, 3, 9, 10, 2, 5, 1, 4, 6, 7])"
            ],
            "text/html": [
              "\n",
              "<link rel=\"stylesheet\" type=\"text/css\" href=\"https://cdn.jsdelivr.net/gh/bmabey/pyLDAvis@3.3.1/pyLDAvis/js/ldavis.v1.0.0.css\">\n",
              "\n",
              "\n",
              "<div id=\"ldavis_el601403293509252647104634665\"></div>\n",
              "<script type=\"text/javascript\">\n",
              "\n",
              "var ldavis_el601403293509252647104634665_data = {\"mdsDat\": {\"x\": [0.15287520621627895, 0.09631111870362424, -0.05523277453889842, -0.15934337854872282, -0.020044161996295117, -0.023459979310600537, 0.024033280433477452, -0.013205482262903228, -0.008159502219967996, 0.0062256735240071755], \"y\": [-0.02071920924609845, 0.10046929013836868, 0.1235118514945506, 0.0320979621306099, -0.06586243619889232, -0.0940254146783181, 0.030674287662756285, -0.0666711909492178, -0.03682835506141101, -0.0026467852923478916], \"topics\": [1, 2, 3, 4, 5, 6, 7, 8, 9, 10], \"cluster\": [1, 1, 1, 1, 1, 1, 1, 1, 1, 1], \"Freq\": [32.86820296116961, 18.022823992383408, 11.680907750851116, 8.850973646871308, 6.335167949405434, 6.335164677475976, 4.60565414256336, 4.60561177617279, 4.605608240661473, 2.089884862445529]}, \"tinfo\": {\"Term\": [\"thing\", \"college\", \"place\", \"field\", \"sibling\", \"confidence\", \"phase\", \"resentment\", \"contribute\", \"offer\", \"angst\", \"school\", \"everyone\", \"everybody\", \"provide\", \"teacher\", \"information\", \"regurgitate\", \"graduate\", \"degree\", \"study\", \"concept\", \"opportunity\", \"networking\", \"aspect\", \"stage\", \"interest\", \"person\", \"scholarship\", \"marine\", \"person\", \"honor\", \"climate\", \"undergraduate\", \"friend\", \"something\", \"research\", \"university\", \"session\", \"change\", \"science\", \"marine\", \"class\", \"study\", \"scholarship\", \"college\", \"field\", \"confidence\", \"sibling\", \"place\", \"information\", \"regurgitate\", \"provide\", \"teacher\", \"angst\", \"offer\", \"phase\", \"resentment\", \"contribute\", \"degree\", \"everyone\", \"everybody\", \"thing\", \"interest\", \"school\", \"stage\", \"graduate\", \"concept\", \"opportunity\", \"networking\", \"aspect\", \"stage\", \"interest\", \"everybody\", \"scholarship\", \"class\", \"college\", \"confidence\", \"field\", \"place\", \"sibling\", \"information\", \"regurgitate\", \"teacher\", \"provide\", \"angst\", \"contribute\", \"resentment\", \"offer\", \"phase\", \"degree\", \"graduate\", \"marine\", \"science\", \"change\", \"session\", \"university\", \"everyone\", \"study\", \"thing\", \"school\", \"person\", \"degree\", \"graduate\", \"everyone\", \"school\", \"everybody\", \"study\", \"college\", \"sibling\", \"field\", \"place\", \"confidence\", \"regurgitate\", \"information\", \"provide\", \"teacher\", \"angst\", \"offer\", \"contribute\", \"phase\", \"resentment\", \"interest\", \"stage\", \"aspect\", \"opportunity\", \"networking\", \"concept\", \"marine\", \"science\", \"session\", \"change\", \"thing\", \"person\", \"class\", \"scholarship\", \"teacher\", \"provide\", \"regurgitate\", \"information\", \"school\", \"everyone\", \"place\", \"confidence\", \"sibling\", \"field\", \"angst\", \"contribute\", \"offer\", \"phase\", \"resentment\", \"degree\", \"graduate\", \"interest\", \"stage\", \"aspect\", \"networking\", \"opportunity\", \"concept\", \"marine\", \"science\", \"session\", \"change\", \"research\", \"something\", \"university\", \"friend\", \"everybody\", \"study\", \"college\", \"thing\", \"person\", \"class\", \"scholarship\", \"phase\", \"resentment\", \"angst\", \"confidence\", \"sibling\", \"field\", \"place\", \"regurgitate\", \"information\", \"teacher\", \"provide\", \"contribute\", \"offer\", \"graduate\", \"degree\", \"stage\", \"interest\", \"concept\", \"aspect\", \"networking\", \"opportunity\", \"marine\", \"science\", \"change\", \"university\", \"session\", \"something\", \"research\", \"friend\", \"honor\", \"everyone\", \"everybody\", \"college\", \"study\", \"school\", \"thing\", \"person\", \"class\", \"scholarship\", \"contribute\", \"offer\", \"thing\", \"confidence\", \"sibling\", \"place\", \"field\", \"regurgitate\", \"provide\", \"information\", \"teacher\", \"angst\", \"resentment\", \"phase\", \"degree\", \"graduate\", \"interest\", \"stage\", \"networking\", \"concept\", \"aspect\", \"opportunity\", \"marine\", \"science\", \"session\", \"university\", \"something\", \"change\", \"research\", \"friend\", \"everyone\", \"everybody\", \"college\", \"study\", \"school\", \"person\", \"class\", \"scholarship\", \"sibling\", \"college\", \"field\", \"confidence\", \"place\", \"information\", \"regurgitate\", \"provide\", \"teacher\", \"angst\", \"contribute\", \"resentment\", \"offer\", \"phase\", \"degree\", \"graduate\", \"interest\", \"stage\", \"opportunity\", \"networking\", \"aspect\", \"concept\", \"marine\", \"science\", \"university\", \"change\", \"research\", \"session\", \"friend\", \"something\", \"climate\", \"everyone\", \"study\", \"everybody\", \"thing\", \"school\", \"person\", \"class\", \"scholarship\", \"confidence\", \"thing\", \"sibling\", \"field\", \"place\", \"information\", \"regurgitate\", \"teacher\", \"provide\", \"angst\", \"phase\", \"contribute\", \"offer\", \"resentment\", \"graduate\", \"degree\", \"interest\", \"stage\", \"aspect\", \"networking\", \"concept\", \"opportunity\", \"marine\", \"science\", \"session\", \"change\", \"university\", \"research\", \"undergraduate\", \"friend\", \"everyone\", \"everybody\", \"study\", \"college\", \"school\", \"person\", \"class\", \"scholarship\", \"place\", \"field\", \"sibling\", \"confidence\", \"information\", \"regurgitate\", \"teacher\", \"provide\", \"angst\", \"offer\", \"contribute\", \"phase\", \"resentment\", \"graduate\", \"degree\", \"interest\", \"stage\", \"aspect\", \"networking\", \"concept\", \"opportunity\", \"marine\", \"science\", \"session\", \"change\", \"university\", \"something\", \"research\", \"undergraduate\", \"friend\", \"everyone\", \"college\", \"study\", \"everybody\", \"thing\", \"school\", \"person\", \"class\", \"scholarship\", \"confidence\", \"field\", \"sibling\", \"place\", \"information\", \"regurgitate\", \"provide\", \"teacher\", \"angst\", \"offer\", \"contribute\", \"resentment\", \"phase\", \"graduate\", \"degree\", \"interest\", \"stage\", \"networking\", \"opportunity\", \"concept\", \"aspect\", \"marine\", \"science\", \"change\", \"research\", \"something\", \"session\", \"undergraduate\", \"university\", \"honor\", \"college\", \"everybody\", \"everyone\", \"study\", \"thing\", \"school\", \"person\", \"class\", \"scholarship\"], \"Freq\": [1.0, 2.0, 0.0, 0.0, 0.0, 0.0, 0.0, 0.0, 0.0, 0.0, 0.0, 1.0, 1.0, 1.0, 0.0, 0.0, 0.0, 0.0, 1.0, 1.0, 1.0, 1.0, 1.0, 1.0, 1.0, 1.0, 1.0, 2.0, 1.0, 1.0, 1.6552453727838363, 0.8670587942830759, 0.8670583400173232, 0.8670573665907103, 0.8670567825347426, 0.8670561335836674, 0.867055095261947, 0.8670542516255492, 0.8670518505065707, 0.8670517207163557, 0.867010122952433, 0.8669837755387783, 1.655291058939533, 0.8670775489691502, 0.8670586644928608, 0.8670814426756017, 0.07883952487190032, 0.0788378375991047, 0.07883684794871497, 0.0788336275290041, 0.07884114724958842, 0.0788397195572229, 0.07883125074569104, 0.07883125074569104, 0.0788356311654489, 0.07883281634016005, 0.07883149410234425, 0.07883135620024076, 0.07883089382259965, 0.07883499843815053, 0.07886542613169077, 0.07884896711004505, 0.07884386473221598, 0.07883821885786141, 0.07883641801862762, 0.07883539592068413, 0.078833846549992, 0.7451864765266412, 0.7451856936713007, 0.7451826334186062, 0.7451826334186062, 0.7451187239553587, 0.7450843494890462, 0.7452002832481, 0.7451866900326432, 0.7451888962613298, 0.7452138052948896, 0.0677600973690662, 0.06775665903282661, 0.06775592510594494, 0.06775537799681497, 0.067758095750298, 0.06775435939526404, 0.06775340306629701, 0.06775309170337751, 0.06775397241563552, 0.06775258907466461, 0.06775216651070244, 0.06775157936919711, 0.06775080096189837, 0.06775411475297015, 0.06775374111746675, 0.06775304277491874, 0.06775149485640466, 0.06774809655254045, 0.06774784301416314, 0.06774758057970243, 0.06778119443088296, 0.0677672453720895, 0.06776072454294689, 0.06775787779625435, 0.06775168612219808, 0.6134894872509506, 0.6134877344759003, 0.6135307235902926, 0.6135060463626103, 0.6133985735766295, 0.6133984351996519, 0.6134757879301626, 0.055787278176249386, 0.055786038549157875, 0.05578507567602167, 0.05578507567602167, 0.05578847744338909, 0.055784233882740925, 0.05578269443886448, 0.05578241191920176, 0.055784032082981834, 0.0557824984048128, 0.05578212939953905, 0.055781581657335814, 0.05578113193215843, 0.05579055886376136, 0.05578619998896514, 0.05577967320818562, 0.05577955212833017, 0.05577928690578966, 0.05577904474607876, 0.05578380145468574, 0.055781489406017376, 0.055778964026175125, 0.0557789063691011, 0.05579008607575436, 0.05578254453047202, 0.05578195066260957, 0.05578083788108091, 0.5108889244145705, 0.5108884700542555, 0.5108638297448681, 0.5108621870575756, 0.5108949010002516, 0.5107545386137271, 0.046456743204322894, 0.04645651602416542, 0.04645532332833869, 0.0464544146077088, 0.046454484509295714, 0.046452588428750656, 0.046452588428750656, 0.04645260590414738, 0.04645104185614017, 0.04645513983667304, 0.04645457188627936, 0.04645626699976204, 0.04645449324699408, 0.0464499321684479, 0.046449748676782254, 0.046449748676782254, 0.046449569553965786, 0.046454292279931704, 0.04645222581426854, 0.046449573922814964, 0.046449508390077235, 0.04644926373452303, 0.04644925936567385, 0.046448992865873735, 0.04644901034127047, 0.04646491295229354, 0.04646355424019789, 0.04646273289655164, 0.04646170621699383, 0.04645321754303289, 0.04645130835594028, 0.046450784094038425, 0.5201496713624019, 0.520147870184454, 0.5201266062781259, 0.04729892665490447, 0.04729860144221945, 0.04729638436728024, 0.04729436116913402, 0.0472978853489034, 0.04729750697645256, 0.04729421419801676, 0.04729333237131315, 0.04729373888716942, 0.04729354188333138, 0.0472968158994969, 0.047294952180648143, 0.04729872339697633, 0.04729749134122732, 0.04729158122608613, 0.04729142487383372, 0.047291209107725385, 0.047290818227094356, 0.0472953837128648, 0.04729436742322412, 0.04729066187484195, 0.04729069001824738, 0.04729040545714799, 0.047290392948967794, 0.04729037105965246, 0.047290324153976736, 0.04729033040806683, 0.04731209151455759, 0.04730691312795769, 0.04730359846020655, 0.047300990504636306, 0.047299636494130416, 0.04729870463470604, 0.04729379204693524, 0.04729279451956485, 0.047291590607221275, 0.5201428484372326, 0.5201419978814187, 0.5201456502681487, 0.047300559559408095, 0.047297610757450564, 0.04729710104937095, 0.047296916553808396, 0.04729552189243717, 0.04729504658183532, 0.047294702607057676, 0.04729369569907217, 0.04729628489103488, 0.04729393648141653, 0.04729328918342586, 0.04729538742956955, 0.047293792637418605, 0.047297713949883864, 0.04729516853652922, 0.04729113152345693, 0.04729090324928631, 0.04729076565937525, 0.04729059679902985, 0.04729627863694802, 0.04729343615446722, 0.04729046859024909, 0.04729044044685819, 0.04729043731981476, 0.0472903747789461, 0.0472902903487734, 0.04729021217268757, 0.047315269171717966, 0.0473050687560388, 0.047304809211433846, 0.04730348334501816, 0.04729735121284561, 0.047293495568292446, 0.047292666901782646, 0.04729232918109186, 0.44010311882974595, 0.44012610699909227, 0.040022152762847686, 0.0400220618286335, 0.040020029448946434, 0.040021216140441566, 0.0400198657673609, 0.04001933380220791, 0.04001920649430805, 0.04002039318580318, 0.04001933834891862, 0.04001933834891862, 0.040018892771269104, 0.04001780610740958, 0.0400206478016029, 0.040018697262708604, 0.04002410784845269, 0.04002044319962098, 0.04001666488302154, 0.0400164511876182, 0.04001636934682543, 0.04001618293168635, 0.04002024769106048, 0.04001819257781987, 0.0400159646895723, 0.04001593286259734, 0.040015951049440175, 0.040015819194829605, 0.04001571007377258, 0.040015560032319174, 0.04001559640600485, 0.0400398712944819, 0.04003026409475311, 0.040028168061116115, 0.04002420332937759, 0.04002192997402293, 0.04001951112392557, 0.040017478744238506, 0.04001692859224268, 0.4400956876971539, 0.4401157294135996, 0.040021952834693154, 0.04002096620754508, 0.04002024328719234, 0.040020634300716465, 0.04002046607396771, 0.04001915663332879, 0.040018251846220654, 0.04001984772699933, 0.0400186974197714, 0.04001841552630052, 0.04001837460628055, 0.040018006326100856, 0.040021607287857884, 0.040018911113209, 0.04002177551460663, 0.040019711326932786, 0.040016978778932816, 0.040016865112210684, 0.040016283138593386, 0.040016283138593386, 0.040019261206713154, 0.04001817909951849, 0.04001583301837376, 0.04001567843163167, 0.04001567843163167, 0.040015660244956126, 0.040015592044922846, 0.040015546578234, 0.04003654309514555, 0.04003250110650667, 0.04002970490514231, 0.04002684959708244, 0.0400229167284968, 0.04001917936667322, 0.040017588032563424, 0.040016555938726495, 0.44011019017226427, 0.4401017515612914, 0.04002234495160603, 0.040021590205150476, 0.04002100823197993, 0.04002061267209058, 0.04001894404589067, 0.04001818929943511, 0.04002029440551294, 0.04001845300602802, 0.040017948326169187, 0.0400175845929376, 0.04001719357971364, 0.04002008071223938, 0.040019394165764756, 0.040023654391239755, 0.0400211309919456, 0.04001607055336111, 0.04001596143339163, 0.040015879593414516, 0.04001568863346794, 0.040019421445757125, 0.04001863941930921, 0.04001572955345649, 0.040015493126855955, 0.040015452206867405, 0.04001538400688648, 0.040015183953609104, 0.040015202140270684, 0.04001507483363963, 0.04003630321436828, 0.04003010156276968, 0.04002889214977465, 0.04002642331046523, 0.0400249365508811, 0.04002379988453239, 0.040018712165955525, 0.040016929873120735, 0.04001668435318941, 0.027017381121436732, 0.02701669409635194, 0.02701645477229838, 0.027015400508579677, 0.027017537919954582, 0.02701708196636978, 0.02701529941479843, 0.027014309108369904, 0.027016114354463574, 0.027015047711914514, 0.027014897102811842, 0.02701493217616452, 0.02701397075367349, 0.027015408761133248, 0.02701477537764667, 0.027018777866128635, 0.027015524296883243, 0.027013327054494947, 0.02701318882422263, 0.027013176445392275, 0.027013122803794063, 0.027015053901329692, 0.02701384283909314, 0.027012966005276213, 0.02701296394213782, 0.02701291855309318, 0.027012856658941396, 0.027012790638512828, 0.0270127411231914, 0.02701270192356194, 0.027023791292423056, 0.02702280098599453, 0.02702218410761509, 0.02702145169348566, 0.027019813561601803, 0.02701887070735631, 0.02701483727179845, 0.027014721736048457, 0.027013937743459206], \"Total\": [1.0, 2.0, 0.0, 0.0, 0.0, 0.0, 0.0, 0.0, 0.0, 0.0, 0.0, 1.0, 1.0, 1.0, 0.0, 0.0, 0.0, 0.0, 1.0, 1.0, 1.0, 1.0, 1.0, 1.0, 1.0, 1.0, 1.0, 2.0, 1.0, 1.0, 2.06689234852312, 1.2786722211831927, 1.2786721166186803, 1.2786716292272142, 1.2786714633048355, 1.2786709026544003, 1.2786703970575026, 1.2786702947570767, 1.2786693439427221, 1.2786693391082238, 1.2786519905425553, 1.2786405586429879, 2.744365394026732, 1.8364215704738995, 1.9561250029165544, 2.9140490259202134, 0.8905915026107184, 0.8905957337350452, 0.8905949110381316, 0.8905886971507813, 0.9549182701168056, 0.9549178198618736, 0.9549149602579992, 0.9549155163247465, 0.9633276610153018, 0.963325790403163, 0.9633275020453456, 0.9633269735960099, 0.9633253873541561, 1.0481978083471852, 1.5126941451644795, 1.7256346122351471, 1.363485419326226, 1.1678529151219699, 1.5126797481791283, 1.1678655148608903, 1.0481962965904927, 1.1678854485762173, 1.1678855190140864, 1.1678847015292753, 1.1678848875709043, 1.1678655148608903, 1.1678529151219699, 1.7256346122351471, 1.9561250029165544, 2.744365394026732, 2.9140490259202134, 0.8905957337350452, 0.8905915026107184, 0.8905886971507813, 0.8905949110381316, 0.9549182701168056, 0.9549178198618736, 0.9549155163247465, 0.9549149602579992, 0.9633276610153018, 0.9633253873541561, 0.9633269735960099, 0.963325790403163, 0.9633275020453456, 1.0481978083471852, 1.0481962965904927, 1.2786405586429879, 1.2786519905425553, 1.2786693391082238, 1.2786693439427221, 1.2786702947570767, 1.5126941451644795, 1.8364215704738995, 1.363485419326226, 1.5126797481791283, 2.06689234852312, 1.0481978083471852, 1.0481962965904927, 1.5126941451644795, 1.5126797481791283, 1.7256346122351471, 1.8364215704738995, 2.9140490259202134, 0.8905949110381316, 0.8905915026107184, 0.8905886971507813, 0.8905957337350452, 0.9549178198618736, 0.9549182701168056, 0.9549149602579992, 0.9549155163247465, 0.9633276610153018, 0.963325790403163, 0.9633253873541561, 0.9633275020453456, 0.9633269735960099, 1.1678529151219699, 1.1678655148608903, 1.1678848875709043, 1.1678855190140864, 1.1678847015292753, 1.1678854485762173, 1.2786405586429879, 1.2786519905425553, 1.2786693439427221, 1.2786693391082238, 1.363485419326226, 2.06689234852312, 2.744365394026732, 1.9561250029165544, 0.9549155163247465, 0.9549149602579992, 0.9549178198618736, 0.9549182701168056, 1.5126797481791283, 1.5126941451644795, 0.8905886971507813, 0.8905957337350452, 0.8905949110381316, 0.8905915026107184, 0.9633276610153018, 0.9633253873541561, 0.963325790403163, 0.9633275020453456, 0.9633269735960099, 1.0481978083471852, 1.0481962965904927, 1.1678529151219699, 1.1678655148608903, 1.1678848875709043, 1.1678847015292753, 1.1678855190140864, 1.1678854485762173, 1.2786405586429879, 1.2786519905425553, 1.2786693439427221, 1.2786693391082238, 1.2786703970575026, 1.2786709026544003, 1.2786702947570767, 1.2786714633048355, 1.7256346122351471, 1.8364215704738995, 2.9140490259202134, 1.363485419326226, 2.06689234852312, 2.744365394026732, 1.9561250029165544, 0.9633275020453456, 0.9633269735960099, 0.9633276610153018, 0.8905957337350452, 0.8905949110381316, 0.8905915026107184, 0.8905886971507813, 0.9549178198618736, 0.9549182701168056, 0.9549155163247465, 0.9549149602579992, 0.9633253873541561, 0.963325790403163, 1.0481962965904927, 1.0481978083471852, 1.1678655148608903, 1.1678529151219699, 1.1678854485762173, 1.1678848875709043, 1.1678847015292753, 1.1678855190140864, 1.2786405586429879, 1.2786519905425553, 1.2786693391082238, 1.2786702947570767, 1.2786693439427221, 1.2786709026544003, 1.2786703970575026, 1.2786714633048355, 1.2786722211831927, 1.5126941451644795, 1.7256346122351471, 2.9140490259202134, 1.8364215704738995, 1.5126797481791283, 1.363485419326226, 2.06689234852312, 2.744365394026732, 1.9561250029165544, 0.9633253873541561, 0.963325790403163, 1.363485419326226, 0.8905957337350452, 0.8905949110381316, 0.8905886971507813, 0.8905915026107184, 0.9549178198618736, 0.9549149602579992, 0.9549182701168056, 0.9549155163247465, 0.9633276610153018, 0.9633269735960099, 0.9633275020453456, 1.0481978083471852, 1.0481962965904927, 1.1678529151219699, 1.1678655148608903, 1.1678847015292753, 1.1678854485762173, 1.1678848875709043, 1.1678855190140864, 1.2786405586429879, 1.2786519905425553, 1.2786693439427221, 1.2786702947570767, 1.2786709026544003, 1.2786693391082238, 1.2786703970575026, 1.2786714633048355, 1.5126941451644795, 1.7256346122351471, 2.9140490259202134, 1.8364215704738995, 1.5126797481791283, 2.06689234852312, 2.744365394026732, 1.9561250029165544, 0.8905949110381316, 2.9140490259202134, 0.8905915026107184, 0.8905957337350452, 0.8905886971507813, 0.9549182701168056, 0.9549178198618736, 0.9549149602579992, 0.9549155163247465, 0.9633276610153018, 0.9633253873541561, 0.9633269735960099, 0.963325790403163, 0.9633275020453456, 1.0481978083471852, 1.0481962965904927, 1.1678529151219699, 1.1678655148608903, 1.1678855190140864, 1.1678847015292753, 1.1678848875709043, 1.1678854485762173, 1.2786405586429879, 1.2786519905425553, 1.2786702947570767, 1.2786693391082238, 1.2786703970575026, 1.2786693439427221, 1.2786714633048355, 1.2786709026544003, 1.2786721166186803, 1.5126941451644795, 1.8364215704738995, 1.7256346122351471, 1.363485419326226, 1.5126797481791283, 2.06689234852312, 2.744365394026732, 1.9561250029165544, 0.8905957337350452, 1.363485419326226, 0.8905949110381316, 0.8905915026107184, 0.8905886971507813, 0.9549182701168056, 0.9549178198618736, 0.9549155163247465, 0.9549149602579992, 0.9633276610153018, 0.9633275020453456, 0.9633253873541561, 0.963325790403163, 0.9633269735960099, 1.0481962965904927, 1.0481978083471852, 1.1678529151219699, 1.1678655148608903, 1.1678848875709043, 1.1678847015292753, 1.1678854485762173, 1.1678855190140864, 1.2786405586429879, 1.2786519905425553, 1.2786693439427221, 1.2786693391082238, 1.2786702947570767, 1.2786703970575026, 1.2786716292272142, 1.2786714633048355, 1.5126941451644795, 1.7256346122351471, 1.8364215704738995, 2.9140490259202134, 1.5126797481791283, 2.06689234852312, 2.744365394026732, 1.9561250029165544, 0.8905886971507813, 0.8905915026107184, 0.8905949110381316, 0.8905957337350452, 0.9549182701168056, 0.9549178198618736, 0.9549155163247465, 0.9549149602579992, 0.9633276610153018, 0.963325790403163, 0.9633253873541561, 0.9633275020453456, 0.9633269735960099, 1.0481962965904927, 1.0481978083471852, 1.1678529151219699, 1.1678655148608903, 1.1678848875709043, 1.1678847015292753, 1.1678854485762173, 1.1678855190140864, 1.2786405586429879, 1.2786519905425553, 1.2786693439427221, 1.2786693391082238, 1.2786702947570767, 1.2786709026544003, 1.2786703970575026, 1.2786716292272142, 1.2786714633048355, 1.5126941451644795, 2.9140490259202134, 1.8364215704738995, 1.7256346122351471, 1.363485419326226, 1.5126797481791283, 2.06689234852312, 2.744365394026732, 1.9561250029165544, 0.8905957337350452, 0.8905915026107184, 0.8905949110381316, 0.8905886971507813, 0.9549182701168056, 0.9549178198618736, 0.9549149602579992, 0.9549155163247465, 0.9633276610153018, 0.963325790403163, 0.9633253873541561, 0.9633269735960099, 0.9633275020453456, 1.0481962965904927, 1.0481978083471852, 1.1678529151219699, 1.1678655148608903, 1.1678847015292753, 1.1678855190140864, 1.1678854485762173, 1.1678848875709043, 1.2786405586429879, 1.2786519905425553, 1.2786693391082238, 1.2786703970575026, 1.2786709026544003, 1.2786693439427221, 1.2786716292272142, 1.2786702947570767, 1.2786722211831927, 2.9140490259202134, 1.7256346122351471, 1.5126941451644795, 1.8364215704738995, 1.363485419326226, 1.5126797481791283, 2.06689234852312, 2.744365394026732, 1.9561250029165544], \"Category\": [\"Default\", \"Default\", \"Default\", \"Default\", \"Default\", \"Default\", \"Default\", \"Default\", \"Default\", \"Default\", \"Default\", \"Default\", \"Default\", \"Default\", \"Default\", \"Default\", \"Default\", \"Default\", \"Default\", \"Default\", \"Default\", \"Default\", \"Default\", \"Default\", \"Default\", \"Default\", \"Default\", \"Default\", \"Default\", \"Default\", \"Topic1\", \"Topic1\", \"Topic1\", \"Topic1\", \"Topic1\", \"Topic1\", \"Topic1\", \"Topic1\", \"Topic1\", \"Topic1\", \"Topic1\", \"Topic1\", \"Topic1\", \"Topic1\", \"Topic1\", \"Topic1\", \"Topic1\", \"Topic1\", \"Topic1\", \"Topic1\", \"Topic1\", \"Topic1\", \"Topic1\", \"Topic1\", \"Topic1\", \"Topic1\", \"Topic1\", \"Topic1\", \"Topic1\", \"Topic1\", \"Topic1\", \"Topic1\", \"Topic1\", \"Topic1\", \"Topic1\", \"Topic1\", \"Topic1\", \"Topic2\", \"Topic2\", \"Topic2\", \"Topic2\", \"Topic2\", \"Topic2\", \"Topic2\", \"Topic2\", \"Topic2\", \"Topic2\", \"Topic2\", \"Topic2\", \"Topic2\", \"Topic2\", \"Topic2\", \"Topic2\", \"Topic2\", \"Topic2\", \"Topic2\", \"Topic2\", \"Topic2\", \"Topic2\", \"Topic2\", \"Topic2\", \"Topic2\", \"Topic2\", \"Topic2\", \"Topic2\", \"Topic2\", \"Topic2\", \"Topic2\", \"Topic2\", \"Topic2\", \"Topic2\", \"Topic2\", \"Topic3\", \"Topic3\", \"Topic3\", \"Topic3\", \"Topic3\", \"Topic3\", \"Topic3\", \"Topic3\", \"Topic3\", \"Topic3\", \"Topic3\", \"Topic3\", \"Topic3\", \"Topic3\", \"Topic3\", \"Topic3\", \"Topic3\", \"Topic3\", \"Topic3\", \"Topic3\", \"Topic3\", \"Topic3\", \"Topic3\", \"Topic3\", \"Topic3\", \"Topic3\", \"Topic3\", \"Topic3\", \"Topic3\", \"Topic3\", \"Topic3\", \"Topic3\", \"Topic3\", \"Topic3\", \"Topic4\", \"Topic4\", \"Topic4\", \"Topic4\", \"Topic4\", \"Topic4\", \"Topic4\", \"Topic4\", \"Topic4\", \"Topic4\", \"Topic4\", \"Topic4\", \"Topic4\", \"Topic4\", \"Topic4\", \"Topic4\", \"Topic4\", \"Topic4\", \"Topic4\", \"Topic4\", \"Topic4\", \"Topic4\", \"Topic4\", \"Topic4\", \"Topic4\", \"Topic4\", \"Topic4\", \"Topic4\", \"Topic4\", \"Topic4\", \"Topic4\", \"Topic4\", \"Topic4\", \"Topic4\", \"Topic4\", \"Topic4\", \"Topic4\", \"Topic4\", \"Topic5\", \"Topic5\", \"Topic5\", \"Topic5\", \"Topic5\", \"Topic5\", \"Topic5\", \"Topic5\", \"Topic5\", \"Topic5\", \"Topic5\", \"Topic5\", \"Topic5\", \"Topic5\", \"Topic5\", \"Topic5\", \"Topic5\", \"Topic5\", \"Topic5\", \"Topic5\", \"Topic5\", \"Topic5\", \"Topic5\", \"Topic5\", \"Topic5\", \"Topic5\", \"Topic5\", \"Topic5\", \"Topic5\", \"Topic5\", \"Topic5\", \"Topic5\", \"Topic5\", \"Topic5\", \"Topic5\", \"Topic5\", \"Topic5\", \"Topic5\", \"Topic5\", \"Topic6\", \"Topic6\", \"Topic6\", \"Topic6\", \"Topic6\", \"Topic6\", \"Topic6\", \"Topic6\", \"Topic6\", \"Topic6\", \"Topic6\", \"Topic6\", \"Topic6\", \"Topic6\", \"Topic6\", \"Topic6\", \"Topic6\", \"Topic6\", \"Topic6\", \"Topic6\", \"Topic6\", \"Topic6\", \"Topic6\", \"Topic6\", \"Topic6\", \"Topic6\", \"Topic6\", \"Topic6\", \"Topic6\", \"Topic6\", \"Topic6\", \"Topic6\", \"Topic6\", \"Topic6\", \"Topic6\", \"Topic6\", \"Topic6\", \"Topic6\", \"Topic7\", \"Topic7\", \"Topic7\", \"Topic7\", \"Topic7\", \"Topic7\", \"Topic7\", \"Topic7\", \"Topic7\", \"Topic7\", \"Topic7\", \"Topic7\", \"Topic7\", \"Topic7\", \"Topic7\", \"Topic7\", \"Topic7\", \"Topic7\", \"Topic7\", \"Topic7\", \"Topic7\", \"Topic7\", \"Topic7\", \"Topic7\", \"Topic7\", \"Topic7\", \"Topic7\", \"Topic7\", \"Topic7\", \"Topic7\", \"Topic7\", \"Topic7\", \"Topic7\", \"Topic7\", \"Topic7\", \"Topic7\", \"Topic7\", \"Topic7\", \"Topic7\", \"Topic8\", \"Topic8\", \"Topic8\", \"Topic8\", \"Topic8\", \"Topic8\", \"Topic8\", \"Topic8\", \"Topic8\", \"Topic8\", \"Topic8\", \"Topic8\", \"Topic8\", \"Topic8\", \"Topic8\", \"Topic8\", \"Topic8\", \"Topic8\", \"Topic8\", \"Topic8\", \"Topic8\", \"Topic8\", \"Topic8\", \"Topic8\", \"Topic8\", \"Topic8\", \"Topic8\", \"Topic8\", \"Topic8\", \"Topic8\", \"Topic8\", \"Topic8\", \"Topic8\", \"Topic8\", \"Topic8\", \"Topic8\", \"Topic8\", \"Topic8\", \"Topic9\", \"Topic9\", \"Topic9\", \"Topic9\", \"Topic9\", \"Topic9\", \"Topic9\", \"Topic9\", \"Topic9\", \"Topic9\", \"Topic9\", \"Topic9\", \"Topic9\", \"Topic9\", \"Topic9\", \"Topic9\", \"Topic9\", \"Topic9\", \"Topic9\", \"Topic9\", \"Topic9\", \"Topic9\", \"Topic9\", \"Topic9\", \"Topic9\", \"Topic9\", \"Topic9\", \"Topic9\", \"Topic9\", \"Topic9\", \"Topic9\", \"Topic9\", \"Topic9\", \"Topic9\", \"Topic9\", \"Topic9\", \"Topic9\", \"Topic9\", \"Topic9\", \"Topic10\", \"Topic10\", \"Topic10\", \"Topic10\", \"Topic10\", \"Topic10\", \"Topic10\", \"Topic10\", \"Topic10\", \"Topic10\", \"Topic10\", \"Topic10\", \"Topic10\", \"Topic10\", \"Topic10\", \"Topic10\", \"Topic10\", \"Topic10\", \"Topic10\", \"Topic10\", \"Topic10\", \"Topic10\", \"Topic10\", \"Topic10\", \"Topic10\", \"Topic10\", \"Topic10\", \"Topic10\", \"Topic10\", \"Topic10\", \"Topic10\", \"Topic10\", \"Topic10\", \"Topic10\", \"Topic10\", \"Topic10\", \"Topic10\", \"Topic10\", \"Topic10\"], \"logprob\": [30.0, 29.0, 28.0, 27.0, 26.0, 25.0, 24.0, 23.0, 22.0, 21.0, 20.0, 19.0, 18.0, 17.0, 16.0, 15.0, 14.0, 13.0, 12.0, 11.0, 10.0, 9.0, 8.0, 7.0, 6.0, 5.0, 4.0, 3.0, 2.0, 1.0, -2.3537, -3.0003, -3.0003, -3.0003, -3.0003, -3.0003, -3.0003, -3.0003, -3.0003, -3.0003, -3.0003, -3.0004, -2.3537, -3.0003, -3.0003, -3.0002, -5.398, -5.398, -5.398, -5.398, -5.3979, -5.398, -5.3981, -5.3981, -5.398, -5.3981, -5.3981, -5.3981, -5.3981, -5.398, -5.3976, -5.3978, -5.3979, -5.398, -5.398, -5.398, -5.398, -2.5509, -2.5509, -2.5509, -2.5509, -2.551, -2.551, -2.5509, -2.5509, -2.5509, -2.5508, -4.9485, -4.9486, -4.9486, -4.9486, -4.9486, -4.9486, -4.9486, -4.9486, -4.9486, -4.9487, -4.9487, -4.9487, -4.9487, -4.9486, -4.9486, -4.9486, -4.9487, -4.9487, -4.9487, -4.9487, -4.9482, -4.9484, -4.9485, -4.9486, -4.9487, -2.3117, -2.3117, -2.3116, -2.3116, -2.3118, -2.3118, -2.3117, -4.7093, -4.7093, -4.7093, -4.7093, -4.7093, -4.7093, -4.7094, -4.7094, -4.7093, -4.7094, -4.7094, -4.7094, -4.7094, -4.7092, -4.7093, -4.7094, -4.7094, -4.7094, -4.7094, -4.7093, -4.7094, -4.7094, -4.7094, -4.7092, -4.7094, -4.7094, -4.7094, -2.2173, -2.2173, -2.2173, -2.2173, -2.2172, -2.2175, -4.6149, -4.6149, -4.6149, -4.6149, -4.6149, -4.615, -4.615, -4.615, -4.615, -4.6149, -4.6149, -4.6149, -4.6149, -4.615, -4.615, -4.615, -4.615, -4.6149, -4.615, -4.615, -4.615, -4.615, -4.615, -4.615, -4.615, -4.6147, -4.6147, -4.6148, -4.6148, -4.615, -4.615, -4.615, -1.8649, -1.8649, -1.8649, -4.2625, -4.2625, -4.2626, -4.2626, -4.2625, -4.2625, -4.2626, -4.2626, -4.2626, -4.2626, -4.2626, -4.2626, -4.2625, -4.2625, -4.2627, -4.2627, -4.2627, -4.2627, -4.2626, -4.2626, -4.2627, -4.2627, -4.2627, -4.2627, -4.2627, -4.2627, -4.2627, -4.2622, -4.2623, -4.2624, -4.2625, -4.2625, -4.2625, -4.2626, -4.2626, -4.2627, -1.8649, -1.8649, -1.8649, -4.2625, -4.2625, -4.2625, -4.2625, -4.2626, -4.2626, -4.2626, -4.2626, -4.2626, -4.2626, -4.2626, -4.2626, -4.2626, -4.2625, -4.2626, -4.2627, -4.2627, -4.2627, -4.2627, -4.2626, -4.2626, -4.2627, -4.2627, -4.2627, -4.2627, -4.2627, -4.2627, -4.2622, -4.2624, -4.2624, -4.2624, -4.2625, -4.2626, -4.2626, -4.2626, -1.7132, -1.7131, -4.1107, -4.1107, -4.1108, -4.1108, -4.1108, -4.1108, -4.1108, -4.1108, -4.1108, -4.1108, -4.1108, -4.1108, -4.1108, -4.1108, -4.1107, -4.1108, -4.1109, -4.1109, -4.1109, -4.1109, -4.1108, -4.1108, -4.1109, -4.1109, -4.1109, -4.1109, -4.1109, -4.1109, -4.1109, -4.1103, -4.1105, -4.1106, -4.1107, -4.1107, -4.1108, -4.1108, -4.1109, -1.7132, -1.7131, -4.1107, -4.1107, -4.1108, -4.1108, -4.1108, -4.1108, -4.1108, -4.1108, -4.1108, -4.1108, -4.1108, -4.1108, -4.1107, -4.1108, -4.1107, -4.1108, -4.1108, -4.1109, -4.1109, -4.1109, -4.1108, -4.1108, -4.1109, -4.1109, -4.1109, -4.1109, -4.1109, -4.1109, -4.1104, -4.1105, -4.1105, -4.1106, -4.1107, -4.1108, -4.1108, -4.1109, -1.7131, -1.7131, -4.1107, -4.1107, -4.1107, -4.1108, -4.1108, -4.1108, -4.1108, -4.1108, -4.1108, -4.1108, -4.1108, -4.1108, -4.1108, -4.1107, -4.1107, -4.1109, -4.1109, -4.1109, -4.1109, -4.1108, -4.1108, -4.1109, -4.1109, -4.1109, -4.1109, -4.1109, -4.1109, -4.1109, -4.1104, -4.1105, -4.1106, -4.1106, -4.1106, -4.1107, -4.1108, -4.1108, -4.1109, -3.7135, -3.7135, -3.7135, -3.7136, -3.7135, -3.7135, -3.7136, -3.7136, -3.7136, -3.7136, -3.7136, -3.7136, -3.7136, -3.7136, -3.7136, -3.7135, -3.7136, -3.7137, -3.7137, -3.7137, -3.7137, -3.7136, -3.7136, -3.7137, -3.7137, -3.7137, -3.7137, -3.7137, -3.7137, -3.7137, -3.7133, -3.7133, -3.7133, -3.7134, -3.7134, -3.7135, -3.7136, -3.7136, -3.7136], \"loglift\": [30.0, 29.0, 28.0, 27.0, 26.0, 25.0, 24.0, 23.0, 22.0, 21.0, 20.0, 19.0, 18.0, 17.0, 16.0, 15.0, 14.0, 13.0, 12.0, 11.0, 10.0, 9.0, 8.0, 7.0, 6.0, 5.0, 4.0, 3.0, 2.0, 1.0, 0.8906, 0.7242, 0.7242, 0.7242, 0.7242, 0.7242, 0.7242, 0.7242, 0.7242, 0.7242, 0.7242, 0.7241, 0.6071, 0.3622, 0.2991, -0.0995, -1.3118, -1.3118, -1.3118, -1.3119, -1.3815, -1.3815, -1.3816, -1.3816, -1.3904, -1.3904, -1.3904, -1.3904, -1.3904, -1.4748, -1.8412, -1.9732, -1.7377, -1.5829, -1.8416, -1.5829, -1.4748, 1.2642, 1.2642, 1.2642, 1.2642, 1.2641, 1.2641, 0.8738, 0.7484, 0.4099, 0.3499, -0.8624, -0.8624, -0.8624, -0.8625, -0.9322, -0.9322, -0.9322, -0.9322, -0.941, -0.941, -0.941, -0.941, -0.941, -1.0254, -1.0254, -1.2242, -1.2242, -1.2242, -1.2243, -1.2243, -1.3918, -1.586, -1.2883, -1.3922, -1.7044, 1.6116, 1.6115, 1.2448, 1.2448, 1.1129, 1.0507, 0.5891, -0.6231, -0.6231, -0.6232, -0.6232, -0.6928, -0.6929, -0.6929, -0.6929, -0.7017, -0.7017, -0.7017, -0.7017, -0.7017, -0.8941, -0.8942, -0.8943, -0.8943, -0.8943, -0.8943, -0.9849, -0.9849, -0.985, -0.985, -1.049, -1.4651, -1.7486, -1.4101, 1.7992, 1.7992, 1.7991, 1.7991, 1.3392, 1.3389, -0.5287, -0.5287, -0.5288, -0.5288, -0.6073, -0.6073, -0.6073, -0.6073, -0.6074, -0.6917, -0.6917, -0.7998, -0.7998, -0.7999, -0.7999, -0.7999, -0.7999, -0.8904, -0.8905, -0.8906, -0.8906, -0.8906, -0.8906, -0.8906, -0.8906, -1.19, -1.2523, -1.714, -0.9545, -1.3707, -1.6543, -1.3157, 2.1428, 2.1428, 2.1427, -0.1763, -0.1764, -0.1764, -0.1764, -0.2461, -0.2461, -0.2462, -0.2462, -0.255, -0.255, -0.3393, -0.3394, -0.4474, -0.4474, -0.4476, -0.4476, -0.4476, -0.4476, -0.5381, -0.5381, -0.5382, -0.5382, -0.5382, -0.5382, -0.5382, -0.5382, -0.5382, -0.7058, -0.8376, -1.3617, -0.9, -0.7061, -0.6023, -1.0184, -1.3019, -0.9633, 2.1428, 2.1428, 1.7954, -0.1763, -0.1764, -0.1764, -0.1764, -0.2462, -0.2462, -0.2462, -0.2462, -0.2549, -0.255, -0.255, -0.3394, -0.3394, -0.4474, -0.4475, -0.4476, -0.4476, -0.4476, -0.4476, -0.5381, -0.5381, -0.5382, -0.5382, -0.5382, -0.5382, -0.5382, -0.5382, -0.7058, -0.8377, -1.3616, -0.8999, -0.7061, -1.0184, -1.3019, -0.9633, 2.373, 1.1876, -0.0246, -0.0246, -0.0246, -0.0943, -0.0944, -0.0944, -0.0944, -0.1031, -0.1031, -0.1031, -0.1032, -0.1032, -0.1875, -0.1876, -0.2956, -0.2957, -0.2958, -0.2958, -0.2958, -0.2958, -0.3863, -0.3863, -0.3864, -0.3864, -0.3864, -0.3864, -0.3864, -0.3864, -0.3864, -0.5539, -0.7481, -0.6859, -0.4504, -0.5543, -0.8665, -1.1501, -0.8115, 2.373, 1.9471, -0.0246, -0.0246, -0.0246, -0.0943, -0.0943, -0.0944, -0.0944, -0.1031, -0.1032, -0.1032, -0.1032, -0.1032, -0.1875, -0.1876, -0.2956, -0.2957, -0.2958, -0.2958, -0.2958, -0.2958, -0.3863, -0.3863, -0.3864, -0.3864, -0.3864, -0.3864, -0.3864, -0.3864, -0.554, -0.6858, -0.7481, -1.2099, -0.5543, -0.8665, -1.1501, -0.8115, 2.373, 2.373, -0.0246, -0.0246, -0.0943, -0.0943, -0.0944, -0.0944, -0.1031, -0.1032, -0.1032, -0.1032, -0.1032, -0.1875, -0.1876, -0.2956, -0.2956, -0.2958, -0.2958, -0.2958, -0.2958, -0.3863, -0.3863, -0.3864, -0.3864, -0.3864, -0.3864, -0.3864, -0.3864, -0.3864, -0.554, -1.2098, -0.7481, -0.6859, -0.4504, -0.5543, -0.8666, -1.1501, -0.8115, 0.3727, 0.3726, 0.3726, 0.3726, 0.3029, 0.3029, 0.3028, 0.3028, 0.2941, 0.2941, 0.2941, 0.2941, 0.294, 0.2096, 0.2096, 0.1017, 0.1015, 0.1014, 0.1014, 0.1014, 0.1014, 0.0109, 0.0108, 0.0108, 0.0108, 0.0108, 0.0108, 0.0108, 0.0108, 0.0108, -0.8125, -0.2886, -0.1569, -0.3509, -0.0532, -0.157, -0.4694, -0.7529, -0.4143]}, \"token.table\": {\"Topic\": [5, 2, 1, 1, 2, 1, 1, 2, 3, 2, 6, 3, 2, 3, 3, 4, 1, 3, 1, 4, 2, 1, 2, 6, 2, 1, 5, 4, 4, 1, 5, 1, 2, 3, 4, 1, 1, 1, 2, 1, 3, 4, 6, 1, 1], \"Freq\": [1.0380683961115031, 0.8562487712979232, 0.7820630161488232, 0.7287659304963962, 0.3643829652481981, 0.7820613173644541, 0.34316512560533013, 0.34316512560533013, 0.34316512560533013, 0.8562483599903669, 1.0380708461826937, 0.9540184038133181, 0.5794969531265597, 0.5794969531265597, 0.661072169279314, 0.661072169279314, 0.7820617169444094, 0.9540197797423415, 0.7820612534107223, 1.0472100401615312, 0.8562722129229438, 0.782080619326899, 0.85624890769659, 1.0380704118608601, 0.8562483083480535, 0.9676362687341132, 1.0380685674153298, 1.0472136699270265, 1.0472105339333257, 0.7820623690837111, 1.0380691368654331, 0.5112147733447577, 0.5112147733447577, 0.6610784610580918, 0.6610784610580918, 0.7820736270669565, 0.782063013191935, 0.7820620598498755, 0.8562629748675424, 0.5445372762322456, 0.5445372762322456, 1.0472130601131853, 0.7334145168154095, 0.7820616154628894, 0.782062431652861], \"Term\": [\"angst\", \"aspect\", \"change\", \"class\", \"class\", \"climate\", \"college\", \"college\", \"college\", \"concept\", \"contribute\", \"degree\", \"everybody\", \"everybody\", \"everyone\", \"everyone\", \"friend\", \"graduate\", \"honor\", \"information\", \"interest\", \"marine\", \"networking\", \"offer\", \"opportunity\", \"person\", \"phase\", \"provide\", \"regurgitate\", \"research\", \"resentment\", \"scholarship\", \"scholarship\", \"school\", \"school\", \"science\", \"session\", \"something\", \"stage\", \"study\", \"study\", \"teacher\", \"thing\", \"undergraduate\", \"university\"]}, \"R\": 30, \"lambda.step\": 0.01, \"plot.opts\": {\"xlab\": \"PC1\", \"ylab\": \"PC2\"}, \"topic.order\": [8, 3, 9, 10, 2, 5, 1, 4, 6, 7]};\n",
              "\n",
              "function LDAvis_load_lib(url, callback){\n",
              "  var s = document.createElement(script);\n",
              "  s.src = url;\n",
              "  s.async = true;\n",
              "  s.onreadystatechange = s.onload = callback;\n",
              "  s.onerror = function(){console.warn(\"failed to load library \" + url);};\n",
              "  document.getElementsByTagName(\"head\")[0].appendChild(s);\n",
              "}\n",
              "\n",
              "if(typeof(LDAvis) !== \"undefined\"){\n",
              "   // already loaded: just create the visualization\n",
              "   !function(LDAvis){\n",
              "       new LDAvis(\"#\" + \"ldavis_el601403293509252647104634665\", ldavis_el601403293509252647104634665_data);\n",
              "   }(LDAvis);\n",
              "}else if(typeof define === \"function\" && define.amd){\n",
              "   // require.js is available: use it to load d3/LDAvis\n",
              "   require.config({paths: {d3: \"https://d3js.org/d3.v5\"}});\n",
              "   require([\"d3\"], function(d3){\n",
              "      window.d3 = d3;\n",
              "      LDAvis_load_lib(\"https://cdn.jsdelivr.net/gh/bmabey/pyLDAvis@3.3.1/pyLDAvis/js/ldavis.v3.0.0.js\", function(){\n",
              "        new LDAvis(\"#\" + \"ldavis_el601403293509252647104634665\", ldavis_el601403293509252647104634665_data);\n",
              "      });\n",
              "    });\n",
              "}else{\n",
              "    // require.js not available: dynamically load d3 & LDAvis\n",
              "    LDAvis_load_lib(\"https://d3js.org/d3.v5.js\", function(){\n",
              "         LDAvis_load_lib(\"https://cdn.jsdelivr.net/gh/bmabey/pyLDAvis@3.3.1/pyLDAvis/js/ldavis.v3.0.0.js\", function(){\n",
              "                 new LDAvis(\"#\" + \"ldavis_el601403293509252647104634665\", ldavis_el601403293509252647104634665_data);\n",
              "            })\n",
              "         });\n",
              "}\n",
              "</script>"
            ]
          },
          "metadata": {},
          "execution_count": 41
        }
      ]
    }
  ]
}